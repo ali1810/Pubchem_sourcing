{
  "cells": [
    {
      "cell_type": "code",
      "execution_count": 1,
      "source": [
        "##install pubchem python library\n",
        "!pip install pubchempy"
      ],
      "outputs": [
        {
          "output_type": "stream",
          "name": "stdout",
          "text": [
            "Requirement already satisfied: pubchempy in /opt/miniconda3/lib/python3.9/site-packages (1.0.4)\n"
          ]
        }
      ],
      "metadata": {
        "colab": {
          "base_uri": "https://localhost:8080/"
        },
        "id": "wt82IefwMqJH",
        "outputId": "a61a2da0-aa44-4bd3-f53a-b6529c6b52c9"
      }
    },
    {
      "cell_type": "code",
      "execution_count": 2,
      "source": [
        "import requests\n",
        "from bs4 import BeautifulSoup\n",
        "import re\n",
        "import pubchempy as pcp\n",
        "import pandas as pd"
      ],
      "outputs": [],
      "metadata": {
        "id": "spuule1WLNOv"
      }
    },
    {
      "cell_type": "code",
      "execution_count": 3,
      "source": [
        "### Function to scrap the data from PubChem\n",
        "def cid_to_sol(id):\n",
        "   x=\"https://pubchem.ncbi.nlm.nih.gov/rest/pug_view/data/compound/%s/xml\"\n",
        "   data=requests.get(x % id)#,timeout=(10,20) )\n",
        "   html = BeautifulSoup(data.content, \"xml\")\n",
        "   solubility = html.find(name='TOCHeading', string='Solubility')\n",
        "   #print(dtype(solubility))\n",
        "   if solubility == None:\n",
        "      return None\n",
        "   #elif          # or pass\n",
        "   else:\n",
        "     solub=solubility.find_next_sibling('Information').find(name='String').string\n",
        "     return solub"
      ],
      "outputs": [],
      "metadata": {
        "id": "VPV0EFvG7LVf"
      }
    },
    {
      "cell_type": "code",
      "execution_count": null,
      "source": [
        "### Another function to scrap the data based on smiles \n",
        "def smiles_to_sol(SMILES):\n",
        "    try:\n",
        "        prop = pcp.get_properties(['MolecularWeight'], SMILES, 'smiles')\n",
        "        x = list(map(lambda x: x[\"CID\"], prop))\n",
        "        if not x:\n",
        "            return None\n",
        "        y = x[0]\n",
        "\n",
        "        url = \"https://pubchem.ncbi.nlm.nih.gov/rest/pug_view/data/compound/%s/xml\" % y\n",
        "        data = requests.get(url)\n",
        "\n",
        "        if data.status_code != 200:\n",
        "            return None\n",
        "\n",
        "        html = BeautifulSoup(data.content, \"xml\")\n",
        "        solubility = html.find(name='TOCHeading', string='Solubility')\n",
        "        if solubility is None:\n",
        "            return None\n",
        "        else:\n",
        "            solub = solubility.find_next_sibling('Information').find(name='String').string\n",
        "            return solub\n",
        "    except Exception as e:\n",
        "        print(f\"An error occurred: {e}\")\n",
        "        return None\n",
        "\n"
      ],
      "outputs": [],
      "metadata": {}
    },
    {
      "cell_type": "code",
      "execution_count": 4,
      "source": [
        "df = pd.read_csv('pubchem_0k_10k.csv')"
      ],
      "outputs": [],
      "metadata": {
        "id": "Fue7OKtuJZC8"
      }
    },
    {
      "cell_type": "code",
      "execution_count": 5,
      "source": [
        "print(len(df))"
      ],
      "outputs": [
        {
          "output_type": "stream",
          "name": "stdout",
          "text": [
            "10000\n"
          ]
        }
      ],
      "metadata": {
        "colab": {
          "base_uri": "https://localhost:8080/"
        },
        "id": "ub4o0b1YJu7S",
        "outputId": "b285ad2f-23f7-4b4f-d2d8-0927a0147f95"
      }
    },
    {
      "cell_type": "code",
      "execution_count": 35,
      "source": [
        "def cid_to_sol(id):\n",
        "   x=\"https://pubchem.ncbi.nlm.nih.gov/rest/pug_view/data/compound/%s/xml\"\n",
        "   data=requests.get(x % id)#,timeout=(10,20) )\n",
        "   html = BeautifulSoup(data.content, \"xml\")\n",
        "   solubility = html.find(name='TOCHeading', string='Solubility')\n",
        "\n",
        "   if solubility == None:\n",
        "      return None\n",
        "\n",
        "   else:\n",
        "     solub=solubility.find_next_sibling('Information').find(name='String').string\n",
        "     return solub.string\n",
        "x=cid_to_sol(110635)\n",
        "print(x)"
      ],
      "outputs": [
        {
          "output_type": "stream",
          "name": "stdout",
          "text": [
            "3.2 [ug/mL] (The mean of the results at pH 7.4)\n"
          ]
        }
      ],
      "metadata": {}
    },
    {
      "cell_type": "code",
      "execution_count": 8,
      "source": [
        "import pandas as pd\n",
        "import requests\n",
        "from bs4 import BeautifulSoup\n",
        "import time\n",
        "from concurrent.futures import ThreadPoolExecutor\n",
        "\n",
        "start = time.time()\n",
        "\n",
        "df = pd.read_csv('pubchem_0k_10k.csv')\n",
        "#df = pd.read_csv('/content/drive/MyDrive/pubchem_23000k_24000k.csv')\n",
        "df_list = [df.iloc[i*1000:(i+1)*1000] for i in range(10)]\n",
        "\n",
        "def cid_to_sol(id):\n",
        "    url = f\"https://pubchem.ncbi.nlm.nih.gov/rest/pug_view/data/compound/{id}/xml\"\n",
        "    try:\n",
        "        data = requests.get(url)\n",
        "        if data.status_code == 200:\n",
        "            html = BeautifulSoup(data.content, \"xml\")\n",
        "            solubility = html.find(name='TOCHeading', string='Solubility')\n",
        "\n",
        "            if solubility is None:\n",
        "                return None#'Data not found for this compound'\n",
        "            else:\n",
        "                solub = solubility.find_next_sibling('Information').find(name='String').string\n",
        "                return solub\n",
        "        else:\n",
        "            return None#f'Error: Server returned status code {data.status_code}'\n",
        "    except requests.exceptions.RequestException as e:\n",
        "        return None#f'Error: Request Exception - {e}'\n",
        "\n",
        "def process_chunk(df_chunk):\n",
        "    P_sol = []\n",
        "    for i in range(len(df_chunk)):\n",
        "        try:\n",
        "            time.sleep(0.6)  # Sleep for 0.6 seconds\n",
        "            df_chunk = df_chunk.reset_index(drop=True)\n",
        "            sol = cid_to_sol(df_chunk.CID[i])\n",
        "            P_sol.append(sol)\n",
        "        except AttributeError as e:\n",
        "            sol = 'No string'\n",
        "            P_sol.append(sol)\n",
        "    return P_sol\n",
        "\n",
        "p_sol_final = []\n",
        "\n",
        "with ThreadPoolExecutor(max_workers=10) as executor:\n",
        "    results = executor.map(process_chunk, df_list)\n",
        "    for result in results:\n",
        "        p_sol_final.append(result)\n",
        "\n",
        "df1 = pd.DataFrame(p_sol_final)\n",
        "joinlist = [x for sublist in p_sol_final for x in sublist]\n",
        "df1 = pd.DataFrame(joinlist)\n",
        "df = pd.concat(df_list)\n",
        "df1 = df1.reset_index(drop=True)\n",
        "df = df.reset_index(drop=True)\n",
        "data = pd.concat([df, df1], axis=1, join='inner')\n",
        "data.to_csv('pubchem_new_0_10k.csv',encoding='utf-8')\n",
        "\n",
        "\n",
        "end = time.time()\n",
        "duration = end - start\n",
        "print(duration)"
      ],
      "outputs": [
        {
          "output_type": "stream",
          "name": "stderr",
          "text": [
            "encoding error : input conversion failed due to input error, bytes 0x90 0x32 0x2C 0x34\n",
            "encoding error : input conversion failed due to input error, bytes 0x90 0x32 0x2C 0x34\n",
            "I/O error : encoder error\n",
            "encoding error : input conversion failed due to input error, bytes 0x8F 0xC3 0x82 0x89\n",
            "encoding error : input conversion failed due to input error, bytes 0x8F 0xC3 0x82 0x89\n",
            "I/O error : encoder error\n",
            "encoding error : input conversion failed due to input error, bytes 0x8E 0xC2 0xB1 0x2D\n",
            "encoding error : input conversion failed due to input error, bytes 0x8E 0xC2 0xB1 0x2D\n",
            "I/O error : encoder error\n",
            "encoding error : input conversion failed due to input error, bytes 0x81 0xC2 0xB5 0x2C\n",
            "encoding error : input conversion failed due to input error, bytes 0x81 0xC2 0xB5 0x2C\n",
            "I/O error : encoder error\n",
            "encoding error : input conversion failed due to input error, bytes 0x9D 0x29 0x20 0x63\n",
            "encoding error : input conversion failed due to input error, bytes 0x9D 0x29 0x20 0x63\n",
            "I/O error : encoder error\n",
            "encoding error : input conversion failed due to input error, bytes 0x8E 0xC2 0xB1 0x2D\n",
            "encoding error : input conversion failed due to input error, bytes 0x8E 0xC2 0xB1 0x2D\n",
            "I/O error : encoder error\n"
          ]
        },
        {
          "output_type": "stream",
          "name": "stdout",
          "text": [
            "4446.9308269023895\n"
          ]
        }
      ],
      "metadata": {}
    },
    {
      "cell_type": "code",
      "execution_count": 32,
      "source": [
        "### Checking the null values in the raw file so that can have which has the solubility values \n",
        "final_data=pd.read_csv('pubchem_new_0_10000.csv')\n",
        "final_data_raw=final_data[['CID','SMILES','0']]\n",
        "final_data_raw.rename(columns = {'0':'Solubility'}, inplace = True)\n",
        "final_raw = final_data_raw.loc[final_data_raw['Solubility'].notnull()]\n",
        "print(len(final_raw))\n"
      ],
      "outputs": [
        {
          "output_type": "stream",
          "name": "stdout",
          "text": [
            "1\n"
          ]
        },
        {
          "output_type": "stream",
          "name": "stderr",
          "text": [
            "/var/folders/k_/8s01c4dj0gnfx2n284nvm1t80000gn/T/ipykernel_13058/2306803033.py:3: SettingWithCopyWarning: \n",
            "A value is trying to be set on a copy of a slice from a DataFrame\n",
            "\n",
            "See the caveats in the documentation: https://pandas.pydata.org/pandas-docs/stable/user_guide/indexing.html#returning-a-view-versus-a-copy\n",
            "  final_data_raw.rename(columns = {'0':'Solubility'}, inplace = True)\n"
          ]
        }
      ],
      "metadata": {}
    },
    {
      "cell_type": "code",
      "execution_count": 33,
      "source": [
        "final_raw"
      ],
      "outputs": [
        {
          "output_type": "execute_result",
          "data": {
            "text/html": [
              "<div>\n",
              "<style scoped>\n",
              "    .dataframe tbody tr th:only-of-type {\n",
              "        vertical-align: middle;\n",
              "    }\n",
              "\n",
              "    .dataframe tbody tr th {\n",
              "        vertical-align: top;\n",
              "    }\n",
              "\n",
              "    .dataframe thead th {\n",
              "        text-align: right;\n",
              "    }\n",
              "</style>\n",
              "<table border=\"1\" class=\"dataframe\">\n",
              "  <thead>\n",
              "    <tr style=\"text-align: right;\">\n",
              "      <th></th>\n",
              "      <th>CID</th>\n",
              "      <th>SMILES</th>\n",
              "      <th>Solubility</th>\n",
              "    </tr>\n",
              "  </thead>\n",
              "  <tbody>\n",
              "    <tr>\n",
              "      <th>2309</th>\n",
              "      <td>2466</td>\n",
              "      <td>CCCCOC1=CC=C(C=C1)CC(=O)NO</td>\n",
              "      <td>&gt;33.5 [ug/mL] (The mean of the results at pH 7.4)</td>\n",
              "    </tr>\n",
              "  </tbody>\n",
              "</table>\n",
              "</div>"
            ],
            "text/plain": [
              "       CID                      SMILES  \\\n",
              "2309  2466  CCCCOC1=CC=C(C=C1)CC(=O)NO   \n",
              "\n",
              "                                             Solubility  \n",
              "2309  >33.5 [ug/mL] (The mean of the results at pH 7.4)  "
            ]
          },
          "metadata": {},
          "execution_count": 33
        }
      ],
      "metadata": {}
    }
  ],
  "metadata": {
    "colab": {
      "provenance": []
    },
    "gpuClass": "standard",
    "kernelspec": {
      "name": "python3",
      "display_name": "Python 3.9.5 64-bit ('base': conda)"
    },
    "language_info": {
      "name": "python",
      "version": "3.9.5",
      "mimetype": "text/x-python",
      "codemirror_mode": {
        "name": "ipython",
        "version": 3
      },
      "pygments_lexer": "ipython3",
      "nbconvert_exporter": "python",
      "file_extension": ".py"
    },
    "interpreter": {
      "hash": "569d6b7e9215e11aba41c6454007e5c1b78bad7df09dab765d8cf00362c40f03"
    }
  },
  "nbformat": 4,
  "nbformat_minor": 2
}