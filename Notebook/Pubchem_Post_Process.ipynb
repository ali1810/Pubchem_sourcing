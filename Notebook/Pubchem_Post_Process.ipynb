{
  "nbformat": 4,
  "nbformat_minor": 2,
  "metadata": {
    "colab": {
      "provenance": []
    },
    "kernelspec": {
      "name": "python3",
      "display_name": "Python 3.8.11 64-bit ('tensorflow': conda)"
    },
    "language_info": {
      "name": "python",
      "version": "3.8.11",
      "mimetype": "text/x-python",
      "codemirror_mode": {
        "name": "ipython",
        "version": 3
      },
      "pygments_lexer": "ipython3",
      "nbconvert_exporter": "python",
      "file_extension": ".py"
    },
    "interpreter": {
      "hash": "d36e255458e31a29f527eb52fefea68899c70442c5f8ed7f862cc396cd8e7941"
    }
  },
  "cells": [
    {
      "cell_type": "code",
      "execution_count": 1,
      "source": [
        "### Read the raw file to preprocess\n",
        "import pandas as pd\n",
        "final_raw=pd.read_csv('pubchem_new_0_10000_new.csv')"
      ],
      "outputs": [],
      "metadata": {
        "id": "-cPR15Is9nUL"
      }
    },
    {
      "cell_type": "code",
      "execution_count": 2,
      "source": [
        "print(len(final_raw))"
      ],
      "outputs": [
        {
          "output_type": "stream",
          "name": "stdout",
          "text": [
            "1\n"
          ]
        }
      ],
      "metadata": {
        "colab": {
          "base_uri": "https://localhost:8080/"
        },
        "id": "nyifv3EfPJkK",
        "outputId": "ff6ca69a-07ab-4f47-c739-60afa6972db0"
      }
    },
    {
      "cell_type": "code",
      "execution_count": 3,
      "source": [
        "sol_new=final_raw.Solubility\n",
        "import re\n",
        "sol1=[]\n",
        "### Using regular expression module cleaning the data and taking out the data with with unit \"mg/mL\" in the pubchem ...\n",
        "for s in sol_new:\n",
        "   sol=re.findall('(?<![\\-\\/])(\\d+(?:\\.?\\d+)).*( ug/mL|mg/mL|(ug/mL)|mg/L|ml)', s)\n",
        "   sol1.append(sol)\n",
        "print(len(sol1))\n"
      ],
      "outputs": [
        {
          "output_type": "stream",
          "name": "stdout",
          "text": [
            "1\n"
          ]
        }
      ],
      "metadata": {
        "colab": {
          "base_uri": "https://localhost:8080/"
        },
        "id": "5dmvoOKheMLH",
        "outputId": "8bad52ec-dc28-4425-bd9c-c7972feab855"
      }
    },
    {
      "cell_type": "code",
      "execution_count": 4,
      "source": [
        "### Making sure that no null values present in the dataframe \n",
        "df3=final_raw.SMILES\n",
        "df3.reset_index(drop=True, inplace=True)\n",
        "df2 = pd.DataFrame(sol1, columns = ['Solubility'])\n",
        "df2 = pd.DataFrame(sol1)\n",
        "df_new = pd.concat([df3,df2], axis=1,ignore_index=True)\n",
        "df_new.columns =['SMILES', 'SOLUBILITY']\n",
        "df_sol = df_new.loc[df_new['SOLUBILITY'].notnull(), ['SMILES','SOLUBILITY']]\n",
        "print(len(df_sol))\n",
        "df_sol1=df_sol.reset_index()"
      ],
      "outputs": [
        {
          "output_type": "stream",
          "name": "stdout",
          "text": [
            "1\n"
          ]
        }
      ],
      "metadata": {
        "id": "54a3MBAVeZ-u",
        "colab": {
          "base_uri": "https://localhost:8080/"
        },
        "outputId": "69cacd55-b43b-4794-b427-721d36c197d3"
      }
    },
    {
      "cell_type": "code",
      "execution_count": 5,
      "source": [
        "df2=pd.DataFrame()\n",
        "for sol in df_sol.SOLUBILITY:\n",
        "\n",
        "  df=pd.DataFrame(sol)\n",
        "  df=df.T\n",
        "  df1=df.iloc[:,0:2]\n",
        "  df2=pd.concat([df2,df1],axis=0,ignore_index=True)\n",
        "df_final=pd.concat([df_sol1,df2],axis=1)\n",
        "df_final.rename(columns={ df_final.columns[3]: \"sol_new1\" }, inplace = True)\n",
        "df_final.rename(columns={ df_final.columns[4]: \"Unit\" }, inplace = True)\n",
        "df_final.sol_new1 = pd.to_numeric(df_final.sol_new1, errors=\"coerce\")\n",
        "df_final['sol_final']=''\n",
        "#### based on the unit converting the solubilities values \n",
        "for i in range (len(df_final)):\n",
        "\n",
        "  if df_final['Unit'][i]=='ug/mL':\n",
        "    df_final['sol_final'][i]=(df_final['sol_new1'][i]/1000).round(5)\n",
        "  elif df_final['Unit'][i]=='mg/mL':\n",
        "    df_final['sol_final'][i]=df_final['sol_new1'][i]\n",
        "  elif df_final['Unit'][i]=='mg/L':\n",
        "    df_final['sol_final'][i]=(df_final['sol_new1'][i]/1000).round(5)\n",
        "  else:\n",
        "    df_final['sol_final'][i]=(df_final['sol_new1'][i]/1000).round(5)\n",
        "df_final"
      ],
      "outputs": [
        {
          "output_type": "stream",
          "name": "stderr",
          "text": [
            "/var/folders/k_/8s01c4dj0gnfx2n284nvm1t80000gn/T/ipykernel_45830/315374829.py:18: SettingWithCopyWarning: \n",
            "A value is trying to be set on a copy of a slice from a DataFrame\n",
            "\n",
            "See the caveats in the documentation: https://pandas.pydata.org/pandas-docs/stable/user_guide/indexing.html#returning-a-view-versus-a-copy\n",
            "  df_final['sol_final'][i]=(df_final['sol_new1'][i]/1000).round(5)\n"
          ]
        },
        {
          "output_type": "execute_result",
          "data": {
            "text/html": [
              "<div>\n",
              "<style scoped>\n",
              "    .dataframe tbody tr th:only-of-type {\n",
              "        vertical-align: middle;\n",
              "    }\n",
              "\n",
              "    .dataframe tbody tr th {\n",
              "        vertical-align: top;\n",
              "    }\n",
              "\n",
              "    .dataframe thead th {\n",
              "        text-align: right;\n",
              "    }\n",
              "</style>\n",
              "<table border=\"1\" class=\"dataframe\">\n",
              "  <thead>\n",
              "    <tr style=\"text-align: right;\">\n",
              "      <th></th>\n",
              "      <th>index</th>\n",
              "      <th>SMILES</th>\n",
              "      <th>SOLUBILITY</th>\n",
              "      <th>sol_new1</th>\n",
              "      <th>Unit</th>\n",
              "      <th>sol_final</th>\n",
              "    </tr>\n",
              "  </thead>\n",
              "  <tbody>\n",
              "    <tr>\n",
              "      <th>0</th>\n",
              "      <td>0</td>\n",
              "      <td>CCCCOC1=CC=C(C=C1)CC(=O)NO</td>\n",
              "      <td>(33.5, ug/mL, ug/mL)</td>\n",
              "      <td>33.5</td>\n",
              "      <td>ug/mL</td>\n",
              "      <td>0.0335</td>\n",
              "    </tr>\n",
              "  </tbody>\n",
              "</table>\n",
              "</div>"
            ],
            "text/plain": [
              "   index                      SMILES            SOLUBILITY  sol_new1   Unit  \\\n",
              "0      0  CCCCOC1=CC=C(C=C1)CC(=O)NO  (33.5, ug/mL, ug/mL)      33.5  ug/mL   \n",
              "\n",
              "  sol_final  \n",
              "0    0.0335  "
            ]
          },
          "metadata": {},
          "execution_count": 5
        }
      ],
      "metadata": {
        "colab": {
          "base_uri": "https://localhost:8080/",
          "height": 199
        },
        "id": "Z0GEXbFCM_03",
        "outputId": "d4cbfc1f-e1b3-4c03-c092-461c9d0db80b"
      }
    },
    {
      "cell_type": "code",
      "execution_count": 7,
      "source": [
        "### saving the clean data to the disk \n",
        "df_final.to_csv('pubchem_clean_0k_10000k.csv')"
      ],
      "outputs": [],
      "metadata": {
        "id": "Um9UGlV_l9uP"
      }
    }
  ]
}