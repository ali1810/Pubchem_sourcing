{
 "cells": [
  {
   "cell_type": "code",
   "execution_count": null,
   "source": [
    "## Import the required library \n",
    "import requests\n",
    "from bs4 import BeautifulSoup\n",
    "import re\n"
   ],
   "outputs": [
    {
     "output_type": "error",
     "ename": "ModuleNotFoundError",
     "evalue": "No module named 'requests'",
     "traceback": [
      "\u001b[0;31m---------------------------------------------------------------------------\u001b[0m",
      "\u001b[0;31mModuleNotFoundError\u001b[0m                       Traceback (most recent call last)",
      "Cell \u001b[0;32mIn[1], line 2\u001b[0m\n\u001b[1;32m      1\u001b[0m \u001b[38;5;66;03m## Import the required library \u001b[39;00m\n\u001b[0;32m----> 2\u001b[0m \u001b[38;5;28;01mimport\u001b[39;00m \u001b[38;5;21;01mrequests\u001b[39;00m\n\u001b[1;32m      3\u001b[0m \u001b[38;5;28;01mfrom\u001b[39;00m \u001b[38;5;21;01mbs4\u001b[39;00m \u001b[38;5;28;01mimport\u001b[39;00m BeautifulSoup\n\u001b[1;32m      4\u001b[0m \u001b[38;5;28;01mimport\u001b[39;00m \u001b[38;5;21;01mre\u001b[39;00m\n",
      "\u001b[0;31mModuleNotFoundError\u001b[0m: No module named 'requests'"
     ]
    }
   ],
   "metadata": {}
  },
  {
   "cell_type": "code",
   "execution_count": null,
   "source": [
    "df=pd.read_csv('/users/mushtaqali/Downloads/pubchem/pubchem_3000k_4000k')"
   ],
   "outputs": [],
   "metadata": {}
  },
  {
   "cell_type": "code",
   "execution_count": 4,
   "source": [
    "import pandas as pd\n",
    "df=pd.read_csv('/users/mushtaqali/Downloads/pubchem/pubchem_3000k_4000k')\n",
    "import requests\n",
    "from bs4 import BeautifulSoup\n",
    "import re\n",
    "import pubchempy as pcp\n",
    "import pandas as pd\n",
    "def cid_to_sol(id):\n",
    "   x=\"https://pubchem.ncbi.nlm.nih.gov/rest/pug_view/data/compound/%s/xml\"\n",
    "   data=requests.get(x % id)#,timeout=(10,20) )\n",
    "   html = BeautifulSoup(data.content, \"xml\")\n",
    "   solubility = html.find(name='TOCHeading', string='Solubility')\n",
    "   #print(dtype(solubility))\n",
    "   if solubility == None:\n",
    "      return None  \n",
    "   #elif          # or pass\n",
    "   else:\n",
    "     solub=solubility.find_next_sibling('Information').find(name='String').string\n",
    "     return solub\n",
    "df2=df.iloc[0:10000]\n",
    "dfnew1=df2[0:1000]\n",
    "dfnew2=df2[1000:2000]\n",
    "dfnew3=df2[2000:3000]\n",
    "dfnew4=df2[3000:4000]\n",
    "dfnew5=df2[4000:5000]\n",
    "dfnew6=df2[5000:6000]\n",
    "dfnew7=df2[6000:7000]\n",
    "dfnew8=df2[7000:8000]\n",
    "dfnew9=df2[8000:9000]\n",
    "dfnew10=df2[9000:10000]\n",
    "import time\n",
    "start = time.time()\n",
    "#dfnew1 = dfnew1.reset_index()\n",
    "obj=[dfnew1, dfnew2, dfnew3,dfnew4, dfnew5,dfnew6, dfnew7,dfnew8, dfnew9, dfnew10]\n",
    "#obj= [dfnew11, dfnew12, dfnew13,dfnew14, dfnew15, dfnew16,dfnew17, dfnew18, dfnew19,dfnew20]\n",
    "#dfnew1 = dfnew1.reset_index()\n",
    "p_sol_final=[]\n",
    "for j in range(10):\n",
    "    P_sol=[]\n",
    "    for i in range(1000):\n",
    "      try:\n",
    "        time.sleep(0.2) # Sleep for 1 seconds\n",
    "        obj[j] = obj[j].reset_index(drop=True)\n",
    "        sol=cid_to_sol(obj[j].CID[i])\n",
    "        #\n",
    "        P_sol.append(sol)\n",
    "      except AttributeError as e:\n",
    "        sol=='No string'\n",
    "        P_sol.append(sol)\n",
    "    p_sol_final.append(P_sol) \n",
    "df1 = pd.DataFrame(p_sol_final)\n",
    "joinlist = [x for list in p_sol_final for x in list]\n",
    "df1 = pd.DataFrame(joinlist) \n",
    "df=pd.concat(obj)\n",
    "df1 = df1.reset_index(drop=True)\n",
    "df = df.reset_index(drop=True) \n",
    "data = pd.concat([df, df1], axis=1, join='inner')\n",
    "data.to_csv('/users/mushtaqali/Downloads/pubchem/pubchem_300000_3010000.csv') \n",
    "end = time.time()\n",
    "duration = end-start \n",
    "print(duration)\n",
    " "
   ],
   "outputs": [
    {
     "output_type": "error",
     "ename": "SSLError",
     "evalue": "EOF occurred in violation of protocol (_ssl.c:1129)",
     "traceback": [
      "\u001b[0;31m---------------------------------------------------------------------------\u001b[0m",
      "\u001b[0;31mSSLEOFError\u001b[0m                               Traceback (most recent call last)",
      "File \u001b[0;32m~/Desktop/solu/solub_heroku_new-main/env/lib/python3.9/site-packages/requests/packages/urllib3/connectionpool.py:557\u001b[0m, in \u001b[0;36mHTTPConnectionPool.urlopen\u001b[0;34m(self, method, url, body, headers, retries, redirect, assert_same_host, timeout, pool_timeout, release_conn, **response_kw)\u001b[0m\n\u001b[1;32m    556\u001b[0m \u001b[38;5;66;03m# Make the request on the httplib connection object.\u001b[39;00m\n\u001b[0;32m--> 557\u001b[0m httplib_response \u001b[38;5;241m=\u001b[39m \u001b[38;5;28;43mself\u001b[39;49m\u001b[38;5;241;43m.\u001b[39;49m\u001b[43m_make_request\u001b[49m\u001b[43m(\u001b[49m\u001b[43mconn\u001b[49m\u001b[43m,\u001b[49m\u001b[43m \u001b[49m\u001b[43mmethod\u001b[49m\u001b[43m,\u001b[49m\u001b[43m \u001b[49m\u001b[43murl\u001b[49m\u001b[43m,\u001b[49m\n\u001b[1;32m    558\u001b[0m \u001b[43m                                      \u001b[49m\u001b[43mtimeout\u001b[49m\u001b[38;5;241;43m=\u001b[39;49m\u001b[43mtimeout_obj\u001b[49m\u001b[43m,\u001b[49m\n\u001b[1;32m    559\u001b[0m \u001b[43m                                      \u001b[49m\u001b[43mbody\u001b[49m\u001b[38;5;241;43m=\u001b[39;49m\u001b[43mbody\u001b[49m\u001b[43m,\u001b[49m\u001b[43m \u001b[49m\u001b[43mheaders\u001b[49m\u001b[38;5;241;43m=\u001b[39;49m\u001b[43mheaders\u001b[49m\u001b[43m)\u001b[49m\n\u001b[1;32m    561\u001b[0m \u001b[38;5;66;03m# If we're going to release the connection in ``finally:``, then\u001b[39;00m\n\u001b[1;32m    562\u001b[0m \u001b[38;5;66;03m# the request doesn't need to know about the connection. Otherwise\u001b[39;00m\n\u001b[1;32m    563\u001b[0m \u001b[38;5;66;03m# it will also try to release it and we'll have a double-release\u001b[39;00m\n\u001b[1;32m    564\u001b[0m \u001b[38;5;66;03m# mess.\u001b[39;00m\n",
      "File \u001b[0;32m~/Desktop/solu/solub_heroku_new-main/env/lib/python3.9/site-packages/requests/packages/urllib3/connectionpool.py:345\u001b[0m, in \u001b[0;36mHTTPConnectionPool._make_request\u001b[0;34m(self, conn, method, url, timeout, **httplib_request_kw)\u001b[0m\n\u001b[1;32m    344\u001b[0m \u001b[38;5;28;01mtry\u001b[39;00m:\n\u001b[0;32m--> 345\u001b[0m     \u001b[38;5;28;43mself\u001b[39;49m\u001b[38;5;241;43m.\u001b[39;49m\u001b[43m_validate_conn\u001b[49m\u001b[43m(\u001b[49m\u001b[43mconn\u001b[49m\u001b[43m)\u001b[49m\n\u001b[1;32m    346\u001b[0m \u001b[38;5;28;01mexcept\u001b[39;00m (SocketTimeout, BaseSSLError) \u001b[38;5;28;01mas\u001b[39;00m e:\n\u001b[1;32m    347\u001b[0m     \u001b[38;5;66;03m# Py2 raises this as a BaseSSLError, Py3 raises it as socket timeout.\u001b[39;00m\n",
      "File \u001b[0;32m~/Desktop/solu/solub_heroku_new-main/env/lib/python3.9/site-packages/requests/packages/urllib3/connectionpool.py:784\u001b[0m, in \u001b[0;36mHTTPSConnectionPool._validate_conn\u001b[0;34m(self, conn)\u001b[0m\n\u001b[1;32m    783\u001b[0m \u001b[38;5;28;01mif\u001b[39;00m \u001b[38;5;129;01mnot\u001b[39;00m \u001b[38;5;28mgetattr\u001b[39m(conn, \u001b[38;5;124m'\u001b[39m\u001b[38;5;124msock\u001b[39m\u001b[38;5;124m'\u001b[39m, \u001b[38;5;28;01mNone\u001b[39;00m):  \u001b[38;5;66;03m# AppEngine might not have  `.sock`\u001b[39;00m\n\u001b[0;32m--> 784\u001b[0m     \u001b[43mconn\u001b[49m\u001b[38;5;241;43m.\u001b[39;49m\u001b[43mconnect\u001b[49m\u001b[43m(\u001b[49m\u001b[43m)\u001b[49m\n\u001b[1;32m    786\u001b[0m \u001b[38;5;28;01mif\u001b[39;00m \u001b[38;5;129;01mnot\u001b[39;00m conn\u001b[38;5;241m.\u001b[39mis_verified:\n",
      "File \u001b[0;32m~/Desktop/solu/solub_heroku_new-main/env/lib/python3.9/site-packages/requests/packages/urllib3/connection.py:247\u001b[0m, in \u001b[0;36mVerifiedHTTPSConnection.connect\u001b[0;34m(self)\u001b[0m\n\u001b[1;32m    245\u001b[0m \u001b[38;5;66;03m# Wrap socket using verification with the root certs in\u001b[39;00m\n\u001b[1;32m    246\u001b[0m \u001b[38;5;66;03m# trusted_root_certs\u001b[39;00m\n\u001b[0;32m--> 247\u001b[0m \u001b[38;5;28mself\u001b[39m\u001b[38;5;241m.\u001b[39msock \u001b[38;5;241m=\u001b[39m \u001b[43mssl_wrap_socket\u001b[49m\u001b[43m(\u001b[49m\u001b[43mconn\u001b[49m\u001b[43m,\u001b[49m\u001b[43m \u001b[49m\u001b[38;5;28;43mself\u001b[39;49m\u001b[38;5;241;43m.\u001b[39;49m\u001b[43mkey_file\u001b[49m\u001b[43m,\u001b[49m\u001b[43m \u001b[49m\u001b[38;5;28;43mself\u001b[39;49m\u001b[38;5;241;43m.\u001b[39;49m\u001b[43mcert_file\u001b[49m\u001b[43m,\u001b[49m\n\u001b[1;32m    248\u001b[0m \u001b[43m                            \u001b[49m\u001b[43mcert_reqs\u001b[49m\u001b[38;5;241;43m=\u001b[39;49m\u001b[43mresolved_cert_reqs\u001b[49m\u001b[43m,\u001b[49m\n\u001b[1;32m    249\u001b[0m \u001b[43m                            \u001b[49m\u001b[43mca_certs\u001b[49m\u001b[38;5;241;43m=\u001b[39;49m\u001b[38;5;28;43mself\u001b[39;49m\u001b[38;5;241;43m.\u001b[39;49m\u001b[43mca_certs\u001b[49m\u001b[43m,\u001b[49m\n\u001b[1;32m    250\u001b[0m \u001b[43m                            \u001b[49m\u001b[43mca_cert_dir\u001b[49m\u001b[38;5;241;43m=\u001b[39;49m\u001b[38;5;28;43mself\u001b[39;49m\u001b[38;5;241;43m.\u001b[39;49m\u001b[43mca_cert_dir\u001b[49m\u001b[43m,\u001b[49m\n\u001b[1;32m    251\u001b[0m \u001b[43m                            \u001b[49m\u001b[43mserver_hostname\u001b[49m\u001b[38;5;241;43m=\u001b[39;49m\u001b[43mhostname\u001b[49m\u001b[43m,\u001b[49m\n\u001b[1;32m    252\u001b[0m \u001b[43m                            \u001b[49m\u001b[43mssl_version\u001b[49m\u001b[38;5;241;43m=\u001b[39;49m\u001b[43mresolved_ssl_version\u001b[49m\u001b[43m)\u001b[49m\n\u001b[1;32m    254\u001b[0m \u001b[38;5;28;01mif\u001b[39;00m \u001b[38;5;28mself\u001b[39m\u001b[38;5;241m.\u001b[39massert_fingerprint:\n",
      "File \u001b[0;32m~/Desktop/solu/solub_heroku_new-main/env/lib/python3.9/site-packages/requests/packages/urllib3/util/ssl_.py:305\u001b[0m, in \u001b[0;36mssl_wrap_socket\u001b[0;34m(sock, keyfile, certfile, cert_reqs, ca_certs, server_hostname, ssl_version, ciphers, ssl_context, ca_cert_dir)\u001b[0m\n\u001b[1;32m    304\u001b[0m \u001b[38;5;28;01mif\u001b[39;00m HAS_SNI:  \u001b[38;5;66;03m# Platform-specific: OpenSSL with enabled SNI\u001b[39;00m\n\u001b[0;32m--> 305\u001b[0m     \u001b[38;5;28;01mreturn\u001b[39;00m \u001b[43mcontext\u001b[49m\u001b[38;5;241;43m.\u001b[39;49m\u001b[43mwrap_socket\u001b[49m\u001b[43m(\u001b[49m\u001b[43msock\u001b[49m\u001b[43m,\u001b[49m\u001b[43m \u001b[49m\u001b[43mserver_hostname\u001b[49m\u001b[38;5;241;43m=\u001b[39;49m\u001b[43mserver_hostname\u001b[49m\u001b[43m)\u001b[49m\n\u001b[1;32m    307\u001b[0m warnings\u001b[38;5;241m.\u001b[39mwarn(\n\u001b[1;32m    308\u001b[0m     \u001b[38;5;124m'\u001b[39m\u001b[38;5;124mAn HTTPS request has been made, but the SNI (Subject Name \u001b[39m\u001b[38;5;124m'\u001b[39m\n\u001b[1;32m    309\u001b[0m     \u001b[38;5;124m'\u001b[39m\u001b[38;5;124mIndication) extension to TLS is not available on this platform. \u001b[39m\u001b[38;5;124m'\u001b[39m\n\u001b[0;32m   (...)\u001b[0m\n\u001b[1;32m    315\u001b[0m     SNIMissingWarning\n\u001b[1;32m    316\u001b[0m )\n",
      "File \u001b[0;32m/opt/miniconda3/lib/python3.9/ssl.py:500\u001b[0m, in \u001b[0;36mSSLContext.wrap_socket\u001b[0;34m(self, sock, server_side, do_handshake_on_connect, suppress_ragged_eofs, server_hostname, session)\u001b[0m\n\u001b[1;32m    494\u001b[0m \u001b[38;5;28;01mdef\u001b[39;00m \u001b[38;5;21mwrap_socket\u001b[39m(\u001b[38;5;28mself\u001b[39m, sock, server_side\u001b[38;5;241m=\u001b[39m\u001b[38;5;28;01mFalse\u001b[39;00m,\n\u001b[1;32m    495\u001b[0m                 do_handshake_on_connect\u001b[38;5;241m=\u001b[39m\u001b[38;5;28;01mTrue\u001b[39;00m,\n\u001b[1;32m    496\u001b[0m                 suppress_ragged_eofs\u001b[38;5;241m=\u001b[39m\u001b[38;5;28;01mTrue\u001b[39;00m,\n\u001b[1;32m    497\u001b[0m                 server_hostname\u001b[38;5;241m=\u001b[39m\u001b[38;5;28;01mNone\u001b[39;00m, session\u001b[38;5;241m=\u001b[39m\u001b[38;5;28;01mNone\u001b[39;00m):\n\u001b[1;32m    498\u001b[0m     \u001b[38;5;66;03m# SSLSocket class handles server_hostname encoding before it calls\u001b[39;00m\n\u001b[1;32m    499\u001b[0m     \u001b[38;5;66;03m# ctx._wrap_socket()\u001b[39;00m\n\u001b[0;32m--> 500\u001b[0m     \u001b[38;5;28;01mreturn\u001b[39;00m \u001b[38;5;28;43mself\u001b[39;49m\u001b[38;5;241;43m.\u001b[39;49m\u001b[43msslsocket_class\u001b[49m\u001b[38;5;241;43m.\u001b[39;49m\u001b[43m_create\u001b[49m\u001b[43m(\u001b[49m\n\u001b[1;32m    501\u001b[0m \u001b[43m        \u001b[49m\u001b[43msock\u001b[49m\u001b[38;5;241;43m=\u001b[39;49m\u001b[43msock\u001b[49m\u001b[43m,\u001b[49m\n\u001b[1;32m    502\u001b[0m \u001b[43m        \u001b[49m\u001b[43mserver_side\u001b[49m\u001b[38;5;241;43m=\u001b[39;49m\u001b[43mserver_side\u001b[49m\u001b[43m,\u001b[49m\n\u001b[1;32m    503\u001b[0m \u001b[43m        \u001b[49m\u001b[43mdo_handshake_on_connect\u001b[49m\u001b[38;5;241;43m=\u001b[39;49m\u001b[43mdo_handshake_on_connect\u001b[49m\u001b[43m,\u001b[49m\n\u001b[1;32m    504\u001b[0m \u001b[43m        \u001b[49m\u001b[43msuppress_ragged_eofs\u001b[49m\u001b[38;5;241;43m=\u001b[39;49m\u001b[43msuppress_ragged_eofs\u001b[49m\u001b[43m,\u001b[49m\n\u001b[1;32m    505\u001b[0m \u001b[43m        \u001b[49m\u001b[43mserver_hostname\u001b[49m\u001b[38;5;241;43m=\u001b[39;49m\u001b[43mserver_hostname\u001b[49m\u001b[43m,\u001b[49m\n\u001b[1;32m    506\u001b[0m \u001b[43m        \u001b[49m\u001b[43mcontext\u001b[49m\u001b[38;5;241;43m=\u001b[39;49m\u001b[38;5;28;43mself\u001b[39;49m\u001b[43m,\u001b[49m\n\u001b[1;32m    507\u001b[0m \u001b[43m        \u001b[49m\u001b[43msession\u001b[49m\u001b[38;5;241;43m=\u001b[39;49m\u001b[43msession\u001b[49m\n\u001b[1;32m    508\u001b[0m \u001b[43m    \u001b[49m\u001b[43m)\u001b[49m\n",
      "File \u001b[0;32m/opt/miniconda3/lib/python3.9/ssl.py:1040\u001b[0m, in \u001b[0;36mSSLSocket._create\u001b[0;34m(cls, sock, server_side, do_handshake_on_connect, suppress_ragged_eofs, server_hostname, context, session)\u001b[0m\n\u001b[1;32m   1039\u001b[0m             \u001b[38;5;28;01mraise\u001b[39;00m \u001b[38;5;167;01mValueError\u001b[39;00m(\u001b[38;5;124m\"\u001b[39m\u001b[38;5;124mdo_handshake_on_connect should not be specified for non-blocking sockets\u001b[39m\u001b[38;5;124m\"\u001b[39m)\n\u001b[0;32m-> 1040\u001b[0m         \u001b[38;5;28;43mself\u001b[39;49m\u001b[38;5;241;43m.\u001b[39;49m\u001b[43mdo_handshake\u001b[49m\u001b[43m(\u001b[49m\u001b[43m)\u001b[49m\n\u001b[1;32m   1041\u001b[0m \u001b[38;5;28;01mexcept\u001b[39;00m (\u001b[38;5;167;01mOSError\u001b[39;00m, \u001b[38;5;167;01mValueError\u001b[39;00m):\n",
      "File \u001b[0;32m/opt/miniconda3/lib/python3.9/ssl.py:1309\u001b[0m, in \u001b[0;36mSSLSocket.do_handshake\u001b[0;34m(self, block)\u001b[0m\n\u001b[1;32m   1308\u001b[0m         \u001b[38;5;28mself\u001b[39m\u001b[38;5;241m.\u001b[39msettimeout(\u001b[38;5;28;01mNone\u001b[39;00m)\n\u001b[0;32m-> 1309\u001b[0m     \u001b[38;5;28;43mself\u001b[39;49m\u001b[38;5;241;43m.\u001b[39;49m\u001b[43m_sslobj\u001b[49m\u001b[38;5;241;43m.\u001b[39;49m\u001b[43mdo_handshake\u001b[49m\u001b[43m(\u001b[49m\u001b[43m)\u001b[49m\n\u001b[1;32m   1310\u001b[0m \u001b[38;5;28;01mfinally\u001b[39;00m:\n",
      "\u001b[0;31mSSLEOFError\u001b[0m: EOF occurred in violation of protocol (_ssl.c:1129)",
      "\nDuring handling of the above exception, another exception occurred:\n",
      "\u001b[0;31mSSLError\u001b[0m                                  Traceback (most recent call last)",
      "File \u001b[0;32m~/Desktop/solu/solub_heroku_new-main/env/lib/python3.9/site-packages/requests/adapters.py:366\u001b[0m, in \u001b[0;36mHTTPAdapter.send\u001b[0;34m(self, request, stream, timeout, verify, cert, proxies)\u001b[0m\n\u001b[1;32m    365\u001b[0m \u001b[38;5;28;01mif\u001b[39;00m \u001b[38;5;129;01mnot\u001b[39;00m chunked:\n\u001b[0;32m--> 366\u001b[0m     resp \u001b[38;5;241m=\u001b[39m \u001b[43mconn\u001b[49m\u001b[38;5;241;43m.\u001b[39;49m\u001b[43murlopen\u001b[49m\u001b[43m(\u001b[49m\n\u001b[1;32m    367\u001b[0m \u001b[43m        \u001b[49m\u001b[43mmethod\u001b[49m\u001b[38;5;241;43m=\u001b[39;49m\u001b[43mrequest\u001b[49m\u001b[38;5;241;43m.\u001b[39;49m\u001b[43mmethod\u001b[49m\u001b[43m,\u001b[49m\n\u001b[1;32m    368\u001b[0m \u001b[43m        \u001b[49m\u001b[43murl\u001b[49m\u001b[38;5;241;43m=\u001b[39;49m\u001b[43murl\u001b[49m\u001b[43m,\u001b[49m\n\u001b[1;32m    369\u001b[0m \u001b[43m        \u001b[49m\u001b[43mbody\u001b[49m\u001b[38;5;241;43m=\u001b[39;49m\u001b[43mrequest\u001b[49m\u001b[38;5;241;43m.\u001b[39;49m\u001b[43mbody\u001b[49m\u001b[43m,\u001b[49m\n\u001b[1;32m    370\u001b[0m \u001b[43m        \u001b[49m\u001b[43mheaders\u001b[49m\u001b[38;5;241;43m=\u001b[39;49m\u001b[43mrequest\u001b[49m\u001b[38;5;241;43m.\u001b[39;49m\u001b[43mheaders\u001b[49m\u001b[43m,\u001b[49m\n\u001b[1;32m    371\u001b[0m \u001b[43m        \u001b[49m\u001b[43mredirect\u001b[49m\u001b[38;5;241;43m=\u001b[39;49m\u001b[38;5;28;43;01mFalse\u001b[39;49;00m\u001b[43m,\u001b[49m\n\u001b[1;32m    372\u001b[0m \u001b[43m        \u001b[49m\u001b[43massert_same_host\u001b[49m\u001b[38;5;241;43m=\u001b[39;49m\u001b[38;5;28;43;01mFalse\u001b[39;49;00m\u001b[43m,\u001b[49m\n\u001b[1;32m    373\u001b[0m \u001b[43m        \u001b[49m\u001b[43mpreload_content\u001b[49m\u001b[38;5;241;43m=\u001b[39;49m\u001b[38;5;28;43;01mFalse\u001b[39;49;00m\u001b[43m,\u001b[49m\n\u001b[1;32m    374\u001b[0m \u001b[43m        \u001b[49m\u001b[43mdecode_content\u001b[49m\u001b[38;5;241;43m=\u001b[39;49m\u001b[38;5;28;43;01mFalse\u001b[39;49;00m\u001b[43m,\u001b[49m\n\u001b[1;32m    375\u001b[0m \u001b[43m        \u001b[49m\u001b[43mretries\u001b[49m\u001b[38;5;241;43m=\u001b[39;49m\u001b[38;5;28;43mself\u001b[39;49m\u001b[38;5;241;43m.\u001b[39;49m\u001b[43mmax_retries\u001b[49m\u001b[43m,\u001b[49m\n\u001b[1;32m    376\u001b[0m \u001b[43m        \u001b[49m\u001b[43mtimeout\u001b[49m\u001b[38;5;241;43m=\u001b[39;49m\u001b[43mtimeout\u001b[49m\n\u001b[1;32m    377\u001b[0m \u001b[43m    \u001b[49m\u001b[43m)\u001b[49m\n\u001b[1;32m    379\u001b[0m \u001b[38;5;66;03m# Send the request.\u001b[39;00m\n\u001b[1;32m    380\u001b[0m \u001b[38;5;28;01melse\u001b[39;00m:\n",
      "File \u001b[0;32m~/Desktop/solu/solub_heroku_new-main/env/lib/python3.9/site-packages/requests/packages/urllib3/connectionpool.py:588\u001b[0m, in \u001b[0;36mHTTPConnectionPool.urlopen\u001b[0;34m(self, method, url, body, headers, retries, redirect, assert_same_host, timeout, pool_timeout, release_conn, **response_kw)\u001b[0m\n\u001b[1;32m    587\u001b[0m     release_conn \u001b[38;5;241m=\u001b[39m \u001b[38;5;28;01mTrue\u001b[39;00m\n\u001b[0;32m--> 588\u001b[0m     \u001b[38;5;28;01mraise\u001b[39;00m SSLError(e)\n\u001b[1;32m    590\u001b[0m \u001b[38;5;28;01mexcept\u001b[39;00m SSLError:\n\u001b[1;32m    591\u001b[0m     \u001b[38;5;66;03m# Treat SSLError separately from BaseSSLError to preserve\u001b[39;00m\n\u001b[1;32m    592\u001b[0m     \u001b[38;5;66;03m# traceback.\u001b[39;00m\n",
      "\u001b[0;31mSSLError\u001b[0m: EOF occurred in violation of protocol (_ssl.c:1129)",
      "\nDuring handling of the above exception, another exception occurred:\n",
      "\u001b[0;31mSSLError\u001b[0m                                  Traceback (most recent call last)",
      "Input \u001b[0;32mIn [4]\u001b[0m, in \u001b[0;36m<cell line: 38>\u001b[0;34m()\u001b[0m\n\u001b[1;32m     42\u001b[0m time\u001b[38;5;241m.\u001b[39msleep(\u001b[38;5;241m0.2\u001b[39m) \u001b[38;5;66;03m# Sleep for 1 seconds\u001b[39;00m\n\u001b[1;32m     43\u001b[0m obj[j] \u001b[38;5;241m=\u001b[39m obj[j]\u001b[38;5;241m.\u001b[39mreset_index(drop\u001b[38;5;241m=\u001b[39m\u001b[38;5;28;01mTrue\u001b[39;00m)\n\u001b[0;32m---> 44\u001b[0m sol\u001b[38;5;241m=\u001b[39m\u001b[43mcid_to_sol\u001b[49m\u001b[43m(\u001b[49m\u001b[43mobj\u001b[49m\u001b[43m[\u001b[49m\u001b[43mj\u001b[49m\u001b[43m]\u001b[49m\u001b[38;5;241;43m.\u001b[39;49m\u001b[43mCID\u001b[49m\u001b[43m[\u001b[49m\u001b[43mi\u001b[49m\u001b[43m]\u001b[49m\u001b[43m)\u001b[49m\n\u001b[1;32m     45\u001b[0m \u001b[38;5;66;03m#\u001b[39;00m\n\u001b[1;32m     46\u001b[0m P_sol\u001b[38;5;241m.\u001b[39mappend(sol)\n",
      "Input \u001b[0;32mIn [4]\u001b[0m, in \u001b[0;36mcid_to_sol\u001b[0;34m(id)\u001b[0m\n\u001b[1;32m      8\u001b[0m \u001b[38;5;28;01mdef\u001b[39;00m \u001b[38;5;21mcid_to_sol\u001b[39m(\u001b[38;5;28mid\u001b[39m):\n\u001b[1;32m      9\u001b[0m    x\u001b[38;5;241m=\u001b[39m\u001b[38;5;124m\"\u001b[39m\u001b[38;5;124mhttps://pubchem.ncbi.nlm.nih.gov/rest/pug_view/data/compound/\u001b[39m\u001b[38;5;132;01m%s\u001b[39;00m\u001b[38;5;124m/xml\u001b[39m\u001b[38;5;124m\"\u001b[39m\n\u001b[0;32m---> 10\u001b[0m    data\u001b[38;5;241m=\u001b[39m\u001b[43mrequests\u001b[49m\u001b[38;5;241;43m.\u001b[39;49m\u001b[43mget\u001b[49m\u001b[43m(\u001b[49m\u001b[43mx\u001b[49m\u001b[43m \u001b[49m\u001b[38;5;241;43m%\u001b[39;49m\u001b[43m \u001b[49m\u001b[38;5;28;43mid\u001b[39;49m\u001b[43m)\u001b[49m\u001b[38;5;66;03m#,timeout=(10,20) )\u001b[39;00m\n\u001b[1;32m     11\u001b[0m    html \u001b[38;5;241m=\u001b[39m BeautifulSoup(data\u001b[38;5;241m.\u001b[39mcontent, \u001b[38;5;124m\"\u001b[39m\u001b[38;5;124mxml\u001b[39m\u001b[38;5;124m\"\u001b[39m)\n\u001b[1;32m     12\u001b[0m    solubility \u001b[38;5;241m=\u001b[39m html\u001b[38;5;241m.\u001b[39mfind(name\u001b[38;5;241m=\u001b[39m\u001b[38;5;124m'\u001b[39m\u001b[38;5;124mTOCHeading\u001b[39m\u001b[38;5;124m'\u001b[39m, string\u001b[38;5;241m=\u001b[39m\u001b[38;5;124m'\u001b[39m\u001b[38;5;124mSolubility\u001b[39m\u001b[38;5;124m'\u001b[39m)\n",
      "File \u001b[0;32m~/Desktop/solu/solub_heroku_new-main/env/lib/python3.9/site-packages/requests/api.py:67\u001b[0m, in \u001b[0;36mget\u001b[0;34m(url, params, **kwargs)\u001b[0m\n\u001b[1;32m     57\u001b[0m \u001b[38;5;124;03m\"\"\"Sends a GET request.\u001b[39;00m\n\u001b[1;32m     58\u001b[0m \n\u001b[1;32m     59\u001b[0m \u001b[38;5;124;03m:param url: URL for the new :class:`Request` object.\u001b[39;00m\n\u001b[0;32m   (...)\u001b[0m\n\u001b[1;32m     63\u001b[0m \u001b[38;5;124;03m:rtype: requests.Response\u001b[39;00m\n\u001b[1;32m     64\u001b[0m \u001b[38;5;124;03m\"\"\"\u001b[39;00m\n\u001b[1;32m     66\u001b[0m kwargs\u001b[38;5;241m.\u001b[39msetdefault(\u001b[38;5;124m'\u001b[39m\u001b[38;5;124mallow_redirects\u001b[39m\u001b[38;5;124m'\u001b[39m, \u001b[38;5;28;01mTrue\u001b[39;00m)\n\u001b[0;32m---> 67\u001b[0m \u001b[38;5;28;01mreturn\u001b[39;00m \u001b[43mrequest\u001b[49m\u001b[43m(\u001b[49m\u001b[38;5;124;43m'\u001b[39;49m\u001b[38;5;124;43mget\u001b[39;49m\u001b[38;5;124;43m'\u001b[39;49m\u001b[43m,\u001b[49m\u001b[43m \u001b[49m\u001b[43murl\u001b[49m\u001b[43m,\u001b[49m\u001b[43m \u001b[49m\u001b[43mparams\u001b[49m\u001b[38;5;241;43m=\u001b[39;49m\u001b[43mparams\u001b[49m\u001b[43m,\u001b[49m\u001b[43m \u001b[49m\u001b[38;5;241;43m*\u001b[39;49m\u001b[38;5;241;43m*\u001b[39;49m\u001b[43mkwargs\u001b[49m\u001b[43m)\u001b[49m\n",
      "File \u001b[0;32m~/Desktop/solu/solub_heroku_new-main/env/lib/python3.9/site-packages/requests/api.py:53\u001b[0m, in \u001b[0;36mrequest\u001b[0;34m(method, url, **kwargs)\u001b[0m\n\u001b[1;32m     49\u001b[0m \u001b[38;5;66;03m# By using the 'with' statement we are sure the session is closed, thus we\u001b[39;00m\n\u001b[1;32m     50\u001b[0m \u001b[38;5;66;03m# avoid leaving sockets open which can trigger a ResourceWarning in some\u001b[39;00m\n\u001b[1;32m     51\u001b[0m \u001b[38;5;66;03m# cases, and look like a memory leak in others.\u001b[39;00m\n\u001b[1;32m     52\u001b[0m \u001b[38;5;28;01mwith\u001b[39;00m sessions\u001b[38;5;241m.\u001b[39mSession() \u001b[38;5;28;01mas\u001b[39;00m session:\n\u001b[0;32m---> 53\u001b[0m     \u001b[38;5;28;01mreturn\u001b[39;00m \u001b[43msession\u001b[49m\u001b[38;5;241;43m.\u001b[39;49m\u001b[43mrequest\u001b[49m\u001b[43m(\u001b[49m\u001b[43mmethod\u001b[49m\u001b[38;5;241;43m=\u001b[39;49m\u001b[43mmethod\u001b[49m\u001b[43m,\u001b[49m\u001b[43m \u001b[49m\u001b[43murl\u001b[49m\u001b[38;5;241;43m=\u001b[39;49m\u001b[43murl\u001b[49m\u001b[43m,\u001b[49m\u001b[43m \u001b[49m\u001b[38;5;241;43m*\u001b[39;49m\u001b[38;5;241;43m*\u001b[39;49m\u001b[43mkwargs\u001b[49m\u001b[43m)\u001b[49m\n",
      "File \u001b[0;32m~/Desktop/solu/solub_heroku_new-main/env/lib/python3.9/site-packages/requests/sessions.py:468\u001b[0m, in \u001b[0;36mSession.request\u001b[0;34m(self, method, url, params, data, headers, cookies, files, auth, timeout, allow_redirects, proxies, hooks, stream, verify, cert, json)\u001b[0m\n\u001b[1;32m    463\u001b[0m send_kwargs \u001b[38;5;241m=\u001b[39m {\n\u001b[1;32m    464\u001b[0m     \u001b[38;5;124m'\u001b[39m\u001b[38;5;124mtimeout\u001b[39m\u001b[38;5;124m'\u001b[39m: timeout,\n\u001b[1;32m    465\u001b[0m     \u001b[38;5;124m'\u001b[39m\u001b[38;5;124mallow_redirects\u001b[39m\u001b[38;5;124m'\u001b[39m: allow_redirects,\n\u001b[1;32m    466\u001b[0m }\n\u001b[1;32m    467\u001b[0m send_kwargs\u001b[38;5;241m.\u001b[39mupdate(settings)\n\u001b[0;32m--> 468\u001b[0m resp \u001b[38;5;241m=\u001b[39m \u001b[38;5;28;43mself\u001b[39;49m\u001b[38;5;241;43m.\u001b[39;49m\u001b[43msend\u001b[49m\u001b[43m(\u001b[49m\u001b[43mprep\u001b[49m\u001b[43m,\u001b[49m\u001b[43m \u001b[49m\u001b[38;5;241;43m*\u001b[39;49m\u001b[38;5;241;43m*\u001b[39;49m\u001b[43msend_kwargs\u001b[49m\u001b[43m)\u001b[49m\n\u001b[1;32m    470\u001b[0m \u001b[38;5;28;01mreturn\u001b[39;00m resp\n",
      "File \u001b[0;32m~/Desktop/solu/solub_heroku_new-main/env/lib/python3.9/site-packages/requests/sessions.py:576\u001b[0m, in \u001b[0;36mSession.send\u001b[0;34m(self, request, **kwargs)\u001b[0m\n\u001b[1;32m    573\u001b[0m start \u001b[38;5;241m=\u001b[39m datetime\u001b[38;5;241m.\u001b[39mutcnow()\n\u001b[1;32m    575\u001b[0m \u001b[38;5;66;03m# Send the request\u001b[39;00m\n\u001b[0;32m--> 576\u001b[0m r \u001b[38;5;241m=\u001b[39m \u001b[43madapter\u001b[49m\u001b[38;5;241;43m.\u001b[39;49m\u001b[43msend\u001b[49m\u001b[43m(\u001b[49m\u001b[43mrequest\u001b[49m\u001b[43m,\u001b[49m\u001b[43m \u001b[49m\u001b[38;5;241;43m*\u001b[39;49m\u001b[38;5;241;43m*\u001b[39;49m\u001b[43mkwargs\u001b[49m\u001b[43m)\u001b[49m\n\u001b[1;32m    578\u001b[0m \u001b[38;5;66;03m# Total elapsed time of the request (approximately)\u001b[39;00m\n\u001b[1;32m    579\u001b[0m r\u001b[38;5;241m.\u001b[39melapsed \u001b[38;5;241m=\u001b[39m datetime\u001b[38;5;241m.\u001b[39mutcnow() \u001b[38;5;241m-\u001b[39m start\n",
      "File \u001b[0;32m~/Desktop/solu/solub_heroku_new-main/env/lib/python3.9/site-packages/requests/adapters.py:447\u001b[0m, in \u001b[0;36mHTTPAdapter.send\u001b[0;34m(self, request, stream, timeout, verify, cert, proxies)\u001b[0m\n\u001b[1;32m    445\u001b[0m \u001b[38;5;28;01mexcept\u001b[39;00m (_SSLError, _HTTPError) \u001b[38;5;28;01mas\u001b[39;00m e:\n\u001b[1;32m    446\u001b[0m     \u001b[38;5;28;01mif\u001b[39;00m \u001b[38;5;28misinstance\u001b[39m(e, _SSLError):\n\u001b[0;32m--> 447\u001b[0m         \u001b[38;5;28;01mraise\u001b[39;00m SSLError(e, request\u001b[38;5;241m=\u001b[39mrequest)\n\u001b[1;32m    448\u001b[0m     \u001b[38;5;28;01melif\u001b[39;00m \u001b[38;5;28misinstance\u001b[39m(e, ReadTimeoutError):\n\u001b[1;32m    449\u001b[0m         \u001b[38;5;28;01mraise\u001b[39;00m ReadTimeout(e, request\u001b[38;5;241m=\u001b[39mrequest)\n",
      "\u001b[0;31mSSLError\u001b[0m: EOF occurred in violation of protocol (_ssl.c:1129)"
     ]
    }
   ],
   "metadata": {}
  },
  {
   "cell_type": "code",
   "execution_count": null,
   "source": [],
   "outputs": [],
   "metadata": {}
  },
  {
   "cell_type": "code",
   "execution_count": null,
   "source": [],
   "outputs": [],
   "metadata": {}
  },
  {
   "cell_type": "code",
   "execution_count": null,
   "source": [],
   "outputs": [],
   "metadata": {}
  },
  {
   "cell_type": "code",
   "execution_count": null,
   "source": [],
   "outputs": [],
   "metadata": {}
  },
  {
   "cell_type": "code",
   "execution_count": null,
   "source": [],
   "outputs": [],
   "metadata": {}
  },
  {
   "cell_type": "code",
   "execution_count": null,
   "source": [],
   "outputs": [],
   "metadata": {}
  },
  {
   "cell_type": "code",
   "execution_count": null,
   "source": [],
   "outputs": [],
   "metadata": {}
  },
  {
   "cell_type": "code",
   "execution_count": null,
   "source": [],
   "outputs": [],
   "metadata": {}
  },
  {
   "cell_type": "code",
   "execution_count": null,
   "source": [],
   "outputs": [],
   "metadata": {}
  },
  {
   "cell_type": "code",
   "execution_count": null,
   "source": [],
   "outputs": [],
   "metadata": {}
  },
  {
   "cell_type": "code",
   "execution_count": null,
   "source": [],
   "outputs": [],
   "metadata": {}
  },
  {
   "cell_type": "code",
   "execution_count": null,
   "source": [],
   "outputs": [],
   "metadata": {}
  },
  {
   "cell_type": "code",
   "execution_count": 1,
   "source": [
    "import pandas as pd\n",
    "data1=pd.read_csv('/Users/mushtaqali/Downloads/CID-SMILES.csv')"
   ],
   "outputs": [],
   "metadata": {}
  },
  {
   "cell_type": "code",
   "execution_count": 22,
   "source": [
    "import pubchempy"
   ],
   "outputs": [],
   "metadata": {}
  },
  {
   "cell_type": "code",
   "execution_count": 1,
   "source": [
    "print(len(data1))"
   ],
   "outputs": [
    {
     "output_type": "error",
     "ename": "NameError",
     "evalue": "name 'data1' is not defined",
     "traceback": [
      "\u001b[0;31m---------------------------------------------------------------------------\u001b[0m",
      "\u001b[0;31mNameError\u001b[0m                                 Traceback (most recent call last)",
      "Input \u001b[0;32mIn [1]\u001b[0m, in \u001b[0;36m<cell line: 1>\u001b[0;34m()\u001b[0m\n\u001b[0;32m----> 1\u001b[0m \u001b[38;5;28mprint\u001b[39m(\u001b[38;5;28mlen\u001b[39m(\u001b[43mdata1\u001b[49m))\n",
      "\u001b[0;31mNameError\u001b[0m: name 'data1' is not defined"
     ]
    }
   ],
   "metadata": {}
  },
  {
   "cell_type": "code",
   "execution_count": 4,
   "source": [
    "data1.columns =['SMILES']"
   ],
   "outputs": [],
   "metadata": {}
  },
  {
   "cell_type": "code",
   "execution_count": 5,
   "source": [
    "data1.head(5)"
   ],
   "outputs": [
    {
     "output_type": "execute_result",
     "data": {
      "text/html": [
       "<div>\n",
       "<style scoped>\n",
       "    .dataframe tbody tr th:only-of-type {\n",
       "        vertical-align: middle;\n",
       "    }\n",
       "\n",
       "    .dataframe tbody tr th {\n",
       "        vertical-align: top;\n",
       "    }\n",
       "\n",
       "    .dataframe thead th {\n",
       "        text-align: right;\n",
       "    }\n",
       "</style>\n",
       "<table border=\"1\" class=\"dataframe\">\n",
       "  <thead>\n",
       "    <tr style=\"text-align: right;\">\n",
       "      <th></th>\n",
       "      <th>SMILES</th>\n",
       "    </tr>\n",
       "  </thead>\n",
       "  <tbody>\n",
       "    <tr>\n",
       "      <th>0</th>\n",
       "      <td>2\\tCC(=O)OC(CC(=O)O)C[N+](C)(C)C</td>\n",
       "    </tr>\n",
       "    <tr>\n",
       "      <th>1</th>\n",
       "      <td>3\\tC1=CC(C(C(=C1)C(=O)O)O)O</td>\n",
       "    </tr>\n",
       "    <tr>\n",
       "      <th>2</th>\n",
       "      <td>4\\tCC(CN)O</td>\n",
       "    </tr>\n",
       "    <tr>\n",
       "      <th>3</th>\n",
       "      <td>5\\tC(C(=O)COP(=O)(O)O)N</td>\n",
       "    </tr>\n",
       "    <tr>\n",
       "      <th>4</th>\n",
       "      <td>6\\tC1=CC(=C(C=C1[N+](=O)[O-])[N+](=O)[O-])Cl</td>\n",
       "    </tr>\n",
       "  </tbody>\n",
       "</table>\n",
       "</div>"
      ],
      "text/plain": [
       "                                         SMILES\n",
       "0              2\\tCC(=O)OC(CC(=O)O)C[N+](C)(C)C\n",
       "1                   3\\tC1=CC(C(C(=C1)C(=O)O)O)O\n",
       "2                                    4\\tCC(CN)O\n",
       "3                       5\\tC(C(=O)COP(=O)(O)O)N\n",
       "4  6\\tC1=CC(=C(C=C1[N+](=O)[O-])[N+](=O)[O-])Cl"
      ]
     },
     "metadata": {},
     "execution_count": 5
    }
   ],
   "metadata": {}
  },
  {
   "cell_type": "code",
   "execution_count": 6,
   "source": [
    "data2 =data1.SMILES.str.split('\\t').str[0]"
   ],
   "outputs": [],
   "metadata": {}
  },
  {
   "cell_type": "code",
   "execution_count": 7,
   "source": [
    "data2.head()"
   ],
   "outputs": [
    {
     "output_type": "execute_result",
     "data": {
      "text/plain": [
       "0                    2\n",
       "1                    3\n",
       "2                    4\n",
       "3                    5\n",
       "4                    6\n",
       "               ...    \n",
       "111403058    163319706\n",
       "111403059    163319707\n",
       "111403060    163319708\n",
       "111403061    163319709\n",
       "111403062    163319710\n",
       "Name: SMILES, Length: 111403063, dtype: object"
      ]
     },
     "metadata": {},
     "execution_count": 7
    }
   ],
   "metadata": {}
  },
  {
   "cell_type": "code",
   "execution_count": 8,
   "source": [
    "data3 =data1.SMILES.str.split('\\t').str[1]"
   ],
   "outputs": [],
   "metadata": {}
  },
  {
   "cell_type": "code",
   "execution_count": 9,
   "source": [
    "data3.head(5)"
   ],
   "outputs": [
    {
     "output_type": "execute_result",
     "data": {
      "text/plain": [
       "0                CC(=O)OC(CC(=O)O)C[N+](C)(C)C\n",
       "1                     C1=CC(C(C(=C1)C(=O)O)O)O\n",
       "2                                      CC(CN)O\n",
       "3                         C(C(=O)COP(=O)(O)O)N\n",
       "4    C1=CC(=C(C=C1[N+](=O)[O-])[N+](=O)[O-])Cl\n",
       "Name: SMILES, dtype: object"
      ]
     },
     "metadata": {},
     "execution_count": 9
    }
   ],
   "metadata": {}
  },
  {
   "cell_type": "code",
   "execution_count": 10,
   "source": [
    "data_final=pd.concat([data2,data3], axis=1)\n",
    "\n"
   ],
   "outputs": [],
   "metadata": {}
  },
  {
   "cell_type": "code",
   "execution_count": 29,
   "source": [
    "data_final"
   ],
   "outputs": [
    {
     "output_type": "execute_result",
     "data": {
      "text/html": [
       "<div>\n",
       "<style scoped>\n",
       "    .dataframe tbody tr th:only-of-type {\n",
       "        vertical-align: middle;\n",
       "    }\n",
       "\n",
       "    .dataframe tbody tr th {\n",
       "        vertical-align: top;\n",
       "    }\n",
       "\n",
       "    .dataframe thead th {\n",
       "        text-align: right;\n",
       "    }\n",
       "</style>\n",
       "<table border=\"1\" class=\"dataframe\">\n",
       "  <thead>\n",
       "    <tr style=\"text-align: right;\">\n",
       "      <th></th>\n",
       "      <th>SMILES</th>\n",
       "      <th>SMILES</th>\n",
       "    </tr>\n",
       "  </thead>\n",
       "  <tbody>\n",
       "    <tr>\n",
       "      <th>0</th>\n",
       "      <td>2</td>\n",
       "      <td>CC(=O)OC(CC(=O)O)C[N+](C)(C)C</td>\n",
       "    </tr>\n",
       "    <tr>\n",
       "      <th>1</th>\n",
       "      <td>3</td>\n",
       "      <td>C1=CC(C(C(=C1)C(=O)O)O)O</td>\n",
       "    </tr>\n",
       "    <tr>\n",
       "      <th>2</th>\n",
       "      <td>4</td>\n",
       "      <td>CC(CN)O</td>\n",
       "    </tr>\n",
       "    <tr>\n",
       "      <th>3</th>\n",
       "      <td>5</td>\n",
       "      <td>C(C(=O)COP(=O)(O)O)N</td>\n",
       "    </tr>\n",
       "    <tr>\n",
       "      <th>4</th>\n",
       "      <td>6</td>\n",
       "      <td>C1=CC(=C(C=C1[N+](=O)[O-])[N+](=O)[O-])Cl</td>\n",
       "    </tr>\n",
       "    <tr>\n",
       "      <th>...</th>\n",
       "      <td>...</td>\n",
       "      <td>...</td>\n",
       "    </tr>\n",
       "    <tr>\n",
       "      <th>111403058</th>\n",
       "      <td>163319706</td>\n",
       "      <td>CCCCC1COC2=CC=CC\\3=C2N1C=C/C3=C\\C(=O)N(C)C4=CC...</td>\n",
       "    </tr>\n",
       "    <tr>\n",
       "      <th>111403059</th>\n",
       "      <td>163319707</td>\n",
       "      <td>COC1=CC(=CC(=C1O)CN2CCCCC2)/C=C\\3/C(=O)/C(=C/C...</td>\n",
       "    </tr>\n",
       "    <tr>\n",
       "      <th>111403060</th>\n",
       "      <td>163319708</td>\n",
       "      <td>CC(C)C1=C[C@@]23CC[C@@H]4[C@@]([C@H]2C[C@@H]1[...</td>\n",
       "    </tr>\n",
       "    <tr>\n",
       "      <th>111403061</th>\n",
       "      <td>163319709</td>\n",
       "      <td>COC1=CC(=CC(=C1O)CN2CCOCC2)/C=C\\3/C(=O)/C(=C/C...</td>\n",
       "    </tr>\n",
       "    <tr>\n",
       "      <th>111403062</th>\n",
       "      <td>163319710</td>\n",
       "      <td>C[C@H]1[C@@H]2CC[C@]3([C@H]([C@]2(CC[C@@H]1N4C...</td>\n",
       "    </tr>\n",
       "  </tbody>\n",
       "</table>\n",
       "<p>111403063 rows × 2 columns</p>\n",
       "</div>"
      ],
      "text/plain": [
       "              SMILES                                             SMILES\n",
       "0                  2                      CC(=O)OC(CC(=O)O)C[N+](C)(C)C\n",
       "1                  3                           C1=CC(C(C(=C1)C(=O)O)O)O\n",
       "2                  4                                            CC(CN)O\n",
       "3                  5                               C(C(=O)COP(=O)(O)O)N\n",
       "4                  6          C1=CC(=C(C=C1[N+](=O)[O-])[N+](=O)[O-])Cl\n",
       "...              ...                                                ...\n",
       "111403058  163319706  CCCCC1COC2=CC=CC\\3=C2N1C=C/C3=C\\C(=O)N(C)C4=CC...\n",
       "111403059  163319707  COC1=CC(=CC(=C1O)CN2CCCCC2)/C=C\\3/C(=O)/C(=C/C...\n",
       "111403060  163319708  CC(C)C1=C[C@@]23CC[C@@H]4[C@@]([C@H]2C[C@@H]1[...\n",
       "111403061  163319709  COC1=CC(=CC(=C1O)CN2CCOCC2)/C=C\\3/C(=O)/C(=C/C...\n",
       "111403062  163319710  C[C@H]1[C@@H]2CC[C@]3([C@H]([C@]2(CC[C@@H]1N4C...\n",
       "\n",
       "[111403063 rows x 2 columns]"
      ]
     },
     "metadata": {},
     "execution_count": 29
    }
   ],
   "metadata": {}
  },
  {
   "cell_type": "code",
   "execution_count": 28,
   "source": [
    "df_new = data_final.rename(columns={'SMILES': 'CID'})\n",
    "\n",
    "\n",
    "#data_final.rename({'SMILES': 'CID', 'SMILES': 'SMILES'}, axis=1, inplace=True)\n",
    "\n",
    "df_new"
   ],
   "outputs": [
    {
     "output_type": "execute_result",
     "data": {
      "text/html": [
       "<div>\n",
       "<style scoped>\n",
       "    .dataframe tbody tr th:only-of-type {\n",
       "        vertical-align: middle;\n",
       "    }\n",
       "\n",
       "    .dataframe tbody tr th {\n",
       "        vertical-align: top;\n",
       "    }\n",
       "\n",
       "    .dataframe thead th {\n",
       "        text-align: right;\n",
       "    }\n",
       "</style>\n",
       "<table border=\"1\" class=\"dataframe\">\n",
       "  <thead>\n",
       "    <tr style=\"text-align: right;\">\n",
       "      <th></th>\n",
       "      <th>SMILES</th>\n",
       "      <th>SMILES</th>\n",
       "    </tr>\n",
       "  </thead>\n",
       "  <tbody>\n",
       "    <tr>\n",
       "      <th>0</th>\n",
       "      <td>2</td>\n",
       "      <td>CC(=O)OC(CC(=O)O)C[N+](C)(C)C</td>\n",
       "    </tr>\n",
       "    <tr>\n",
       "      <th>1</th>\n",
       "      <td>3</td>\n",
       "      <td>C1=CC(C(C(=C1)C(=O)O)O)O</td>\n",
       "    </tr>\n",
       "    <tr>\n",
       "      <th>2</th>\n",
       "      <td>4</td>\n",
       "      <td>CC(CN)O</td>\n",
       "    </tr>\n",
       "    <tr>\n",
       "      <th>3</th>\n",
       "      <td>5</td>\n",
       "      <td>C(C(=O)COP(=O)(O)O)N</td>\n",
       "    </tr>\n",
       "    <tr>\n",
       "      <th>4</th>\n",
       "      <td>6</td>\n",
       "      <td>C1=CC(=C(C=C1[N+](=O)[O-])[N+](=O)[O-])Cl</td>\n",
       "    </tr>\n",
       "    <tr>\n",
       "      <th>...</th>\n",
       "      <td>...</td>\n",
       "      <td>...</td>\n",
       "    </tr>\n",
       "    <tr>\n",
       "      <th>111403058</th>\n",
       "      <td>163319706</td>\n",
       "      <td>CCCCC1COC2=CC=CC\\3=C2N1C=C/C3=C\\C(=O)N(C)C4=CC...</td>\n",
       "    </tr>\n",
       "    <tr>\n",
       "      <th>111403059</th>\n",
       "      <td>163319707</td>\n",
       "      <td>COC1=CC(=CC(=C1O)CN2CCCCC2)/C=C\\3/C(=O)/C(=C/C...</td>\n",
       "    </tr>\n",
       "    <tr>\n",
       "      <th>111403060</th>\n",
       "      <td>163319708</td>\n",
       "      <td>CC(C)C1=C[C@@]23CC[C@@H]4[C@@]([C@H]2C[C@@H]1[...</td>\n",
       "    </tr>\n",
       "    <tr>\n",
       "      <th>111403061</th>\n",
       "      <td>163319709</td>\n",
       "      <td>COC1=CC(=CC(=C1O)CN2CCOCC2)/C=C\\3/C(=O)/C(=C/C...</td>\n",
       "    </tr>\n",
       "    <tr>\n",
       "      <th>111403062</th>\n",
       "      <td>163319710</td>\n",
       "      <td>C[C@H]1[C@@H]2CC[C@]3([C@H]([C@]2(CC[C@@H]1N4C...</td>\n",
       "    </tr>\n",
       "  </tbody>\n",
       "</table>\n",
       "<p>111403063 rows × 2 columns</p>\n",
       "</div>"
      ],
      "text/plain": [
       "              SMILES                                             SMILES\n",
       "0                  2                      CC(=O)OC(CC(=O)O)C[N+](C)(C)C\n",
       "1                  3                           C1=CC(C(C(=C1)C(=O)O)O)O\n",
       "2                  4                                            CC(CN)O\n",
       "3                  5                               C(C(=O)COP(=O)(O)O)N\n",
       "4                  6          C1=CC(=C(C=C1[N+](=O)[O-])[N+](=O)[O-])Cl\n",
       "...              ...                                                ...\n",
       "111403058  163319706  CCCCC1COC2=CC=CC\\3=C2N1C=C/C3=C\\C(=O)N(C)C4=CC...\n",
       "111403059  163319707  COC1=CC(=CC(=C1O)CN2CCCCC2)/C=C\\3/C(=O)/C(=C/C...\n",
       "111403060  163319708  CC(C)C1=C[C@@]23CC[C@@H]4[C@@]([C@H]2C[C@@H]1[...\n",
       "111403061  163319709  COC1=CC(=CC(=C1O)CN2CCOCC2)/C=C\\3/C(=O)/C(=C/C...\n",
       "111403062  163319710  C[C@H]1[C@@H]2CC[C@]3([C@H]([C@]2(CC[C@@H]1N4C...\n",
       "\n",
       "[111403063 rows x 2 columns]"
      ]
     },
     "metadata": {},
     "execution_count": 28
    }
   ],
   "metadata": {}
  },
  {
   "cell_type": "code",
   "execution_count": 30,
   "source": [
    "df_new.columns = ['CID', 'SMILES']"
   ],
   "outputs": [],
   "metadata": {}
  },
  {
   "cell_type": "code",
   "execution_count": 31,
   "source": [
    "df_new"
   ],
   "outputs": [
    {
     "output_type": "execute_result",
     "data": {
      "text/html": [
       "<div>\n",
       "<style scoped>\n",
       "    .dataframe tbody tr th:only-of-type {\n",
       "        vertical-align: middle;\n",
       "    }\n",
       "\n",
       "    .dataframe tbody tr th {\n",
       "        vertical-align: top;\n",
       "    }\n",
       "\n",
       "    .dataframe thead th {\n",
       "        text-align: right;\n",
       "    }\n",
       "</style>\n",
       "<table border=\"1\" class=\"dataframe\">\n",
       "  <thead>\n",
       "    <tr style=\"text-align: right;\">\n",
       "      <th></th>\n",
       "      <th>CID</th>\n",
       "      <th>SMILES</th>\n",
       "    </tr>\n",
       "  </thead>\n",
       "  <tbody>\n",
       "    <tr>\n",
       "      <th>0</th>\n",
       "      <td>2</td>\n",
       "      <td>CC(=O)OC(CC(=O)O)C[N+](C)(C)C</td>\n",
       "    </tr>\n",
       "    <tr>\n",
       "      <th>1</th>\n",
       "      <td>3</td>\n",
       "      <td>C1=CC(C(C(=C1)C(=O)O)O)O</td>\n",
       "    </tr>\n",
       "    <tr>\n",
       "      <th>2</th>\n",
       "      <td>4</td>\n",
       "      <td>CC(CN)O</td>\n",
       "    </tr>\n",
       "    <tr>\n",
       "      <th>3</th>\n",
       "      <td>5</td>\n",
       "      <td>C(C(=O)COP(=O)(O)O)N</td>\n",
       "    </tr>\n",
       "    <tr>\n",
       "      <th>4</th>\n",
       "      <td>6</td>\n",
       "      <td>C1=CC(=C(C=C1[N+](=O)[O-])[N+](=O)[O-])Cl</td>\n",
       "    </tr>\n",
       "    <tr>\n",
       "      <th>...</th>\n",
       "      <td>...</td>\n",
       "      <td>...</td>\n",
       "    </tr>\n",
       "    <tr>\n",
       "      <th>111403058</th>\n",
       "      <td>163319706</td>\n",
       "      <td>CCCCC1COC2=CC=CC\\3=C2N1C=C/C3=C\\C(=O)N(C)C4=CC...</td>\n",
       "    </tr>\n",
       "    <tr>\n",
       "      <th>111403059</th>\n",
       "      <td>163319707</td>\n",
       "      <td>COC1=CC(=CC(=C1O)CN2CCCCC2)/C=C\\3/C(=O)/C(=C/C...</td>\n",
       "    </tr>\n",
       "    <tr>\n",
       "      <th>111403060</th>\n",
       "      <td>163319708</td>\n",
       "      <td>CC(C)C1=C[C@@]23CC[C@@H]4[C@@]([C@H]2C[C@@H]1[...</td>\n",
       "    </tr>\n",
       "    <tr>\n",
       "      <th>111403061</th>\n",
       "      <td>163319709</td>\n",
       "      <td>COC1=CC(=CC(=C1O)CN2CCOCC2)/C=C\\3/C(=O)/C(=C/C...</td>\n",
       "    </tr>\n",
       "    <tr>\n",
       "      <th>111403062</th>\n",
       "      <td>163319710</td>\n",
       "      <td>C[C@H]1[C@@H]2CC[C@]3([C@H]([C@]2(CC[C@@H]1N4C...</td>\n",
       "    </tr>\n",
       "  </tbody>\n",
       "</table>\n",
       "<p>111403063 rows × 2 columns</p>\n",
       "</div>"
      ],
      "text/plain": [
       "                 CID                                             SMILES\n",
       "0                  2                      CC(=O)OC(CC(=O)O)C[N+](C)(C)C\n",
       "1                  3                           C1=CC(C(C(=C1)C(=O)O)O)O\n",
       "2                  4                                            CC(CN)O\n",
       "3                  5                               C(C(=O)COP(=O)(O)O)N\n",
       "4                  6          C1=CC(=C(C=C1[N+](=O)[O-])[N+](=O)[O-])Cl\n",
       "...              ...                                                ...\n",
       "111403058  163319706  CCCCC1COC2=CC=CC\\3=C2N1C=C/C3=C\\C(=O)N(C)C4=CC...\n",
       "111403059  163319707  COC1=CC(=CC(=C1O)CN2CCCCC2)/C=C\\3/C(=O)/C(=C/C...\n",
       "111403060  163319708  CC(C)C1=C[C@@]23CC[C@@H]4[C@@]([C@H]2C[C@@H]1[...\n",
       "111403061  163319709  COC1=CC(=CC(=C1O)CN2CCOCC2)/C=C\\3/C(=O)/C(=C/C...\n",
       "111403062  163319710  C[C@H]1[C@@H]2CC[C@]3([C@H]([C@]2(CC[C@@H]1N4C...\n",
       "\n",
       "[111403063 rows x 2 columns]"
      ]
     },
     "metadata": {},
     "execution_count": 31
    }
   ],
   "metadata": {}
  },
  {
   "cell_type": "code",
   "execution_count": 1,
   "source": [
    "df_new.to_csv('/users/mushtaqali/Downloads/CID-SMILES-fine.csv')\n"
   ],
   "outputs": [
    {
     "output_type": "error",
     "ename": "NameError",
     "evalue": "name 'df_new' is not defined",
     "traceback": [
      "\u001b[0;31m---------------------------------------------------------------------------\u001b[0m",
      "\u001b[0;31mNameError\u001b[0m                                 Traceback (most recent call last)",
      "Input \u001b[0;32mIn [1]\u001b[0m, in \u001b[0;36m<cell line: 1>\u001b[0;34m()\u001b[0m\n\u001b[0;32m----> 1\u001b[0m \u001b[43mdf_new\u001b[49m\u001b[38;5;241m.\u001b[39mto_csv(\u001b[38;5;124m'\u001b[39m\u001b[38;5;124m/users/mushtaqali/Downloads/CID-SMILES-fine.csv\u001b[39m\u001b[38;5;124m'\u001b[39m)\n",
      "\u001b[0;31mNameError\u001b[0m: name 'df_new' is not defined"
     ]
    }
   ],
   "metadata": {}
  },
  {
   "cell_type": "code",
   "execution_count": 1,
   "source": [
    "import pandas as pd \n",
    "data=pd.read_csv('/users/mushtaqali/Downloads/CID-SMILES-fine.csv')"
   ],
   "outputs": [],
   "metadata": {}
  },
  {
   "cell_type": "code",
   "execution_count": 5,
   "source": [
    "def remove_invalid(smiles):\n",
    "    \"\"\"\n",
    "    Removes invalid molecules from the dataset.\n",
    "    \"\"\"\n",
    "    #valid = [sm for sm in smiles if MolFromSmiles(sm)]\n",
    "    valid = Chem.MolFromSmiles(smiles)\n",
    "    if len(valid) == len(smiles):\n",
    "        return smiles, \"Given  SMILES is valid!\"\n",
    "    return valid, \"SMILES is invalid! Showing results for valid SMILES only!\"\n"
   ],
   "outputs": [],
   "metadata": {}
  },
  {
   "cell_type": "code",
   "execution_count": 8,
   "source": [
    "#smiles = 'CC(=O)OC1=CC=CC=C1C(=O)O'\n",
    "#remove_invalid(smiles)"
   ],
   "outputs": [],
   "metadata": {}
  },
  {
   "cell_type": "code",
   "execution_count": 2,
   "source": [
    "print(len(data))"
   ],
   "outputs": [
    {
     "output_type": "stream",
     "name": "stdout",
     "text": [
      "111403063\n"
     ]
    }
   ],
   "metadata": {}
  },
  {
   "cell_type": "code",
   "execution_count": 3,
   "source": [
    "\n",
    "data1=data[9000000:10000000]\n",
    "data2=data[10000000:11000000]\n",
    "data3=data[11000000:12000000]\n",
    "data4=data[12000000:13000000]\n",
    "data5=data[13000000:14000000]\n",
    "data6=data[14000000:15000000]\n",
    "data7=data[15000000:16000000]\n",
    "data8=data[16000000:17000000]\n",
    "data9=data[17000000:18000000]\n",
    "data10=data[18000000:19000000]\n",
    "data11=data[19000000:20000000]\n",
    "\n"
   ],
   "outputs": [],
   "metadata": {}
  },
  {
   "cell_type": "code",
   "execution_count": 5,
   "source": [
    "print(len(data11))"
   ],
   "outputs": [
    {
     "output_type": "stream",
     "name": "stdout",
     "text": [
      "1000000\n"
     ]
    }
   ],
   "metadata": {}
  },
  {
   "cell_type": "code",
   "execution_count": 6,
   "source": [
    "data1.to_csv('/users/mushtaqali/Downloads/pubchem/pubchem_9000k_10000k')\n",
    "data2.to_csv('/users/mushtaqali/Downloads/pubchem/pubchem_10000k_11000k')\n",
    "data3.to_csv('/users/mushtaqali/Downloads/pubchem/pubchem_11000k_12000k')\n",
    "data4.to_csv('/users/mushtaqali/Downloads/pubchem/pubchem_12000k_13000k')\n",
    "data5.to_csv('/users/mushtaqali/Downloads/pubchem/pubchem_13000k_14000k')\n",
    "data6.to_csv('/users/mushtaqali/Downloads/pubchem/pubchem_14000k_15000k')\n",
    "data7.to_csv('/users/mushtaqali/Downloads/pubchem/pubchem_15000k_16000k')\n",
    "data8.to_csv('/users/mushtaqali/Downloads/pubchem/pubchem_16000k_17000k')\n",
    "data9.to_csv('/users/mushtaqali/Downloads/pubchem/pubchem_17000k_18000k')\n",
    "data10.to_csv('/users/mushtaqali/Downloads/pubchem/pubchem_18000k_19000k')\n",
    "data11.to_csv('/users/mushtaqali/Downloads/pubchem/pubchem_19000k_20000k')"
   ],
   "outputs": [],
   "metadata": {}
  },
  {
   "cell_type": "code",
   "execution_count": 15,
   "source": [
    "data1=data[400000:410000]\n",
    "data2=data[410000:420000]\n",
    "data3=data[420000:430000]\n",
    "data4=data[430000:440000]\n",
    "data5=data[440000:450000]\n",
    "data6=data[450000:460000]\n",
    "data7=data[460000:470000]\n",
    "data8=data[470000:480000]\n",
    "data9=data[480000:490000]\n",
    "data10=data[490000:500000]\n",
    "data11=data[500000:510000]\n",
    "data12=data[510000:520000]\n",
    "data13=data[520000:530000]\n",
    "data14=data[530000:540000]\n",
    "data15=data[540000:550000]\n",
    "data16=data[550000:560000]\n",
    "data17=data[560000:570000]\n",
    "data18=data[570000:580000]\n",
    "data19=data[580000:590000]\n",
    "data20=data[590000:600000]"
   ],
   "outputs": [],
   "metadata": {}
  },
  {
   "cell_type": "code",
   "execution_count": 16,
   "source": [
    "data1.to_csv('/users/mushtaqali/Downloads/pubchem/pubchem_400k_410k.csv')\n",
    "data2.to_csv('/users/mushtaqali/Downloads/pubchem/pubchem_410k_420k.csv')\n",
    "data3.to_csv('/users/mushtaqali/Downloads/pubchem/pubchem_420k_430k.csv')\n",
    "data4.to_csv('/users/mushtaqali/Downloads/pubchem/pubchem_430k_440k.csv')\n",
    "data5.to_csv('/users/mushtaqali/Downloads/pubchem/pubchem_440k_450k.csv')\n",
    "data6.to_csv('/users/mushtaqali/Downloads/pubchem/pubchem_450k_460k.csv')\n",
    "data7.to_csv('/users/mushtaqali/Downloads/pubchem/pubchem_460k_470k.csv')\n",
    "data8.to_csv('/users/mushtaqali/Downloads/pubchem/pubchem_470k_480k.csv')\n",
    "data9.to_csv('/users/mushtaqali/Downloads/pubchem/pubchem_480k_490k.csv')\n",
    "data10.to_csv('/users/mushtaqali/Downloads/pubchem/pubchem_490k_500k.csv')\n",
    "data11.to_csv('/users/mushtaqali/Downloads/pubchem/pubchem_500k_510k.csv')\n",
    "data12.to_csv('/users/mushtaqali/Downloads/pubchem/pubchem_510k_520k.csv')\n",
    "data13.to_csv('/users/mushtaqali/Downloads/pubchem/pubchem_520k_530k.csv')\n",
    "data14.to_csv('/users/mushtaqali/Downloads/pubchem/pubchem_530k_540k.csv')\n",
    "data15.to_csv('/users/mushtaqali/Downloads/pubchem/pubchem_540k_550k.csv')\n",
    "data16.to_csv('/users/mushtaqali/Downloads/pubchem/pubchem_550k_560k.csv')\n",
    "data17.to_csv('/users/mushtaqali/Downloads/pubchem/pubchem_560k_570k.csv')\n",
    "data18.to_csv('/users/mushtaqali/Downloads/pubchem/pubchem_570k_580k.csv')\n",
    "data19.to_csv('/users/mushtaqali/Downloads/pubchem/pubchem_580k_590k.csv')\n",
    "data20.to_csv('/users/mushtaqali/Downloads/pubchem/pubchem_590k_600k.csv')\n",
    "\n",
    "\n"
   ],
   "outputs": [],
   "metadata": {}
  },
  {
   "cell_type": "code",
   "execution_count": null,
   "source": [
    "data.iloc[0:10000,]"
   ],
   "outputs": [],
   "metadata": {}
  },
  {
   "cell_type": "code",
   "execution_count": 22,
   "source": [
    "data\n"
   ],
   "outputs": [
    {
     "output_type": "execute_result",
     "data": {
      "text/html": [
       "<div>\n",
       "<style scoped>\n",
       "    .dataframe tbody tr th:only-of-type {\n",
       "        vertical-align: middle;\n",
       "    }\n",
       "\n",
       "    .dataframe tbody tr th {\n",
       "        vertical-align: top;\n",
       "    }\n",
       "\n",
       "    .dataframe thead th {\n",
       "        text-align: right;\n",
       "    }\n",
       "</style>\n",
       "<table border=\"1\" class=\"dataframe\">\n",
       "  <thead>\n",
       "    <tr style=\"text-align: right;\">\n",
       "      <th></th>\n",
       "      <th>Unnamed: 0</th>\n",
       "      <th>SMILES</th>\n",
       "      <th>SMILES.1</th>\n",
       "    </tr>\n",
       "  </thead>\n",
       "  <tbody>\n",
       "    <tr>\n",
       "      <th>0</th>\n",
       "      <td>0</td>\n",
       "      <td>2</td>\n",
       "      <td>CC(=O)OC(CC(=O)O)C[N+](C)(C)C</td>\n",
       "    </tr>\n",
       "    <tr>\n",
       "      <th>1</th>\n",
       "      <td>1</td>\n",
       "      <td>3</td>\n",
       "      <td>C1=CC(C(C(=C1)C(=O)O)O)O</td>\n",
       "    </tr>\n",
       "    <tr>\n",
       "      <th>2</th>\n",
       "      <td>2</td>\n",
       "      <td>4</td>\n",
       "      <td>CC(CN)O</td>\n",
       "    </tr>\n",
       "    <tr>\n",
       "      <th>3</th>\n",
       "      <td>3</td>\n",
       "      <td>5</td>\n",
       "      <td>C(C(=O)COP(=O)(O)O)N</td>\n",
       "    </tr>\n",
       "    <tr>\n",
       "      <th>4</th>\n",
       "      <td>4</td>\n",
       "      <td>6</td>\n",
       "      <td>C1=CC(=C(C=C1[N+](=O)[O-])[N+](=O)[O-])Cl</td>\n",
       "    </tr>\n",
       "    <tr>\n",
       "      <th>...</th>\n",
       "      <td>...</td>\n",
       "      <td>...</td>\n",
       "      <td>...</td>\n",
       "    </tr>\n",
       "    <tr>\n",
       "      <th>111403058</th>\n",
       "      <td>111403058</td>\n",
       "      <td>163319706</td>\n",
       "      <td>CCCCC1COC2=CC=CC\\3=C2N1C=C/C3=C\\C(=O)N(C)C4=CC...</td>\n",
       "    </tr>\n",
       "    <tr>\n",
       "      <th>111403059</th>\n",
       "      <td>111403059</td>\n",
       "      <td>163319707</td>\n",
       "      <td>COC1=CC(=CC(=C1O)CN2CCCCC2)/C=C\\3/C(=O)/C(=C/C...</td>\n",
       "    </tr>\n",
       "    <tr>\n",
       "      <th>111403060</th>\n",
       "      <td>111403060</td>\n",
       "      <td>163319708</td>\n",
       "      <td>CC(C)C1=C[C@@]23CC[C@@H]4[C@@]([C@H]2C[C@@H]1[...</td>\n",
       "    </tr>\n",
       "    <tr>\n",
       "      <th>111403061</th>\n",
       "      <td>111403061</td>\n",
       "      <td>163319709</td>\n",
       "      <td>COC1=CC(=CC(=C1O)CN2CCOCC2)/C=C\\3/C(=O)/C(=C/C...</td>\n",
       "    </tr>\n",
       "    <tr>\n",
       "      <th>111403062</th>\n",
       "      <td>111403062</td>\n",
       "      <td>163319710</td>\n",
       "      <td>C[C@H]1[C@@H]2CC[C@]3([C@H]([C@]2(CC[C@@H]1N4C...</td>\n",
       "    </tr>\n",
       "  </tbody>\n",
       "</table>\n",
       "<p>111403063 rows × 3 columns</p>\n",
       "</div>"
      ],
      "text/plain": [
       "           Unnamed: 0     SMILES  \\\n",
       "0                   0          2   \n",
       "1                   1          3   \n",
       "2                   2          4   \n",
       "3                   3          5   \n",
       "4                   4          6   \n",
       "...               ...        ...   \n",
       "111403058   111403058  163319706   \n",
       "111403059   111403059  163319707   \n",
       "111403060   111403060  163319708   \n",
       "111403061   111403061  163319709   \n",
       "111403062   111403062  163319710   \n",
       "\n",
       "                                                    SMILES.1  \n",
       "0                              CC(=O)OC(CC(=O)O)C[N+](C)(C)C  \n",
       "1                                   C1=CC(C(C(=C1)C(=O)O)O)O  \n",
       "2                                                    CC(CN)O  \n",
       "3                                       C(C(=O)COP(=O)(O)O)N  \n",
       "4                  C1=CC(=C(C=C1[N+](=O)[O-])[N+](=O)[O-])Cl  \n",
       "...                                                      ...  \n",
       "111403058  CCCCC1COC2=CC=CC\\3=C2N1C=C/C3=C\\C(=O)N(C)C4=CC...  \n",
       "111403059  COC1=CC(=CC(=C1O)CN2CCCCC2)/C=C\\3/C(=O)/C(=C/C...  \n",
       "111403060  CC(C)C1=C[C@@]23CC[C@@H]4[C@@]([C@H]2C[C@@H]1[...  \n",
       "111403061  COC1=CC(=CC(=C1O)CN2CCOCC2)/C=C\\3/C(=O)/C(=C/C...  \n",
       "111403062  C[C@H]1[C@@H]2CC[C@]3([C@H]([C@]2(CC[C@@H]1N4C...  \n",
       "\n",
       "[111403063 rows x 3 columns]"
      ]
     },
     "metadata": {},
     "execution_count": 22
    }
   ],
   "metadata": {}
  },
  {
   "cell_type": "code",
   "execution_count": 21,
   "source": [
    "data1"
   ],
   "outputs": [
    {
     "output_type": "execute_result",
     "data": {
      "text/html": [
       "<div>\n",
       "<style scoped>\n",
       "    .dataframe tbody tr th:only-of-type {\n",
       "        vertical-align: middle;\n",
       "    }\n",
       "\n",
       "    .dataframe tbody tr th {\n",
       "        vertical-align: top;\n",
       "    }\n",
       "\n",
       "    .dataframe thead th {\n",
       "        text-align: right;\n",
       "    }\n",
       "</style>\n",
       "<table border=\"1\" class=\"dataframe\">\n",
       "  <thead>\n",
       "    <tr style=\"text-align: right;\">\n",
       "      <th></th>\n",
       "      <th>Unnamed: 0</th>\n",
       "      <th>SMILES</th>\n",
       "      <th>SMILES.1</th>\n",
       "    </tr>\n",
       "  </thead>\n",
       "  <tbody>\n",
       "    <tr>\n",
       "      <th>0</th>\n",
       "      <td>0</td>\n",
       "      <td>2</td>\n",
       "      <td>CC(=O)OC(CC(=O)O)C[N+](C)(C)C</td>\n",
       "    </tr>\n",
       "    <tr>\n",
       "      <th>1</th>\n",
       "      <td>1</td>\n",
       "      <td>3</td>\n",
       "      <td>C1=CC(C(C(=C1)C(=O)O)O)O</td>\n",
       "    </tr>\n",
       "    <tr>\n",
       "      <th>2</th>\n",
       "      <td>2</td>\n",
       "      <td>4</td>\n",
       "      <td>CC(CN)O</td>\n",
       "    </tr>\n",
       "    <tr>\n",
       "      <th>3</th>\n",
       "      <td>3</td>\n",
       "      <td>5</td>\n",
       "      <td>C(C(=O)COP(=O)(O)O)N</td>\n",
       "    </tr>\n",
       "    <tr>\n",
       "      <th>4</th>\n",
       "      <td>4</td>\n",
       "      <td>6</td>\n",
       "      <td>C1=CC(=C(C=C1[N+](=O)[O-])[N+](=O)[O-])Cl</td>\n",
       "    </tr>\n",
       "    <tr>\n",
       "      <th>...</th>\n",
       "      <td>...</td>\n",
       "      <td>...</td>\n",
       "      <td>...</td>\n",
       "    </tr>\n",
       "    <tr>\n",
       "      <th>9995</th>\n",
       "      <td>9995</td>\n",
       "      <td>10592</td>\n",
       "      <td>CC12CCC(=O)CC1CCC3C2C(CC4(C3CC[C@@]4(C(=O)CO)O...</td>\n",
       "    </tr>\n",
       "    <tr>\n",
       "      <th>9996</th>\n",
       "      <td>9996</td>\n",
       "      <td>10593</td>\n",
       "      <td>CC12CCC(CC1CCC3C2CCC4(C3CC[C@@]4(C(=O)CO)O)C)O</td>\n",
       "    </tr>\n",
       "    <tr>\n",
       "      <th>9997</th>\n",
       "      <td>9997</td>\n",
       "      <td>10594</td>\n",
       "      <td>CC(CCC(=O)NCCS(=O)(=O)O)[C@H]1CC[C@@H]2[C@@]1(...</td>\n",
       "    </tr>\n",
       "    <tr>\n",
       "      <th>9998</th>\n",
       "      <td>9998</td>\n",
       "      <td>10595</td>\n",
       "      <td>CC(CCC(=O)NCCS(=O)(=O)O)[C@H]1CC[C@@H]2[C@@]1(...</td>\n",
       "    </tr>\n",
       "    <tr>\n",
       "      <th>9999</th>\n",
       "      <td>9999</td>\n",
       "      <td>10596</td>\n",
       "      <td>CC12CCC3[C@@H](C1CC[C@@H]2O)CCC4=C3C=CC(=C4)O</td>\n",
       "    </tr>\n",
       "  </tbody>\n",
       "</table>\n",
       "<p>10000 rows × 3 columns</p>\n",
       "</div>"
      ],
      "text/plain": [
       "      Unnamed: 0  SMILES                                           SMILES.1\n",
       "0              0       2                      CC(=O)OC(CC(=O)O)C[N+](C)(C)C\n",
       "1              1       3                           C1=CC(C(C(=C1)C(=O)O)O)O\n",
       "2              2       4                                            CC(CN)O\n",
       "3              3       5                               C(C(=O)COP(=O)(O)O)N\n",
       "4              4       6          C1=CC(=C(C=C1[N+](=O)[O-])[N+](=O)[O-])Cl\n",
       "...          ...     ...                                                ...\n",
       "9995        9995   10592  CC12CCC(=O)CC1CCC3C2C(CC4(C3CC[C@@]4(C(=O)CO)O...\n",
       "9996        9996   10593     CC12CCC(CC1CCC3C2CCC4(C3CC[C@@]4(C(=O)CO)O)C)O\n",
       "9997        9997   10594  CC(CCC(=O)NCCS(=O)(=O)O)[C@H]1CC[C@@H]2[C@@]1(...\n",
       "9998        9998   10595  CC(CCC(=O)NCCS(=O)(=O)O)[C@H]1CC[C@@H]2[C@@]1(...\n",
       "9999        9999   10596      CC12CCC3[C@@H](C1CC[C@@H]2O)CCC4=C3C=CC(=C4)O\n",
       "\n",
       "[10000 rows x 3 columns]"
      ]
     },
     "metadata": {},
     "execution_count": 21
    }
   ],
   "metadata": {}
  },
  {
   "cell_type": "code",
   "execution_count": 8,
   "source": [
    "print(df.Geek_ID.str.split('_').str[0])\n",
    "\n",
    "data.head()"
   ],
   "outputs": [
    {
     "output_type": "execute_result",
     "data": {
      "text/html": [
       "<div>\n",
       "<style scoped>\n",
       "    .dataframe tbody tr th:only-of-type {\n",
       "        vertical-align: middle;\n",
       "    }\n",
       "\n",
       "    .dataframe tbody tr th {\n",
       "        vertical-align: top;\n",
       "    }\n",
       "\n",
       "    .dataframe thead th {\n",
       "        text-align: right;\n",
       "    }\n",
       "</style>\n",
       "<table border=\"1\" class=\"dataframe\">\n",
       "  <thead>\n",
       "    <tr style=\"text-align: right;\">\n",
       "      <th></th>\n",
       "      <th>1\\tCC(=O)OC(CC(=O)[O-])C[N+](C)(C)C</th>\n",
       "    </tr>\n",
       "  </thead>\n",
       "  <tbody>\n",
       "    <tr>\n",
       "      <th>0</th>\n",
       "      <td>2\\tCC(=O)OC(CC(=O)O)C[N+](C)(C)C</td>\n",
       "    </tr>\n",
       "    <tr>\n",
       "      <th>1</th>\n",
       "      <td>3\\tC1=CC(C(C(=C1)C(=O)O)O)O</td>\n",
       "    </tr>\n",
       "    <tr>\n",
       "      <th>2</th>\n",
       "      <td>4\\tCC(CN)O</td>\n",
       "    </tr>\n",
       "    <tr>\n",
       "      <th>3</th>\n",
       "      <td>5\\tC(C(=O)COP(=O)(O)O)N</td>\n",
       "    </tr>\n",
       "    <tr>\n",
       "      <th>4</th>\n",
       "      <td>6\\tC1=CC(=C(C=C1[N+](=O)[O-])[N+](=O)[O-])Cl</td>\n",
       "    </tr>\n",
       "  </tbody>\n",
       "</table>\n",
       "</div>"
      ],
      "text/plain": [
       "            1\\tCC(=O)OC(CC(=O)[O-])C[N+](C)(C)C\n",
       "0              2\\tCC(=O)OC(CC(=O)O)C[N+](C)(C)C\n",
       "1                   3\\tC1=CC(C(C(=C1)C(=O)O)O)O\n",
       "2                                    4\\tCC(CN)O\n",
       "3                       5\\tC(C(=O)COP(=O)(O)O)N\n",
       "4  6\\tC1=CC(=C(C=C1[N+](=O)[O-])[N+](=O)[O-])Cl"
      ]
     },
     "metadata": {},
     "execution_count": 8
    }
   ],
   "metadata": {}
  },
  {
   "cell_type": "code",
   "execution_count": 3,
   "source": [
    "import pubchempy as pcp\n",
    "\n",
    "import pandas as pd"
   ],
   "outputs": [],
   "metadata": {}
  },
  {
   "cell_type": "code",
   "execution_count": 4,
   "source": [
    "def smiles_to_sol(SMILES):\n",
    "   prop=pcp.get_properties([ 'MolecularWeight'], SMILES, 'smiles')\n",
    "   x = list(map(lambda x: x[\"CID\"], prop))\n",
    "   y=x[0]\n",
    "   #print(y)\n",
    "   x = \"https://pubchem.ncbi.nlm.nih.gov/rest/pug_view/data/compound/%s/xml\"\n",
    "   data=requests.get(x % y)\n",
    "   \n",
    "   html = BeautifulSoup(data.content, \"xml\")\n",
    "   solubility = html.find(name='TOCHeading', string='Solubility')\n",
    "   #print(dtype(solubility))\n",
    "   if solubility == None:\n",
    "      return None  \n",
    "   #elif          # or pass\n",
    "   else:\n",
    "     solub=solubility.find_next_sibling('Information').find(name='String').string\n",
    "     return solub"
   ],
   "outputs": [],
   "metadata": {}
  },
  {
   "cell_type": "code",
   "execution_count": 4,
   "source": [
    "!pip install openpyxl"
   ],
   "outputs": [
    {
     "output_type": "stream",
     "name": "stdout",
     "text": [
      "Requirement already satisfied: openpyxl in ./env/lib/python3.9/site-packages (3.0.10)\n",
      "Requirement already satisfied: et-xmlfile in ./env/lib/python3.9/site-packages (from openpyxl) (1.1.0)\n",
      "\u001b[33mWARNING: You are using pip version 21.2.4; however, version 22.2.2 is available.\n",
      "You should consider upgrading via the '/Users/mushtaqali/Desktop/solu/solub_heroku_new-main/env/bin/python -m pip install --upgrade pip' command.\u001b[0m\n"
     ]
    }
   ],
   "metadata": {}
  },
  {
   "cell_type": "code",
   "execution_count": 5,
   "source": [
    "\n",
    "\n",
    "import pandas as pd\n",
    "### Getting the list of the smiles \n",
    "\n",
    "#df1=pd.read_excel(r'/Users/mushtaqali/Downloads/pubchem_5001_10000.xlsx')\n",
    "\n",
    "df = pd.read_excel(r'/Users/mushtaqali/Downloads/pubchem_10000_20000.xlsx', engine='openpyxl')\n",
    "#df = pd.read_excel(r'/Users/mushtaqali/Downloads/pubchem_1_10000.xlsx', engine='openpyxl')\n"
   ],
   "outputs": [],
   "metadata": {}
  },
  {
   "cell_type": "code",
   "execution_count": 5,
   "source": [
    "df.head()"
   ],
   "outputs": [
    {
     "output_type": "execute_result",
     "data": {
      "text/html": [
       "<div>\n",
       "<style scoped>\n",
       "    .dataframe tbody tr th:only-of-type {\n",
       "        vertical-align: middle;\n",
       "    }\n",
       "\n",
       "    .dataframe tbody tr th {\n",
       "        vertical-align: top;\n",
       "    }\n",
       "\n",
       "    .dataframe thead th {\n",
       "        text-align: right;\n",
       "    }\n",
       "</style>\n",
       "<table border=\"1\" class=\"dataframe\">\n",
       "  <thead>\n",
       "    <tr style=\"text-align: right;\">\n",
       "      <th></th>\n",
       "      <th>SrN</th>\n",
       "      <th>SMILES</th>\n",
       "    </tr>\n",
       "  </thead>\n",
       "  <tbody>\n",
       "    <tr>\n",
       "      <th>0</th>\n",
       "      <td>10596</td>\n",
       "      <td>CC12CCC3[C@@H](C1CC[C@@H]2O)CCC4=C3C=CC(=C4)O</td>\n",
       "    </tr>\n",
       "    <tr>\n",
       "      <th>1</th>\n",
       "      <td>10597</td>\n",
       "      <td>CC12CCC3=C(C1CCC2=O)C=CC4=C3C=CC(=C4)O</td>\n",
       "    </tr>\n",
       "    <tr>\n",
       "      <th>2</th>\n",
       "      <td>10598</td>\n",
       "      <td>CC[Hg]N(C1=CC=CC=C1)S(=O)(=O)C2=CC=C(C=C2)C</td>\n",
       "    </tr>\n",
       "    <tr>\n",
       "      <th>3</th>\n",
       "      <td>10599</td>\n",
       "      <td>CCC(C1=CC2=C(C=C1)C=C(C=C2)OC)C(C)(C)C(=O)O</td>\n",
       "    </tr>\n",
       "    <tr>\n",
       "      <th>4</th>\n",
       "      <td>10600</td>\n",
       "      <td>CCC1=C(NC=C1C)C</td>\n",
       "    </tr>\n",
       "  </tbody>\n",
       "</table>\n",
       "</div>"
      ],
      "text/plain": [
       "     SrN                                         SMILES\n",
       "0  10596  CC12CCC3[C@@H](C1CC[C@@H]2O)CCC4=C3C=CC(=C4)O\n",
       "1  10597         CC12CCC3=C(C1CCC2=O)C=CC4=C3C=CC(=C4)O\n",
       "2  10598    CC[Hg]N(C1=CC=CC=C1)S(=O)(=O)C2=CC=C(C=C2)C\n",
       "3  10599    CCC(C1=CC2=C(C=C1)C=C(C=C2)OC)C(C)(C)C(=O)O\n",
       "4  10600                                CCC1=C(NC=C1C)C"
      ]
     },
     "metadata": {},
     "execution_count": 5
    }
   ],
   "metadata": {}
  },
  {
   "cell_type": "code",
   "execution_count": 6,
   "source": [
    "dfnew1=df[0:500]\n",
    "dfnew2=df[500:1000]\n",
    "dfnew3=df[1000:1500]\n",
    "dfnew4=df[1500:2000]\n",
    "dfnew5=df[2000:2500]\n",
    "dfnew6=df[2500:3000]\n",
    "dfnew7=df[3000:3500]\n",
    "dfnew8=df[3500:4000]\n",
    "dfnew9=df[4000:4500]\n",
    "dfnew10=df[4500:5000]\n",
    "dfnew11=df[5000:5500]\n",
    "dfnew12=df[5500:6000]\n",
    "dfnew13=df[6000:6500]\n",
    "dfnew14=df[6500:7000]\n",
    "dfnew15=df[7000:7500]\n",
    "dfnew16=df[7500:8000]\n",
    "dfnew17=df[8000:8500]\n",
    "dfnew18=df[8500:9000]\n",
    "dfnew19=df[9000:9500]\n",
    "dfnew20=df[9500:10000]\n",
    "\n",
    "\n"
   ],
   "outputs": [],
   "metadata": {}
  },
  {
   "cell_type": "code",
   "execution_count": 71,
   "source": [
    "dfnew1 = dfnew1.reset_index()\n",
    "\n",
    "print(dfnew1)"
   ],
   "outputs": [
    {
     "output_type": "stream",
     "name": "stdout",
     "text": [
      "   level_0  index    SrN                                         SMILES\n",
      "0        0      0  10596  CC12CCC3[C@@H](C1CC[C@@H]2O)CCC4=C3C=CC(=C4)O\n",
      "1        1      1  10597         CC12CCC3=C(C1CCC2=O)C=CC4=C3C=CC(=C4)O\n",
      "2        2      2  10598    CC[Hg]N(C1=CC=CC=C1)S(=O)(=O)C2=CC=C(C=C2)C\n",
      "3        3      3  10599    CCC(C1=CC2=C(C=C1)C=C(C=C2)OC)C(C)(C)C(=O)O\n",
      "4        4      4  10600                                CCC1=C(NC=C1C)C\n"
     ]
    }
   ],
   "metadata": {}
  },
  {
   "cell_type": "code",
   "execution_count": 11,
   "source": [
    "dfnew1.SrN[1]"
   ],
   "outputs": [
    {
     "output_type": "execute_result",
     "data": {
      "text/plain": [
       "2"
      ]
     },
     "metadata": {},
     "execution_count": 11
    }
   ],
   "metadata": {}
  },
  {
   "cell_type": "code",
   "execution_count": 7,
   "source": [
    "!pip install pyopenssl ndg-httpsclient pyasn1 urllib3\n"
   ],
   "outputs": [
    {
     "output_type": "stream",
     "name": "stdout",
     "text": [
      "Requirement already satisfied: pyopenssl in ./env/lib/python3.9/site-packages (22.0.0)\n",
      "Requirement already satisfied: ndg-httpsclient in ./env/lib/python3.9/site-packages (0.5.1)\n",
      "Requirement already satisfied: pyasn1 in ./env/lib/python3.9/site-packages (0.4.8)\n",
      "Requirement already satisfied: urllib3 in ./env/lib/python3.9/site-packages (1.26.11)\n",
      "Requirement already satisfied: cryptography>=35.0 in ./env/lib/python3.9/site-packages (from pyopenssl) (37.0.2)\n",
      "Requirement already satisfied: cffi>=1.12 in ./env/lib/python3.9/site-packages (from cryptography>=35.0->pyopenssl) (1.15.0)\n",
      "Requirement already satisfied: pycparser in ./env/lib/python3.9/site-packages (from cffi>=1.12->cryptography>=35.0->pyopenssl) (2.21)\n",
      "\u001b[33mWARNING: You are using pip version 21.2.4; however, version 22.2.2 is available.\n",
      "You should consider upgrading via the '/Users/mushtaqali/Desktop/solu/solub_heroku_new-main/env/bin/python -m pip install --upgrade pip' command.\u001b[0m\n"
     ]
    }
   ],
   "metadata": {}
  },
  {
   "cell_type": "code",
   "execution_count": 8,
   "source": [
    "def cid_to_sol(id):\n",
    "   x=\"https://pubchem.ncbi.nlm.nih.gov/rest/pug_view/data/compound/%s/xml\"\n",
    "   data=requests.get(x % id)#,timeout=(10,20) )\n",
    "   html = BeautifulSoup(data.content, \"xml\")\n",
    "   solubility = html.find(name='TOCHeading', string='Solubility')\n",
    "   #print(dtype(solubility))\n",
    "   if solubility == None:\n",
    "      return None  \n",
    "   #elif          # or pass\n",
    "   else:\n",
    "     solub=solubility.find_next_sibling('Information').find(name='String').string\n",
    "     return solub"
   ],
   "outputs": [],
   "metadata": {}
  },
  {
   "cell_type": "code",
   "execution_count": 40,
   "source": [
    "\n",
    "for idx, my_df in enumerate([dfnew1, dfnew2, dfnew3]):\n",
    "  my_df.to_csv('mypath/df_' + str(idx + 1) +'.csv')\n",
    "\n",
    "\n",
    "    \n"
   ],
   "outputs": [
    {
     "output_type": "stream",
     "name": "stdout",
     "text": [
      "       SrN                                             SMILES\n",
      "0    10596      CC12CCC3[C@@H](C1CC[C@@H]2O)CCC4=C3C=CC(=C4)O\n",
      "1    10597             CC12CCC3=C(C1CCC2=O)C=CC4=C3C=CC(=C4)O\n",
      "2    10598        CC[Hg]N(C1=CC=CC=C1)S(=O)(=O)C2=CC=C(C=C2)C\n",
      "3    10599        CCC(C1=CC2=C(C=C1)C=C(C=C2)OC)C(C)(C)C(=O)O\n",
      "4    10600                                    CCC1=C(NC=C1C)C\n",
      "..     ...                                                ...\n",
      "495  11130                                       CCN(CC)CC.Cl\n",
      "496  11134  C1=CC=C(C=C1)NC2=CC=C(C=C2)N=NC3=CC=C(C=C3)S(=...\n",
      "497  11135                         C1=CC(=CC=C1N)[Sb](=O)(O)O\n",
      "498  11136                      C1=CC(=CC=C1S(=O)(=O)O)[Hg]Cl\n",
      "499  11137                       C1=CC(=CC(=C1)O)[N+](=O)[O-]\n",
      "\n",
      "[500 rows x 2 columns]\n",
      "       SrN                                SMILES\n",
      "500  11138     C1=C(C=C(C=C1C(=O)O)C(=O)O)C(=O)O\n",
      "501  11139           CN(C)CC(C1=CC(=C(C=C1)O)O)O\n",
      "502  11140           COC1=CC=CC(=C1)[N+](=O)[O-]\n",
      "503  11142                    CC(C)C1CCC(=C)C=C1\n",
      "504  11143  CC(C)[O-].CC(C)[O-].CC(C)[O-].[Al+3]\n",
      "..     ...                                   ...\n",
      "995  11657                                CC1CC1\n",
      "996  11658                           CC(C)(Br)Br\n",
      "997  11659                       C(Cl)(Cl)(Br)Br\n",
      "998  11660                           CC(C)(Cl)Cl\n",
      "999  11661                          C[Sn](C)(C)C\n",
      "\n",
      "[500 rows x 2 columns]\n",
      "        SrN                                             SMILES\n",
      "1000  11662  C1=CC=C(C=C1)[Sb](C2=CC=CC=C2)(C3=CC=CC=C3)(Cl)Cl\n",
      "1001  11663                                       CC(C)C(Br)Br\n",
      "1002  11664                                       CC(C)C(Cl)Cl\n",
      "1003  11665                                         CCC(C)(C)I\n",
      "1004  11666                                   C(SCl)(Cl)(Cl)Cl\n",
      "...     ...                                                ...\n",
      "1495  12165                                   CC1=CC=C(C=C1)NC\n",
      "1496  12166                                  CC1=CC=C(C=C1)N=O\n",
      "1497  12167                                  COC1=CC=C(C=C1)Cl\n",
      "1498  12168                              CC(=O)CC(=O)C1=CC=CO1\n",
      "1499  12169                               C1=COC(=C1)C=CC(=O)N\n",
      "\n",
      "[500 rows x 2 columns]\n"
     ]
    }
   ],
   "metadata": {}
  },
  {
   "cell_type": "code",
   "execution_count": 66,
   "source": [
    "obj=[dfnew1, dfnew2, dfnew3]\n",
    "\n",
    "#for  my_df in enumerate([dfnew1, dfnew2, dfnew3]):\n",
    "print(obj[1])\n",
    "    \n"
   ],
   "outputs": [
    {
     "output_type": "stream",
     "name": "stdout",
     "text": [
      "     SrN                                             SMILES\n",
      "5  10601                                    CC(=O)C1CCOC1=O\n",
      "6  10602          C([N+](=O)[O-])([N+](=O)[O-])[N+](=O)[O-]\n",
      "7  10603       C1C2=CC(=C(C=C2C3C1(COC4=C3C=CC(=C4O)O)O)O)O\n",
      "8  10604  CC1=C(C(=O)N(N1C)C2=CC=CC=C2)C3=C(N(N(C3=O)C4=...\n",
      "9  10605  CNC1CCC2=CC(=C(C(=C2C3=CC=C(C(=O)C=C13)O)OC)OC)OC\n"
     ]
    }
   ],
   "metadata": {}
  },
  {
   "cell_type": "code",
   "execution_count": 74,
   "source": [
    "dfnew3 = dfnew3.reset_index()"
   ],
   "outputs": [],
   "metadata": {}
  },
  {
   "cell_type": "code",
   "execution_count": 11,
   "source": [
    "import time\n",
    "obj=[dfnew1, dfnew2, dfnew3,\n",
    "    dfnew4, dfnew5, dfnew6,dfnew7,dfnew8, dfnew9, dfnew10]\n",
    "   # ,dfnew11, dfnew12, dfnew13,\n",
    "   # dfnew14, dfnew15, dfnew16,dfnew17, dfnew18, dfnew19,dfnew20\n",
    "    # ]\n",
    "#dfnew1 = dfnew1.reset_index()\n",
    "p_sol_final=[]\n",
    "for j in range(10):\n",
    "    P_sol=[]\n",
    "    for i in range(500):\n",
    "      try:\n",
    "        time.sleep(1) # Sleep for 1 seconds\n",
    "        obj[j] = obj[j].reset_index(drop=True)\n",
    "        sol=cid_to_sol(obj[j].SrN[i])\n",
    "        #\n",
    "        P_sol.append(sol)\n",
    "      except AttributeError as e:\n",
    "        sol=='No string'\n",
    "        P_sol.append(sol)\n",
    "    p_sol_final.append(P_sol) \n",
    "df1 = pd.DataFrame(p_sol_final)\n",
    "joinlist = [x for list in p_sol_final for x in list]\n",
    "df1 = pd.DataFrame(joinlist) \n",
    "df=pd.concat(obj)\n",
    "df1 = df1.reset_index(drop=True)\n",
    "df = df.reset_index(drop=True) \n",
    "data = pd.concat([df, df1], axis=1, join='inner')\n",
    "data.to_csv('/Users/mushtaqali/Desktop/pubchem_10000_15000.csv') \n",
    " "
   ],
   "outputs": [],
   "metadata": {}
  },
  {
   "cell_type": "code",
   "execution_count": 96,
   "source": [
    "print(len(p_sol_final))\n",
    "\n",
    "\n",
    "#print(type(P_sol))"
   ],
   "outputs": [
    {
     "output_type": "stream",
     "name": "stdout",
     "text": [
      "3\n"
     ]
    }
   ],
   "metadata": {}
  },
  {
   "cell_type": "code",
   "execution_count": 138,
   "source": [
    "joinlist = [x for list in p_sol_final for x in list]\n",
    "#print(joinlist)\n",
    "df1 = pd.DataFrame(joinlist) \n",
    "#df1.to_csv('/Users/mushtaqali/Desktop/pubchem_test.csv') \n",
    "#df1\n",
    "df=pd.concat(obj)\n",
    "#df1\n",
    "df1 = df1.reset_index(drop=True)\n",
    "df = df.reset_index(drop=True)\n",
    "\n",
    "data = pd.concat([df, df1], axis=1, join='inner')\n",
    "#data=[df,df1]\n",
    "#df2 = pd.concat(data)\n",
    "#df2 = pd.concat([df, df1], axis=1,ignore_index=True)\n",
    "#data = pd.concat([df, df1], axis=1, join='inner')\n",
    "#df2 = pd.concat([df, df1], axis=1)\n",
    "\n",
    "#df2.to_csv('/Users/mushtaqali/Desktop/pubchem_test.csv') \n",
    "data.to_csv('/Users/mushtaqali/Desktop/pubchem_test.csv') \n",
    "#print(P_sol)\n",
    "#P_sol=pd.DataFrame(P_sol)"
   ],
   "outputs": [],
   "metadata": {}
  },
  {
   "cell_type": "code",
   "execution_count": 51,
   "source": [
    "df1 = pd.DataFrame(P_sol)"
   ],
   "outputs": [],
   "metadata": {}
  },
  {
   "cell_type": "code",
   "execution_count": 47,
   "source": [
    "df1.to_csv('/Users/mushtaqali/Desktop/pubchem_9500_10000.csv')\n"
   ],
   "outputs": [],
   "metadata": {}
  },
  {
   "cell_type": "code",
   "execution_count": 3,
   "source": [
    "data1=pd.read_csv('/Users/mushtaqali/Desktop/P_sol_5000_7000.csv')\n",
    "data2=pd.read_csv('/Users/mushtaqali/Desktop/P_sol_7000_8000.csv')\n",
    "data3=pd.read_csv('/Users/mushtaqali/Desktop/P_sol_8000_9000.csv')\n",
    "data4=pd.read_csv('/Users/mushtaqali/Desktop/P_sol_9000_10000.csv')"
   ],
   "outputs": [],
   "metadata": {}
  },
  {
   "cell_type": "code",
   "execution_count": 10,
   "source": [
    "import pandas as pd\n",
    "data_f= pd.concat\n",
    "data_f = pd.concat([data1, data2], axis=0)\n",
    "data_f1=pd.concat([data_f, data3], axis=0)\n",
    "data_f2=pd.concat([data_f1, data4], axis=0)\n",
    "data_f2"
   ],
   "outputs": [
    {
     "output_type": "execute_result",
     "data": {
      "text/html": [
       "<div>\n",
       "<style scoped>\n",
       "    .dataframe tbody tr th:only-of-type {\n",
       "        vertical-align: middle;\n",
       "    }\n",
       "\n",
       "    .dataframe tbody tr th {\n",
       "        vertical-align: top;\n",
       "    }\n",
       "\n",
       "    .dataframe thead th {\n",
       "        text-align: right;\n",
       "    }\n",
       "</style>\n",
       "<table border=\"1\" class=\"dataframe\">\n",
       "  <thead>\n",
       "    <tr style=\"text-align: right;\">\n",
       "      <th></th>\n",
       "      <th>Unnamed: 0</th>\n",
       "      <th>0</th>\n",
       "    </tr>\n",
       "  </thead>\n",
       "  <tbody>\n",
       "    <tr>\n",
       "      <th>0</th>\n",
       "      <td>0</td>\n",
       "      <td>NaN</td>\n",
       "    </tr>\n",
       "    <tr>\n",
       "      <th>1</th>\n",
       "      <td>1</td>\n",
       "      <td>NaN</td>\n",
       "    </tr>\n",
       "    <tr>\n",
       "      <th>2</th>\n",
       "      <td>2</td>\n",
       "      <td>Very soluble in water at pH &lt; 5.5 (mesylate salt)</td>\n",
       "    </tr>\n",
       "    <tr>\n",
       "      <th>3</th>\n",
       "      <td>3</td>\n",
       "      <td>NaN</td>\n",
       "    </tr>\n",
       "    <tr>\n",
       "      <th>4</th>\n",
       "      <td>4</td>\n",
       "      <td>NaN</td>\n",
       "    </tr>\n",
       "    <tr>\n",
       "      <th>...</th>\n",
       "      <td>...</td>\n",
       "      <td>...</td>\n",
       "    </tr>\n",
       "    <tr>\n",
       "      <th>995</th>\n",
       "      <td>995</td>\n",
       "      <td>NaN</td>\n",
       "    </tr>\n",
       "    <tr>\n",
       "      <th>996</th>\n",
       "      <td>996</td>\n",
       "      <td>NaN</td>\n",
       "    </tr>\n",
       "    <tr>\n",
       "      <th>997</th>\n",
       "      <td>997</td>\n",
       "      <td>NaN</td>\n",
       "    </tr>\n",
       "    <tr>\n",
       "      <th>998</th>\n",
       "      <td>998</td>\n",
       "      <td>NaN</td>\n",
       "    </tr>\n",
       "    <tr>\n",
       "      <th>999</th>\n",
       "      <td>999</td>\n",
       "      <td>NaN</td>\n",
       "    </tr>\n",
       "  </tbody>\n",
       "</table>\n",
       "<p>5000 rows × 2 columns</p>\n",
       "</div>"
      ],
      "text/plain": [
       "     Unnamed: 0                                                  0\n",
       "0             0                                                NaN\n",
       "1             1                                                NaN\n",
       "2             2  Very soluble in water at pH < 5.5 (mesylate salt)\n",
       "3             3                                                NaN\n",
       "4             4                                                NaN\n",
       "..          ...                                                ...\n",
       "995         995                                                NaN\n",
       "996         996                                                NaN\n",
       "997         997                                                NaN\n",
       "998         998                                                NaN\n",
       "999         999                                                NaN\n",
       "\n",
       "[5000 rows x 2 columns]"
      ]
     },
     "metadata": {},
     "execution_count": 10
    }
   ],
   "metadata": {}
  },
  {
   "cell_type": "code",
   "execution_count": 21,
   "source": [
    "data_f2"
   ],
   "outputs": [
    {
     "output_type": "execute_result",
     "data": {
      "text/html": [
       "<div>\n",
       "<style scoped>\n",
       "    .dataframe tbody tr th:only-of-type {\n",
       "        vertical-align: middle;\n",
       "    }\n",
       "\n",
       "    .dataframe tbody tr th {\n",
       "        vertical-align: top;\n",
       "    }\n",
       "\n",
       "    .dataframe thead th {\n",
       "        text-align: right;\n",
       "    }\n",
       "</style>\n",
       "<table border=\"1\" class=\"dataframe\">\n",
       "  <thead>\n",
       "    <tr style=\"text-align: right;\">\n",
       "      <th></th>\n",
       "      <th>Unnamed: 0</th>\n",
       "      <th>Solubility</th>\n",
       "    </tr>\n",
       "  </thead>\n",
       "  <tbody>\n",
       "    <tr>\n",
       "      <th>0</th>\n",
       "      <td>0</td>\n",
       "      <td>NaN</td>\n",
       "    </tr>\n",
       "    <tr>\n",
       "      <th>1</th>\n",
       "      <td>1</td>\n",
       "      <td>NaN</td>\n",
       "    </tr>\n",
       "    <tr>\n",
       "      <th>2</th>\n",
       "      <td>2</td>\n",
       "      <td>Very soluble in water at pH &lt; 5.5 (mesylate salt)</td>\n",
       "    </tr>\n",
       "    <tr>\n",
       "      <th>3</th>\n",
       "      <td>3</td>\n",
       "      <td>NaN</td>\n",
       "    </tr>\n",
       "    <tr>\n",
       "      <th>4</th>\n",
       "      <td>4</td>\n",
       "      <td>NaN</td>\n",
       "    </tr>\n",
       "    <tr>\n",
       "      <th>...</th>\n",
       "      <td>...</td>\n",
       "      <td>...</td>\n",
       "    </tr>\n",
       "    <tr>\n",
       "      <th>995</th>\n",
       "      <td>995</td>\n",
       "      <td>NaN</td>\n",
       "    </tr>\n",
       "    <tr>\n",
       "      <th>996</th>\n",
       "      <td>996</td>\n",
       "      <td>NaN</td>\n",
       "    </tr>\n",
       "    <tr>\n",
       "      <th>997</th>\n",
       "      <td>997</td>\n",
       "      <td>NaN</td>\n",
       "    </tr>\n",
       "    <tr>\n",
       "      <th>998</th>\n",
       "      <td>998</td>\n",
       "      <td>NaN</td>\n",
       "    </tr>\n",
       "    <tr>\n",
       "      <th>999</th>\n",
       "      <td>999</td>\n",
       "      <td>NaN</td>\n",
       "    </tr>\n",
       "  </tbody>\n",
       "</table>\n",
       "<p>5000 rows × 2 columns</p>\n",
       "</div>"
      ],
      "text/plain": [
       "     Unnamed: 0                                         Solubility\n",
       "0             0                                                NaN\n",
       "1             1                                                NaN\n",
       "2             2  Very soluble in water at pH < 5.5 (mesylate salt)\n",
       "3             3                                                NaN\n",
       "4             4                                                NaN\n",
       "..          ...                                                ...\n",
       "995         995                                                NaN\n",
       "996         996                                                NaN\n",
       "997         997                                                NaN\n",
       "998         998                                                NaN\n",
       "999         999                                                NaN\n",
       "\n",
       "[5000 rows x 2 columns]"
      ]
     },
     "metadata": {},
     "execution_count": 21
    }
   ],
   "metadata": {}
  },
  {
   "cell_type": "code",
   "execution_count": 24,
   "source": [
    "data_f2 = data_f2.reset_index(drop=True)\n",
    "\n"
   ],
   "outputs": [],
   "metadata": {}
  },
  {
   "cell_type": "code",
   "execution_count": 25,
   "source": [
    "#df1 = pd.DataFrame(P_sol)\n",
    "#data_f2.columns =['Solubility']\n",
    "data_f3 = pd.concat([df, data_f2], axis=1)\n",
    "\n",
    "\n",
    "\n",
    "print(data_f3)\n",
    "\n",
    "\n",
    "\n",
    "\n",
    "\n"
   ],
   "outputs": [
    {
     "output_type": "stream",
     "name": "stdout",
     "text": [
      "        SrN                                             SMILES  Unnamed: 0  \\\n",
      "0      5289  CC(=CCC(C(=CC=CC(=C1C(=O)CC2C1(CCC3C2(CCC(C3(C...           0   \n",
      "1      5290     COC1=C(C=C2C3CC4=C(CN3CCC2=C1)C(=C(C=C4)O)OC)O           1   \n",
      "2      5291  CC1=C(C=C(C=C1)NC(=O)C2=CC=C(C=C2)CN3CCN(CC3)C...           2   \n",
      "3      5292  CC=C(C)C=CC=CC(C)C(C)C(C)C(C)CCC1=C(C(=O)C2=C(...           3   \n",
      "4      5293  CC=C(C)C=CC=CC(C(C)C(C(C)CCC1=C(C(=O)C2=C(O1)C...           4   \n",
      "...     ...                                                ...         ...   \n",
      "4995  10591  CC(CCC(=O)NCCS(=O)(=O)O)[C@H]1CC[C@@H]2[C@@]1(...         995   \n",
      "4996  10592  CC12CCC(=O)CC1CCC3C2C(CC4(C3CC[C@@]4(C(=O)CO)O...         996   \n",
      "4997  10593     CC12CCC(CC1CCC3C2CCC4(C3CC[C@@]4(C(=O)CO)O)C)O         997   \n",
      "4998  10594  CC(CCC(=O)NCCS(=O)(=O)O)[C@H]1CC[C@@H]2[C@@]1(...         998   \n",
      "4999  10595  CC(CCC(=O)NCCS(=O)(=O)O)[C@H]1CC[C@@H]2[C@@]1(...         999   \n",
      "\n",
      "                                             Solubility  \n",
      "0                                                   NaN  \n",
      "1                                                   NaN  \n",
      "2     Very soluble in water at pH < 5.5 (mesylate salt)  \n",
      "3                                                   NaN  \n",
      "4                                                   NaN  \n",
      "...                                                 ...  \n",
      "4995                                                NaN  \n",
      "4996                                                NaN  \n",
      "4997                                                NaN  \n",
      "4998                                                NaN  \n",
      "4999                                                NaN  \n",
      "\n",
      "[5000 rows x 4 columns]\n"
     ]
    }
   ],
   "metadata": {}
  },
  {
   "cell_type": "code",
   "execution_count": 42,
   "source": [
    "df_n = data_f3.loc[data_f3['Solubility'].notnull(), ['SMILES','Solubility']]\n",
    "#df_n=pd.DataFrame(df_n)\n",
    "print(type(df_n))"
   ],
   "outputs": [
    {
     "output_type": "stream",
     "name": "stdout",
     "text": [
      "<class 'pandas.core.frame.DataFrame'>\n"
     ]
    }
   ],
   "metadata": {}
  },
  {
   "cell_type": "code",
   "execution_count": 45,
   "source": [
    "sol_new=df_n.Solubility\n",
    "#print(sol_new)\n",
    "import re\n",
    "sol1=[]\n",
    "### Using regular expression module cleaning the data and taking out the data with with unit \"mg/mL\" in the pubchem ... \n",
    "for s in sol_new:\n",
    "   sol=re.findall(r'(?<![\\-\\/])(\\d+(?:\\.?\\d+)) *mg\\b', s)\n",
    "   sol1.append(sol) \n",
    "   \n"
   ],
   "outputs": [],
   "metadata": {}
  },
  {
   "cell_type": "code",
   "execution_count": 56,
   "source": [
    "df10=pd.DataFrame(sol1)"
   ],
   "outputs": [],
   "metadata": {}
  },
  {
   "cell_type": "code",
   "execution_count": 79,
   "source": [
    "df10 = df10.iloc[: , :1]"
   ],
   "outputs": [],
   "metadata": {}
  },
  {
   "cell_type": "code",
   "execution_count": 80,
   "source": [
    "#df3=df_n.SMILES\n",
    "#print(df3)\n",
    "#df3.reset_index(drop=True, inplace=True)\n",
    "#print(df3)\n",
    "print(len(sol1))\n",
    "#df2 = pd.DataFrame(sol1)\n",
    "df10.columns =['Solubility_new']\n",
    "print(len(df10))\n",
    "print(df10)\n",
    "\n"
   ],
   "outputs": [
    {
     "output_type": "stream",
     "name": "stdout",
     "text": [
      "1849\n",
      "1849\n",
      "     Solubility_new\n",
      "0              None\n",
      "1              None\n",
      "2              None\n",
      "3              None\n",
      "4              None\n",
      "...             ...\n",
      "1844           None\n",
      "1845           None\n",
      "1846           None\n",
      "1847           None\n",
      "1848           None\n",
      "\n",
      "[1849 rows x 1 columns]\n"
     ]
    }
   ],
   "metadata": {}
  },
  {
   "cell_type": "code",
   "execution_count": 81,
   "source": [
    "df9=df_n['SMILES']"
   ],
   "outputs": [],
   "metadata": {}
  },
  {
   "cell_type": "code",
   "execution_count": 82,
   "source": [
    "df9"
   ],
   "outputs": [
    {
     "output_type": "execute_result",
     "data": {
      "text/plain": [
       "2       CC1=C(C=C(C=C1)NC(=O)C2=CC=C(C=C2)CN3CCN(CC3)C...\n",
       "9       CC1=C(C(=C(N=C1C(=O)O)C2=NC3=C(C=C2)C(=O)C(=C(...\n",
       "11                       CN(C(=O)NC1C(C(C(OC1O)CO)O)O)N=O\n",
       "22                       C1=CC=C(C=C1)NC(=O)CCCCCCC(=O)NO\n",
       "25               C[N+](C)(C)CCOC(=O)CCC(=O)OCC[N+](C)(C)C\n",
       "                              ...                        \n",
       "4974    CC(C)C1=CC2=CC[C@@H]3[C@@]([C@H]2CC1)(CCC[C@@]...\n",
       "4983    CCN1C2=CC=CC=C2SC1=CC=CC=CC3=[N+](C4=CC=CC=C4S...\n",
       "4987                                 CC1(C2CC=C(C1C2)CO)C\n",
       "4989                              CCOS(=O)(=O)C1=CC=CC=C1\n",
       "4990                         CC1=CCC(CC1)C(C)(CCC=C(C)C)O\n",
       "Name: SMILES, Length: 1849, dtype: object"
      ]
     },
     "metadata": {},
     "execution_count": 82
    }
   ],
   "metadata": {}
  },
  {
   "cell_type": "code",
   "execution_count": 86,
   "source": [
    "df9.reset_index(drop=True, inplace=True)  "
   ],
   "outputs": [],
   "metadata": {}
  },
  {
   "cell_type": "code",
   "execution_count": 87,
   "source": [
    "df_new = pd.concat([df9,df10], axis=1,ignore_index=True)\n",
    "df_new"
   ],
   "outputs": [
    {
     "output_type": "execute_result",
     "data": {
      "text/html": [
       "<div>\n",
       "<style scoped>\n",
       "    .dataframe tbody tr th:only-of-type {\n",
       "        vertical-align: middle;\n",
       "    }\n",
       "\n",
       "    .dataframe tbody tr th {\n",
       "        vertical-align: top;\n",
       "    }\n",
       "\n",
       "    .dataframe thead th {\n",
       "        text-align: right;\n",
       "    }\n",
       "</style>\n",
       "<table border=\"1\" class=\"dataframe\">\n",
       "  <thead>\n",
       "    <tr style=\"text-align: right;\">\n",
       "      <th></th>\n",
       "      <th>0</th>\n",
       "      <th>1</th>\n",
       "    </tr>\n",
       "  </thead>\n",
       "  <tbody>\n",
       "    <tr>\n",
       "      <th>0</th>\n",
       "      <td>CC1=C(C=C(C=C1)NC(=O)C2=CC=C(C=C2)CN3CCN(CC3)C...</td>\n",
       "      <td>None</td>\n",
       "    </tr>\n",
       "    <tr>\n",
       "      <th>1</th>\n",
       "      <td>CC1=C(C(=C(N=C1C(=O)O)C2=NC3=C(C=C2)C(=O)C(=C(...</td>\n",
       "      <td>None</td>\n",
       "    </tr>\n",
       "    <tr>\n",
       "      <th>2</th>\n",
       "      <td>CN(C(=O)NC1C(C(C(OC1O)CO)O)O)N=O</td>\n",
       "      <td>None</td>\n",
       "    </tr>\n",
       "    <tr>\n",
       "      <th>3</th>\n",
       "      <td>C1=CC=C(C=C1)NC(=O)CCCCCCC(=O)NO</td>\n",
       "      <td>None</td>\n",
       "    </tr>\n",
       "    <tr>\n",
       "      <th>4</th>\n",
       "      <td>C[N+](C)(C)CCOC(=O)CCC(=O)OCC[N+](C)(C)C</td>\n",
       "      <td>None</td>\n",
       "    </tr>\n",
       "    <tr>\n",
       "      <th>...</th>\n",
       "      <td>...</td>\n",
       "      <td>...</td>\n",
       "    </tr>\n",
       "    <tr>\n",
       "      <th>1844</th>\n",
       "      <td>CC(C)C1=CC2=CC[C@@H]3[C@@]([C@H]2CC1)(CCC[C@@]...</td>\n",
       "      <td>None</td>\n",
       "    </tr>\n",
       "    <tr>\n",
       "      <th>1845</th>\n",
       "      <td>CCN1C2=CC=CC=C2SC1=CC=CC=CC3=[N+](C4=CC=CC=C4S...</td>\n",
       "      <td>None</td>\n",
       "    </tr>\n",
       "    <tr>\n",
       "      <th>1846</th>\n",
       "      <td>CC1(C2CC=C(C1C2)CO)C</td>\n",
       "      <td>None</td>\n",
       "    </tr>\n",
       "    <tr>\n",
       "      <th>1847</th>\n",
       "      <td>CCOS(=O)(=O)C1=CC=CC=C1</td>\n",
       "      <td>None</td>\n",
       "    </tr>\n",
       "    <tr>\n",
       "      <th>1848</th>\n",
       "      <td>CC1=CCC(CC1)C(C)(CCC=C(C)C)O</td>\n",
       "      <td>None</td>\n",
       "    </tr>\n",
       "  </tbody>\n",
       "</table>\n",
       "<p>1849 rows × 2 columns</p>\n",
       "</div>"
      ],
      "text/plain": [
       "                                                      0     1\n",
       "0     CC1=C(C=C(C=C1)NC(=O)C2=CC=C(C=C2)CN3CCN(CC3)C...  None\n",
       "1     CC1=C(C(=C(N=C1C(=O)O)C2=NC3=C(C=C2)C(=O)C(=C(...  None\n",
       "2                      CN(C(=O)NC1C(C(C(OC1O)CO)O)O)N=O  None\n",
       "3                      C1=CC=C(C=C1)NC(=O)CCCCCCC(=O)NO  None\n",
       "4              C[N+](C)(C)CCOC(=O)CCC(=O)OCC[N+](C)(C)C  None\n",
       "...                                                 ...   ...\n",
       "1844  CC(C)C1=CC2=CC[C@@H]3[C@@]([C@H]2CC1)(CCC[C@@]...  None\n",
       "1845  CCN1C2=CC=CC=C2SC1=CC=CC=CC3=[N+](C4=CC=CC=C4S...  None\n",
       "1846                               CC1(C2CC=C(C1C2)CO)C  None\n",
       "1847                            CCOS(=O)(=O)C1=CC=CC=C1  None\n",
       "1848                       CC1=CCC(CC1)C(C)(CCC=C(C)C)O  None\n",
       "\n",
       "[1849 rows x 2 columns]"
      ]
     },
     "metadata": {},
     "execution_count": 87
    }
   ],
   "metadata": {}
  },
  {
   "cell_type": "code",
   "execution_count": 88,
   "source": [
    "df_new.columns =['SMILES', 'SOLUBILITY mg/mL']\n"
   ],
   "outputs": [],
   "metadata": {}
  },
  {
   "cell_type": "code",
   "execution_count": 89,
   "source": [
    "df_sol = df_new.loc[df_new['SOLUBILITY mg/mL'].notnull(), ['SMILES','SOLUBILITY mg/mL']]\n",
    "df_sol"
   ],
   "outputs": [
    {
     "output_type": "execute_result",
     "data": {
      "text/html": [
       "<div>\n",
       "<style scoped>\n",
       "    .dataframe tbody tr th:only-of-type {\n",
       "        vertical-align: middle;\n",
       "    }\n",
       "\n",
       "    .dataframe tbody tr th {\n",
       "        vertical-align: top;\n",
       "    }\n",
       "\n",
       "    .dataframe thead th {\n",
       "        text-align: right;\n",
       "    }\n",
       "</style>\n",
       "<table border=\"1\" class=\"dataframe\">\n",
       "  <thead>\n",
       "    <tr style=\"text-align: right;\">\n",
       "      <th></th>\n",
       "      <th>SMILES</th>\n",
       "      <th>SOLUBILITY mg/mL</th>\n",
       "    </tr>\n",
       "  </thead>\n",
       "  <tbody>\n",
       "    <tr>\n",
       "      <th>28</th>\n",
       "      <td>CCN(CC)CCS(=O)(=O)C1CCN2C1C(=O)OC(C(C=CC(=O)NC...</td>\n",
       "      <td>26.88</td>\n",
       "    </tr>\n",
       "    <tr>\n",
       "      <th>37</th>\n",
       "      <td>C1CC(C2=CC=CC=C2C1)C3=NCCN3</td>\n",
       "      <td>31.09</td>\n",
       "    </tr>\n",
       "    <tr>\n",
       "      <th>54</th>\n",
       "      <td>CCN(CC)C(=O)C1=CN=CC=C1</td>\n",
       "      <td>100</td>\n",
       "    </tr>\n",
       "    <tr>\n",
       "      <th>62</th>\n",
       "      <td>C1CN(CCN1CCCN2C(=O)N3C=CC=CC3=N2)C4=CC(=CC=C4)Cl</td>\n",
       "      <td>27.6</td>\n",
       "    </tr>\n",
       "    <tr>\n",
       "      <th>66</th>\n",
       "      <td>C(Br)(Br)Br</td>\n",
       "      <td>0.1</td>\n",
       "    </tr>\n",
       "    <tr>\n",
       "      <th>...</th>\n",
       "      <td>...</td>\n",
       "      <td>...</td>\n",
       "    </tr>\n",
       "    <tr>\n",
       "      <th>1807</th>\n",
       "      <td>C1COCOC1</td>\n",
       "      <td>100</td>\n",
       "    </tr>\n",
       "    <tr>\n",
       "      <th>1813</th>\n",
       "      <td>CCCC(C=CC=CC=CC#CC#CCCCO)O</td>\n",
       "      <td>2.8</td>\n",
       "    </tr>\n",
       "    <tr>\n",
       "      <th>1823</th>\n",
       "      <td>C[C@@]12CC[C@H](C1(C)C)C[C@@H]2O</td>\n",
       "      <td>738</td>\n",
       "    </tr>\n",
       "    <tr>\n",
       "      <th>1826</th>\n",
       "      <td>CCOC(=O)C(C1=CC=C(C=C1)Cl)(C2=CC=C(C=C2)Cl)O</td>\n",
       "      <td>0.1</td>\n",
       "    </tr>\n",
       "    <tr>\n",
       "      <th>1828</th>\n",
       "      <td>COP(=O)(OC)OC</td>\n",
       "      <td>100</td>\n",
       "    </tr>\n",
       "  </tbody>\n",
       "</table>\n",
       "<p>298 rows × 2 columns</p>\n",
       "</div>"
      ],
      "text/plain": [
       "                                                 SMILES SOLUBILITY mg/mL\n",
       "28    CCN(CC)CCS(=O)(=O)C1CCN2C1C(=O)OC(C(C=CC(=O)NC...            26.88\n",
       "37                          C1CC(C2=CC=CC=C2C1)C3=NCCN3            31.09\n",
       "54                              CCN(CC)C(=O)C1=CN=CC=C1              100\n",
       "62     C1CN(CCN1CCCN2C(=O)N3C=CC=CC3=N2)C4=CC(=CC=C4)Cl             27.6\n",
       "66                                          C(Br)(Br)Br              0.1\n",
       "...                                                 ...              ...\n",
       "1807                                           C1COCOC1              100\n",
       "1813                         CCCC(C=CC=CC=CC#CC#CCCCO)O              2.8\n",
       "1823                   C[C@@]12CC[C@H](C1(C)C)C[C@@H]2O              738\n",
       "1826       CCOC(=O)C(C1=CC=C(C=C1)Cl)(C2=CC=C(C=C2)Cl)O              0.1\n",
       "1828                                      COP(=O)(OC)OC              100\n",
       "\n",
       "[298 rows x 2 columns]"
      ]
     },
     "metadata": {},
     "execution_count": 89
    }
   ],
   "metadata": {}
  },
  {
   "cell_type": "code",
   "execution_count": 94,
   "source": [
    "import pandas as pd \n",
    "df_sol.to_csv('/Users/mushtaqali/Desktop/Final_pubchem_5000_10000.csv')"
   ],
   "outputs": [],
   "metadata": {}
  },
  {
   "cell_type": "code",
   "execution_count": 4,
   "source": [
    "import pandas as pd\n",
    "df = pd.read_csv('/Users/mushtaqali/Downloads/pubchem/pubchem_0k_10k.csv')"
   ],
   "outputs": [],
   "metadata": {}
  },
  {
   "cell_type": "code",
   "execution_count": 6,
   "source": [
    "dfnew1=df[0:500]\n",
    "dfnew2=df[500:1000]\n",
    "dfnew3=df[1000:1500]\n",
    "dfnew4=df[1500:2000]\n",
    "dfnew5=df[2000:2500]\n",
    "dfnew6=df[2500:3000]\n",
    "dfnew7=df[3000:3500]\n",
    "dfnew8=df[3500:4000]\n",
    "dfnew9=df[4000:4500]\n",
    "dfnew10=df[4500:5000]\n",
    "dfnew11=df[5000:5500]\n",
    "dfnew12=df[5500:6000]\n",
    "dfnew13=df[6000:6500]\n",
    "dfnew14=df[6500:7000]\n",
    "dfnew15=df[7000:7500]\n",
    "dfnew16=df[7500:8000]\n",
    "dfnew17=df[8000:8500]\n",
    "dfnew18=df[8500:9000]\n",
    "dfnew19=df[9000:9500]\n",
    "dfnew20=df[9500:10000]\n"
   ],
   "outputs": [],
   "metadata": {}
  },
  {
   "cell_type": "code",
   "execution_count": 7,
   "source": [
    "def cid_to_sol(id):\n",
    "   x=\"https://pubchem.ncbi.nlm.nih.gov/rest/pug_view/data/compound/%s/xml\"\n",
    "   data=requests.get(x % id)#,timeout=(10,20) )\n",
    "   html = BeautifulSoup(data.content, \"xml\")\n",
    "   solubility = html.find(name='TOCHeading', string='Solubility')\n",
    "   #print(dtype(solubility))\n",
    "   if solubility == None:\n",
    "      return None  \n",
    "   #elif          # or pass\n",
    "   else:\n",
    "     solub=solubility.find_next_sibling('Information').find(name='String').string\n",
    "     return solub"
   ],
   "outputs": [],
   "metadata": {}
  },
  {
   "cell_type": "code",
   "execution_count": 10,
   "source": [
    "import time\n",
    "#obj=[dfnew1, dfnew2, dfnew3,dfnew4, dfnew5,dfnew6, dfnew7,dfnew8, dfnew9, dfnew10]\n",
    "obj= [dfnew11, dfnew12, dfnew13,dfnew14, dfnew15, dfnew16,dfnew17, dfnew18, dfnew19,dfnew20]\n",
    "#dfnew1 = dfnew1.reset_index()\n",
    "p_sol_final=[]\n",
    "for j in range(10):\n",
    "    P_sol=[]\n",
    "    for i in range(500):\n",
    "      try:\n",
    "        time.sleep(1) # Sleep for 1 seconds\n",
    "        obj[j] = obj[j].reset_index(drop=True)\n",
    "        sol=cid_to_sol(obj[j].CID[i])\n",
    "        \n",
    "        P_sol.append(sol)\n",
    "      except AttributeError as e:\n",
    "        sol=='No string'\n",
    "        P_sol.append(sol)\n",
    "    p_sol_final.append(P_sol) \n",
    "df1 = pd.DataFrame(p_sol_final)\n",
    "joinlist = [x for list in p_sol_final for x in list]\n",
    "df1 = pd.DataFrame(joinlist) \n",
    "df=pd.concat(obj)\n",
    "df1 = df1.reset_index(drop=True)\n",
    "df = df.reset_index(drop=True) \n",
    "data = pd.concat([df, df1], axis=1, join='inner')\n",
    "data.to_csv('/Users/mushtaqali/Downloads/pubchem/pubchem_5000_10000.csv')\n",
    "#data.to_csv('/content/drive/MyDrive/pubchem_5000_10000.csv') \n",
    " "
   ],
   "outputs": [],
   "metadata": {}
  }
 ],
 "metadata": {
  "orig_nbformat": 4,
  "language_info": {
   "name": "python",
   "version": "3.10.13",
   "mimetype": "text/x-python",
   "codemirror_mode": {
    "name": "ipython",
    "version": 3
   },
   "pygments_lexer": "ipython3",
   "nbconvert_exporter": "python",
   "file_extension": ".py"
  },
  "kernelspec": {
   "name": "python3",
   "display_name": "Python 3.10.13 64-bit"
  },
  "interpreter": {
   "hash": "7e1998ff7f8aa20ada591c520b972326324e5ea05489af9e422744c7c09f6dad"
  }
 },
 "nbformat": 4,
 "nbformat_minor": 2
}