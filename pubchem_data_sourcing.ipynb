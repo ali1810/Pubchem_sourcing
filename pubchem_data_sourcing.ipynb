{
  "cells": [
    {
      "cell_type": "code",
      "execution_count": 1,
      "source": [
        "##install pubchem python library\n",
        "!pip install pubchempy"
      ],
      "outputs": [
        {
          "output_type": "stream",
          "name": "stdout",
          "text": [
            "Requirement already satisfied: pubchempy in /opt/miniconda3/lib/python3.9/site-packages (1.0.4)\n"
          ]
        }
      ],
      "metadata": {
        "colab": {
          "base_uri": "https://localhost:8080/"
        },
        "id": "wt82IefwMqJH",
        "outputId": "a61a2da0-aa44-4bd3-f53a-b6529c6b52c9"
      }
    },
    {
      "cell_type": "code",
      "execution_count": 2,
      "source": [
        "import requests\n",
        "from bs4 import BeautifulSoup\n",
        "import re\n",
        "import pubchempy as pcp\n",
        "import pandas as pd"
      ],
      "outputs": [],
      "metadata": {
        "id": "spuule1WLNOv"
      }
    },
    {
      "cell_type": "code",
      "execution_count": 3,
      "source": [
        "### Function to srap the data from PubChem\n",
        "def cid_to_sol(id):\n",
        "   x=\"https://pubchem.ncbi.nlm.nih.gov/rest/pug_view/data/compound/%s/xml\"\n",
        "   data=requests.get(x % id)#,timeout=(10,20) )\n",
        "   html = BeautifulSoup(data.content, \"xml\")\n",
        "   solubility = html.find(name='TOCHeading', string='Solubility')\n",
        "   #print(dtype(solubility))\n",
        "   if solubility == None:\n",
        "      return None\n",
        "   #elif          # or pass\n",
        "   else:\n",
        "     solub=solubility.find_next_sibling('Information').find(name='String').string\n",
        "     return solub"
      ],
      "outputs": [],
      "metadata": {
        "id": "VPV0EFvG7LVf"
      }
    },
    {
      "cell_type": "code",
      "execution_count": 4,
      "source": [
        "df = pd.read_csv('pubchem_0k_10k.csv')"
      ],
      "outputs": [],
      "metadata": {
        "id": "Fue7OKtuJZC8"
      }
    },
    {
      "cell_type": "code",
      "execution_count": 5,
      "source": [
        "print(len(df))"
      ],
      "outputs": [
        {
          "output_type": "stream",
          "name": "stdout",
          "text": [
            "10000\n"
          ]
        }
      ],
      "metadata": {
        "colab": {
          "base_uri": "https://localhost:8080/"
        },
        "id": "ub4o0b1YJu7S",
        "outputId": "b285ad2f-23f7-4b4f-d2d8-0927a0147f95"
      }
    },
    {
      "cell_type": "code",
      "execution_count": 21,
      "source": [
        "def cid_to_sol(id):\n",
        "   x=\"https://pubchem.ncbi.nlm.nih.gov/rest/pug_view/data/compound/%s/xml\"\n",
        "   data=requests.get(x % id)#,timeout=(10,20) )\n",
        "   html = BeautifulSoup(data.content, \"xml\")\n",
        "   solubility = html.find(name='TOCHeading', string='Solubility')\n",
        "\n",
        "   if solubility == None:\n",
        "      return None\n",
        "\n",
        "   else:\n",
        "     solub=solubility.find_next_sibling('Information').find(name='String').string\n",
        "     return solub\n",
        "x=cid_to_sol(110635)\n",
        "print(x)"
      ],
      "outputs": [
        {
          "output_type": "stream",
          "name": "stdout",
          "text": [
            "None\n"
          ]
        }
      ],
      "metadata": {}
    },
    {
      "cell_type": "code",
      "execution_count": 8,
      "source": [
        "import pandas as pd\n",
        "import requests\n",
        "from bs4 import BeautifulSoup\n",
        "import time\n",
        "from concurrent.futures import ThreadPoolExecutor\n",
        "\n",
        "start = time.time()\n",
        "\n",
        "df = pd.read_csv('pubchem_0k_10k.csv')\n",
        "#df = pd.read_csv('/content/drive/MyDrive/pubchem_23000k_24000k.csv')\n",
        "df_list = [df.iloc[i*1000:(i+1)*1000] for i in range(10)]\n",
        "\n",
        "def cid_to_sol(id):\n",
        "    url = f\"https://pubchem.ncbi.nlm.nih.gov/rest/pug_view/data/compound/{id}/xml\"\n",
        "    try:\n",
        "        data = requests.get(url)\n",
        "        if data.status_code == 200:\n",
        "            html = BeautifulSoup(data.content, \"xml\")\n",
        "            solubility = html.find(name='TOCHeading', string='Solubility')\n",
        "\n",
        "            if solubility is None:\n",
        "                return None#'Data not found for this compound'\n",
        "            else:\n",
        "                solub = solubility.find_next_sibling('Information').find(name='String').string\n",
        "                return solub\n",
        "        else:\n",
        "            return None#f'Error: Server returned status code {data.status_code}'\n",
        "    except requests.exceptions.RequestException as e:\n",
        "        return None#f'Error: Request Exception - {e}'\n",
        "\n",
        "def process_chunk(df_chunk):\n",
        "    P_sol = []\n",
        "    for i in range(len(df_chunk)):\n",
        "        try:\n",
        "            time.sleep(0.6)  # Sleep for 0.6 seconds\n",
        "            df_chunk = df_chunk.reset_index(drop=True)\n",
        "            sol = cid_to_sol(df_chunk.CID[i])\n",
        "            P_sol.append(sol)\n",
        "        except AttributeError as e:\n",
        "            sol = 'No string'\n",
        "            P_sol.append(sol)\n",
        "    return P_sol\n",
        "\n",
        "p_sol_final = []\n",
        "\n",
        "with ThreadPoolExecutor(max_workers=10) as executor:\n",
        "    results = executor.map(process_chunk, df_list)\n",
        "    for result in results:\n",
        "        p_sol_final.append(result)\n",
        "\n",
        "df1 = pd.DataFrame(p_sol_final)\n",
        "joinlist = [x for sublist in p_sol_final for x in sublist]\n",
        "df1 = pd.DataFrame(joinlist)\n",
        "df = pd.concat(df_list)\n",
        "df1 = df1.reset_index(drop=True)\n",
        "df = df.reset_index(drop=True)\n",
        "data = pd.concat([df, df1], axis=1, join='inner')\n",
        "data.to_csv('pubchem_new_0_10k.csv',encoding='utf-8')\n",
        "\n",
        "\n",
        "end = time.time()\n",
        "duration = end - start\n",
        "print(duration)"
      ],
      "outputs": [
        {
          "output_type": "stream",
          "name": "stderr",
          "text": [
            "encoding error : input conversion failed due to input error, bytes 0x90 0x32 0x2C 0x34\n",
            "encoding error : input conversion failed due to input error, bytes 0x90 0x32 0x2C 0x34\n",
            "I/O error : encoder error\n",
            "encoding error : input conversion failed due to input error, bytes 0x8F 0xC3 0x82 0x89\n",
            "encoding error : input conversion failed due to input error, bytes 0x8F 0xC3 0x82 0x89\n",
            "I/O error : encoder error\n",
            "encoding error : input conversion failed due to input error, bytes 0x8E 0xC2 0xB1 0x2D\n",
            "encoding error : input conversion failed due to input error, bytes 0x8E 0xC2 0xB1 0x2D\n",
            "I/O error : encoder error\n",
            "encoding error : input conversion failed due to input error, bytes 0x81 0xC2 0xB5 0x2C\n",
            "encoding error : input conversion failed due to input error, bytes 0x81 0xC2 0xB5 0x2C\n",
            "I/O error : encoder error\n",
            "encoding error : input conversion failed due to input error, bytes 0x9D 0x29 0x20 0x63\n",
            "encoding error : input conversion failed due to input error, bytes 0x9D 0x29 0x20 0x63\n",
            "I/O error : encoder error\n",
            "encoding error : input conversion failed due to input error, bytes 0x8E 0xC2 0xB1 0x2D\n",
            "encoding error : input conversion failed due to input error, bytes 0x8E 0xC2 0xB1 0x2D\n",
            "I/O error : encoder error\n"
          ]
        },
        {
          "output_type": "stream",
          "name": "stdout",
          "text": [
            "4446.9308269023895\n"
          ]
        }
      ],
      "metadata": {}
    },
    {
      "cell_type": "code",
      "execution_count": 18,
      "source": [
        "final_data=pd.read_csv('pubchem_new_0_10000.csv')\n",
        "final_data_raw=final_data[['CID','SMILES','0']]\n",
        "final_data_raw.rename(columns = {'0':'Solubility'}, inplace = True)\n",
        "final_raw = final_data_raw.loc[final_data_raw['Solubility'].notnull()]\n",
        "print(len(final_raw))\n"
      ],
      "outputs": [
        {
          "output_type": "stream",
          "name": "stdout",
          "text": [
            "1\n"
          ]
        },
        {
          "output_type": "stream",
          "name": "stderr",
          "text": [
            "/var/folders/k_/8s01c4dj0gnfx2n284nvm1t80000gn/T/ipykernel_13058/2306803033.py:3: SettingWithCopyWarning: \n",
            "A value is trying to be set on a copy of a slice from a DataFrame\n",
            "\n",
            "See the caveats in the documentation: https://pandas.pydata.org/pandas-docs/stable/user_guide/indexing.html#returning-a-view-versus-a-copy\n",
            "  final_data_raw.rename(columns = {'0':'Solubility'}, inplace = True)\n"
          ]
        }
      ],
      "metadata": {}
    },
    {
      "cell_type": "code",
      "execution_count": 19,
      "source": [
        "final_raw"
      ],
      "outputs": [
        {
          "output_type": "execute_result",
          "data": {
            "text/html": [
              "<div>\n",
              "<style scoped>\n",
              "    .dataframe tbody tr th:only-of-type {\n",
              "        vertical-align: middle;\n",
              "    }\n",
              "\n",
              "    .dataframe tbody tr th {\n",
              "        vertical-align: top;\n",
              "    }\n",
              "\n",
              "    .dataframe thead th {\n",
              "        text-align: right;\n",
              "    }\n",
              "</style>\n",
              "<table border=\"1\" class=\"dataframe\">\n",
              "  <thead>\n",
              "    <tr style=\"text-align: right;\">\n",
              "      <th></th>\n",
              "      <th>CID</th>\n",
              "      <th>SMILES</th>\n",
              "      <th>Solubility</th>\n",
              "    </tr>\n",
              "  </thead>\n",
              "  <tbody>\n",
              "    <tr>\n",
              "      <th>2309</th>\n",
              "      <td>2466</td>\n",
              "      <td>CCCCOC1=CC=C(C=C1)CC(=O)NO</td>\n",
              "      <td>&gt;33.5 [ug/mL] (The mean of the results at pH 7.4)</td>\n",
              "    </tr>\n",
              "  </tbody>\n",
              "</table>\n",
              "</div>"
            ],
            "text/plain": [
              "       CID                      SMILES  \\\n",
              "2309  2466  CCCCOC1=CC=C(C=C1)CC(=O)NO   \n",
              "\n",
              "                                             Solubility  \n",
              "2309  >33.5 [ug/mL] (The mean of the results at pH 7.4)  "
            ]
          },
          "metadata": {},
          "execution_count": 19
        }
      ],
      "metadata": {}
    },
    {
      "cell_type": "code",
      "execution_count": 11,
      "source": [
        "import aiohttp"
      ],
      "outputs": [],
      "metadata": {}
    },
    {
      "cell_type": "code",
      "execution_count": 17,
      "source": [
        "import pandas as pd\n",
        "import aiohttp\n",
        "import asyncio\n",
        "import time\n",
        "from bs4 import BeautifulSoup\n",
        "import chardet  # For detecting file encoding\n",
        "\n",
        "async def fetch_data(session, id, semaphore):\n",
        "    url = f\"https://pubchem.ncbi.nlm.nih.gov/rest/pug_view/data/compound/{id}/xml\"\n",
        "    retry_count = 3\n",
        "    for _ in range(retry_count):\n",
        "        async with semaphore:\n",
        "            try:\n",
        "                async with session.get(url, timeout=120) as response:\n",
        "                    return await response.text()\n",
        "            except (asyncio.TimeoutError, aiohttp.ClientError) as e:\n",
        "                print(f\"Error fetching data for ID: {id}. Retrying...\")\n",
        "    return None\n",
        "\n",
        "async def cid_to_sol(id, semaphore):\n",
        "    async with aiohttp.ClientSession() as session:\n",
        "        xml_content = await fetch_data(session, id, semaphore)\n",
        "\n",
        "    if xml_content is None:\n",
        "        return None\n",
        "\n",
        "    html = BeautifulSoup(xml_content, \"xml\")\n",
        "    solubility = html.find(name='TOCHeading', string='Solubility')\n",
        "\n",
        "    if solubility is None:\n",
        "        return None\n",
        "    else:\n",
        "        information = solubility.find_next_sibling('Information')\n",
        "        if information:\n",
        "            solub = information.find(name='String')\n",
        "            if solub:\n",
        "                return solub.string\n",
        "        return None\n",
        "\n",
        "async def process_cids(start_idx, end_idx):\n",
        "    # Detect file encoding\n",
        "    with open('pubchem_0k_10k.csv', 'rb') as f:\n",
        "        result = chardet.detect(f.read())\n",
        "        encoding = result['encoding']\n",
        "\n",
        "    try:\n",
        "        # Read CSV file with detected encoding\n",
        "        df = pd.read_csv('pubchem_0k_10k.csv', encoding=encoding)\n",
        "    except UnicodeDecodeError:\n",
        "        # Retry reading the file with 'utf-8' encoding\n",
        "        df = pd.read_csv('pubchem_0k_10k.csv', encoding='utf-8')\n",
        "\n",
        "    df_slice = df.iloc[start_idx:end_idx]\n",
        "\n",
        "    start = time.time()\n",
        "\n",
        "    p_sol_final = []\n",
        "\n",
        "    # Limit concurrent requests with a semaphore\n",
        "    semaphore = asyncio.Semaphore(5)  # Limit to 5 concurrent requests\n",
        "\n",
        "    for chunk in [df_slice.iloc[i:i+1000] for i in range(0, len(df_slice), 1000)]:\n",
        "        sols = await asyncio.gather(*(cid_to_sol(cid, semaphore) for cid in chunk['CID']))\n",
        "        p_sol_final.extend(sols)\n",
        "\n",
        "        # Introduce a delay to comply with the rate limit (5 requests per second)\n",
        "        await asyncio.sleep(1)\n",
        "\n",
        "    df1 = pd.DataFrame(p_sol_final)\n",
        "    df_slice = df_slice.reset_index(drop=True)\n",
        "\n",
        "    file_name = f'pubchem_new_{start_idx}_{end_idx}.csv'\n",
        "    data = pd.concat([df_slice, df1], axis=1, join='inner')\n",
        "\n",
        "    data.to_csv(file_name, index=False)\n",
        "\n",
        "    end = time.time()\n",
        "    duration = end - start\n",
        "    print(f\"Processed CID from {start_idx} to {end_idx} - Total execution time: {duration} seconds\")\n",
        "\n",
        "async def main():\n",
        "    await process_cids(0, 10000)\n",
        "\n",
        "# Run the asynchronous function\n",
        "await main()\n"
      ],
      "outputs": [
        {
          "output_type": "stream",
          "name": "stdout",
          "text": [
            "Processed CID from 0 to 10000 - Total execution time: 959.2631621360779 seconds\n"
          ]
        }
      ],
      "metadata": {}
    },
    {
      "cell_type": "code",
      "execution_count": null,
      "source": [
        "import pandas as pd\n",
        "!pip install pubchempy\n",
        "import requests\n",
        "from bs4 import BeautifulSoup\n",
        "import re\n",
        "import pubchempy as pcp\n",
        "import pandas as pd\n",
        "df2=df.iloc[200000:210000]\n",
        "dfnew1=df2[0:1000]\n",
        "dfnew2=df2[1000:2000]\n",
        "dfnew3=df2[2000:3000]\n",
        "dfnew4=df2[3000:4000]\n",
        "dfnew5=df2[4000:5000]\n",
        "dfnew6=df2[5000:6000]\n",
        "dfnew7=df2[6000:7000]\n",
        "dfnew8=df2[7000:8000]\n",
        "dfnew9=df2[8000:9000]\n",
        "dfnew10=df2[9000:10000]\n",
        "import time\n",
        "start = time.time()\n",
        "#dfnew1 = dfnew1.reset_index()\n",
        "obj=[dfnew1, dfnew2, dfnew3,dfnew4, dfnew5,dfnew6, dfnew7,dfnew8, dfnew9, dfnew10]\n",
        "#obj= [dfnew11, dfnew12, dfnew13,dfnew14, dfnew15, dfnew16,dfnew17, dfnew18, dfnew19,dfnew20]\n",
        "#dfnew1 = dfnew1.reset_index()\n",
        "p_sol_final=[]\n",
        "for j in range(10):\n",
        "    P_sol=[]\n",
        "    for i in range(1000):\n",
        "      try:\n",
        "        time.sleep(0.2) # Sleep for 1 seconds\n",
        "        obj[j] = obj[j].reset_index(drop=True)\n",
        "        sol=cid_to_sol(obj[j].CID[i])\n",
        "        #\n",
        "        P_sol.append(sol)\n",
        "      except AttributeError as e:\n",
        "        sol=='No string'\n",
        "        P_sol.append(sol)\n",
        "    p_sol_final.append(P_sol)\n",
        "df1 = pd.DataFrame(p_sol_final)\n",
        "joinlist = [x for list in p_sol_final for x in list]\n",
        "df1 = pd.DataFrame(joinlist)\n",
        "df=pd.concat(obj)\n",
        "df1 = df1.reset_index(drop=True)\n",
        "df = df.reset_index(drop=True)\n",
        "data = pd.concat([df, df1], axis=1, join='inner')\n",
        "data.to_csv('/content/drive/MyDrive/pubchem_20100000_20210000.csv')\n",
        "end = time.time()\n",
        "duration = end-start\n",
        "print(duration)"
      ],
      "outputs": [
        {
          "output_type": "stream",
          "name": "stdout",
          "text": [
            "Requirement already satisfied: pubchempy in /usr/local/lib/python3.10/dist-packages (1.0.4)\n",
            "3789.4090712070465\n"
          ]
        }
      ],
      "metadata": {
        "colab": {
          "background_save": true,
          "base_uri": "https://localhost:8080/"
        },
        "id": "9vBkQNhKbMhy",
        "outputId": "19679216-8366-4992-ad4e-1de307dea712"
      }
    },
    {
      "cell_type": "code",
      "execution_count": null,
      "source": [
        "import pandas as pd\n",
        "df = pd.read_csv('/content/drive/MyDrive/pubchem_20000k_21000k')\n",
        "!pip install pubchempy\n",
        "import requests\n",
        "from bs4 import BeautifulSoup\n",
        "import re\n",
        "import pubchempy as pcp\n",
        "import pandas as pd\n",
        "def cid_to_sol(id):\n",
        "   x=\"https://pubchem.ncbi.nlm.nih.gov/rest/pug_view/data/compound/%s/xml\"\n",
        "   data=requests.get(x % id)#,timeout=(10,20) )\n",
        "   html = BeautifulSoup(data.content, \"xml\")\n",
        "   solubility = html.find(name='TOCHeading', string='Solubility')\n",
        "   #print(dtype(solubility))\n",
        "   if solubility == None:\n",
        "      return None\n",
        "   #elif          # or pass\n",
        "   else:\n",
        "     solub=solubility.find_next_sibling('Information').find(name='String').string\n",
        "     return solub\n",
        "df2=df.iloc[210000:220000]\n",
        "dfnew1=df2[0:1000]\n",
        "dfnew2=df2[1000:2000]\n",
        "dfnew3=df2[2000:3000]\n",
        "dfnew4=df2[3000:4000]\n",
        "dfnew5=df2[4000:5000]\n",
        "dfnew6=df2[5000:6000]\n",
        "dfnew7=df2[6000:7000]\n",
        "dfnew8=df2[7000:8000]\n",
        "dfnew9=df2[8000:9000]\n",
        "dfnew10=df2[9000:10000]\n",
        "import time\n",
        "start = time.time()\n",
        "#dfnew1 = dfnew1.reset_index()\n",
        "obj=[dfnew1, dfnew2, dfnew3,dfnew4, dfnew5,dfnew6, dfnew7,dfnew8, dfnew9, dfnew10]\n",
        "#obj= [dfnew11, dfnew12, dfnew13,dfnew14, dfnew15, dfnew16,dfnew17, dfnew18, dfnew19,dfnew20]\n",
        "#dfnew1 = dfnew1.reset_index()\n",
        "p_sol_final=[]\n",
        "for j in range(10):\n",
        "    P_sol=[]\n",
        "    for i in range(1000):\n",
        "      try:\n",
        "        time.sleep(0.2) # Sleep for 1 seconds\n",
        "        obj[j] = obj[j].reset_index(drop=True)\n",
        "        sol=cid_to_sol(obj[j].CID[i])\n",
        "        #\n",
        "        P_sol.append(sol)\n",
        "      except AttributeError as e:\n",
        "        sol=='No string'\n",
        "        P_sol.append(sol)\n",
        "    p_sol_final.append(P_sol)\n",
        "df1 = pd.DataFrame(p_sol_final)\n",
        "joinlist = [x for list in p_sol_final for x in list]\n",
        "df1 = pd.DataFrame(joinlist)\n",
        "df=pd.concat(obj)\n",
        "df1 = df1.reset_index(drop=True)\n",
        "df = df.reset_index(drop=True)\n",
        "data = pd.concat([df, df1], axis=1, join='inner')\n",
        "data.to_csv('/content/drive/MyDrive/pubchem_20210000_20220000.csv')\n",
        "end = time.time()\n",
        "duration = end-start\n",
        "print(duration)"
      ],
      "outputs": [
        {
          "output_type": "stream",
          "name": "stdout",
          "text": [
            "Requirement already satisfied: pubchempy in /usr/local/lib/python3.10/dist-packages (1.0.4)\n",
            "6074.94059920311\n"
          ]
        }
      ],
      "metadata": {
        "colab": {
          "base_uri": "https://localhost:8080/"
        },
        "id": "lfN3uI6aapLi",
        "outputId": "b8232ca5-270f-4003-d705-0b8279b2d654"
      }
    },
    {
      "cell_type": "code",
      "execution_count": null,
      "source": [
        "import pandas as pd\n",
        "df = pd.read_csv('/content/drive/MyDrive/pubchem_20000k_21000k')\n",
        "!pip install pubchempy\n",
        "import requests\n",
        "from bs4 import BeautifulSoup\n",
        "import re\n",
        "import pubchempy as pcp\n",
        "import pandas as pd\n",
        "def cid_to_sol(id):\n",
        "   x=\"https://pubchem.ncbi.nlm.nih.gov/rest/pug_view/data/compound/%s/xml\"\n",
        "   data=requests.get(x % id)#,timeout=(10,20) )\n",
        "   html = BeautifulSoup(data.content, \"xml\")\n",
        "   solubility = html.find(name='TOCHeading', string='Solubility')\n",
        "   #print(dtype(solubility))\n",
        "   if solubility == None:\n",
        "      return None\n",
        "   #elif          # or pass\n",
        "   else:\n",
        "     solub=solubility.find_next_sibling('Information').find(name='String').string\n",
        "     return solub\n",
        "df2=df.iloc[220000:230000]\n",
        "dfnew1=df2[0:1000]\n",
        "dfnew2=df2[1000:2000]\n",
        "dfnew3=df2[2000:3000]\n",
        "dfnew4=df2[3000:4000]\n",
        "dfnew5=df2[4000:5000]\n",
        "dfnew6=df2[5000:6000]\n",
        "dfnew7=df2[6000:7000]\n",
        "dfnew8=df2[7000:8000]\n",
        "dfnew9=df2[8000:9000]\n",
        "dfnew10=df2[9000:10000]\n",
        "import time\n",
        "start = time.time()\n",
        "#dfnew1 = dfnew1.reset_index()\n",
        "obj=[dfnew1, dfnew2, dfnew3,dfnew4, dfnew5,dfnew6, dfnew7,dfnew8, dfnew9, dfnew10]\n",
        "#obj= [dfnew11, dfnew12, dfnew13,dfnew14, dfnew15, dfnew16,dfnew17, dfnew18, dfnew19,dfnew20]\n",
        "#dfnew1 = dfnew1.reset_index()\n",
        "p_sol_final=[]\n",
        "for j in range(10):\n",
        "    P_sol=[]\n",
        "    for i in range(1000):\n",
        "      try:\n",
        "        time.sleep(0.2) # Sleep for 1 seconds\n",
        "        obj[j] = obj[j].reset_index(drop=True)\n",
        "        sol=cid_to_sol(obj[j].CID[i])\n",
        "        #\n",
        "        P_sol.append(sol)\n",
        "      except AttributeError as e:\n",
        "        sol=='No string'\n",
        "        P_sol.append(sol)\n",
        "    p_sol_final.append(P_sol)\n",
        "df1 = pd.DataFrame(p_sol_final)\n",
        "joinlist = [x for list in p_sol_final for x in list]\n",
        "df1 = pd.DataFrame(joinlist)\n",
        "df=pd.concat(obj)\n",
        "df1 = df1.reset_index(drop=True)\n",
        "df = df.reset_index(drop=True)\n",
        "data = pd.concat([df, df1], axis=1, join='inner')\n",
        "data.to_csv('/content/drive/MyDrive/pubchem_20220000_20230000.csv')\n",
        "end = time.time()\n",
        "duration = end-start\n",
        "print(duration)"
      ],
      "outputs": [
        {
          "output_type": "stream",
          "name": "stdout",
          "text": [
            "Requirement already satisfied: pubchempy in /usr/local/lib/python3.10/dist-packages (1.0.4)\n",
            "6066.656909942627\n"
          ]
        }
      ],
      "metadata": {
        "colab": {
          "background_save": true,
          "base_uri": "https://localhost:8080/"
        },
        "id": "dCxKK9f0bMeu",
        "outputId": "9783f06b-5735-47bc-85e4-44ab1242524c"
      }
    },
    {
      "cell_type": "code",
      "execution_count": null,
      "source": [
        "data=pd.read_csv('/content/drive/MyDrive/pubchem_20260000_20270000.csv')"
      ],
      "outputs": [],
      "metadata": {
        "id": "Sx94jWcLGhon"
      }
    },
    {
      "cell_type": "code",
      "execution_count": null,
      "source": [
        "import pandas as pd\n",
        "df = pd.read_csv('/content/drive/MyDrive/pubchem_20000k_21000k')\n",
        "!pip install pubchempy\n",
        "import requests\n",
        "from bs4 import BeautifulSoup\n",
        "import re\n",
        "import pubchempy as pcp\n",
        "import pandas as pd\n",
        "def cid_to_sol(id):\n",
        "   x=\"https://pubchem.ncbi.nlm.nih.gov/rest/pug_view/data/compound/%s/xml\"\n",
        "   data=requests.get(x % id)#,timeout=(10,20) )\n",
        "   html = BeautifulSoup(data.content, \"xml\")\n",
        "   solubility = html.find(name='TOCHeading', string='Solubility')\n",
        "   #print(dtype(solubility))\n",
        "   if solubility == None:\n",
        "      return None\n",
        "   #elif          # or pass\n",
        "   else:\n",
        "     solub=solubility.find_next_sibling('Information').find(name='String').string\n",
        "     return solub\n",
        "df2=df.iloc[230000:240000]\n",
        "dfnew1=df2[0:1000]\n",
        "dfnew2=df2[1000:2000]\n",
        "dfnew3=df2[2000:3000]\n",
        "dfnew4=df2[3000:4000]\n",
        "dfnew5=df2[4000:5000]\n",
        "dfnew6=df2[5000:6000]\n",
        "dfnew7=df2[6000:7000]\n",
        "dfnew8=df2[7000:8000]\n",
        "dfnew9=df2[8000:9000]\n",
        "dfnew10=df2[9000:10000]\n",
        "import time\n",
        "start = time.time()\n",
        "#dfnew1 = dfnew1.reset_index()\n",
        "obj=[dfnew1, dfnew2, dfnew3,dfnew4, dfnew5,dfnew6, dfnew7,dfnew8, dfnew9, dfnew10]\n",
        "#obj= [dfnew11, dfnew12, dfnew13,dfnew14, dfnew15, dfnew16,dfnew17, dfnew18, dfnew19,dfnew20]\n",
        "#dfnew1 = dfnew1.reset_index()\n",
        "p_sol_final=[]\n",
        "for j in range(10):\n",
        "    P_sol=[]\n",
        "    for i in range(1000):\n",
        "      try:\n",
        "        time.sleep(0.2) # Sleep for 1 seconds\n",
        "        obj[j] = obj[j].reset_index(drop=True)\n",
        "        sol=cid_to_sol(obj[j].CID[i])\n",
        "        #\n",
        "        P_sol.append(sol)\n",
        "      except AttributeError as e:\n",
        "        sol=='No string'\n",
        "        P_sol.append(sol)\n",
        "    p_sol_final.append(P_sol)\n",
        "df1 = pd.DataFrame(p_sol_final)\n",
        "joinlist = [x for list in p_sol_final for x in list]\n",
        "df1 = pd.DataFrame(joinlist)\n",
        "df=pd.concat(obj)\n",
        "df1 = df1.reset_index(drop=True)\n",
        "df = df.reset_index(drop=True)\n",
        "data = pd.concat([df, df1], axis=1, join='inner')\n",
        "data.to_csv('/content/drive/MyDrive/pubchem_20230000_20240000.csv')\n",
        "end = time.time()\n",
        "duration = end-start\n",
        "print(duration)"
      ],
      "outputs": [
        {
          "output_type": "stream",
          "name": "stdout",
          "text": [
            "Requirement already satisfied: pubchempy in /usr/local/lib/python3.10/dist-packages (1.0.4)\n",
            "4213.850644350052\n"
          ]
        }
      ],
      "metadata": {
        "colab": {
          "base_uri": "https://localhost:8080/"
        },
        "id": "2sZHMuKOcD37",
        "outputId": "37f587f4-9cce-44b5-86a9-945688c7dcc3"
      }
    },
    {
      "cell_type": "code",
      "execution_count": null,
      "source": [
        "import pandas as pd\n",
        "df = pd.read_csv('/content/drive/MyDrive/pubchem_20000k_21000k')\n",
        "!pip install pubchempy\n",
        "import requests\n",
        "from bs4 import BeautifulSoup\n",
        "import re\n",
        "import pubchempy as pcp\n",
        "import pandas as pd\n",
        "def cid_to_sol(id):\n",
        "   x=\"https://pubchem.ncbi.nlm.nih.gov/rest/pug_view/data/compound/%s/xml\"\n",
        "   data=requests.get(x % id)#,timeout=(10,20) )\n",
        "   html = BeautifulSoup(data.content, \"xml\")\n",
        "   solubility = html.find(name='TOCHeading', string='Solubility')\n",
        "   #print(dtype(solubility))\n",
        "   if solubility == None:\n",
        "      return None\n",
        "   #elif          # or pass\n",
        "   else:\n",
        "     solub=solubility.find_next_sibling('Information').find(name='String').string\n",
        "     return solub\n",
        "df2=df.iloc[240000:250000]\n",
        "dfnew1=df2[0:1000]\n",
        "dfnew2=df2[1000:2000]\n",
        "dfnew3=df2[2000:3000]\n",
        "dfnew4=df2[3000:4000]\n",
        "dfnew5=df2[4000:5000]\n",
        "dfnew6=df2[5000:6000]\n",
        "dfnew7=df2[6000:7000]\n",
        "dfnew8=df2[7000:8000]\n",
        "dfnew9=df2[8000:9000]\n",
        "dfnew10=df2[9000:10000]\n",
        "import time\n",
        "start = time.time()\n",
        "#dfnew1 = dfnew1.reset_index()\n",
        "obj=[dfnew1, dfnew2, dfnew3,dfnew4, dfnew5,dfnew6, dfnew7,dfnew8, dfnew9, dfnew10]\n",
        "#obj= [dfnew11, dfnew12, dfnew13,dfnew14, dfnew15, dfnew16,dfnew17, dfnew18, dfnew19,dfnew20]\n",
        "#dfnew1 = dfnew1.reset_index()\n",
        "p_sol_final=[]\n",
        "for j in range(10):\n",
        "    P_sol=[]\n",
        "    for i in range(1000):\n",
        "      try:\n",
        "        time.sleep(0.2) # Sleep for 1 seconds\n",
        "        obj[j] = obj[j].reset_index(drop=True)\n",
        "        sol=cid_to_sol(obj[j].CID[i])\n",
        "        #\n",
        "        P_sol.append(sol)\n",
        "      except AttributeError as e:\n",
        "        sol=='No string'\n",
        "        P_sol.append(sol)\n",
        "    p_sol_final.append(P_sol)\n",
        "df1 = pd.DataFrame(p_sol_final)\n",
        "joinlist = [x for list in p_sol_final for x in list]\n",
        "df1 = pd.DataFrame(joinlist)\n",
        "df=pd.concat(obj)\n",
        "df1 = df1.reset_index(drop=True)\n",
        "df = df.reset_index(drop=True)\n",
        "data = pd.concat([df, df1], axis=1, join='inner')\n",
        "data.to_csv('/content/drive/MyDrive/pubchem_20240000_20250000.csv')\n",
        "end = time.time()\n",
        "duration = end-start\n",
        "print(duration)"
      ],
      "outputs": [
        {
          "output_type": "stream",
          "name": "stdout",
          "text": [
            "Requirement already satisfied: pubchempy in /usr/local/lib/python3.10/dist-packages (1.0.4)\n",
            "4268.814210176468\n"
          ]
        }
      ],
      "metadata": {
        "colab": {
          "base_uri": "https://localhost:8080/"
        },
        "id": "tvfvH3uGcOao",
        "outputId": "90ad7ac8-5f91-4d75-8897-6ead33bd2fea"
      }
    },
    {
      "cell_type": "code",
      "execution_count": null,
      "source": [
        "import pandas as pd\n",
        "df = pd.read_csv('/content/drive/MyDrive/pubchem_20000k_21000k')\n",
        "!pip install pubchempy\n",
        "import requests\n",
        "from bs4 import BeautifulSoup\n",
        "import re\n",
        "import pubchempy as pcp\n",
        "import pandas as pd\n",
        "def cid_to_sol(id):\n",
        "   x=\"https://pubchem.ncbi.nlm.nih.gov/rest/pug_view/data/compound/%s/xml\"\n",
        "   data=requests.get(x % id)#,timeout=(10,20) )\n",
        "   html = BeautifulSoup(data.content, \"xml\")\n",
        "   solubility = html.find(name='TOCHeading', string='Solubility')\n",
        "   #print(dtype(solubility))\n",
        "   if solubility == None:\n",
        "      return None\n",
        "   #elif          # or pass\n",
        "   else:\n",
        "     solub=solubility.find_next_sibling('Information').find(name='String').string\n",
        "     return solub\n",
        "df2=df.iloc[250000:260000]\n",
        "dfnew1=df2[0:1000]\n",
        "dfnew2=df2[1000:2000]\n",
        "dfnew3=df2[2000:3000]\n",
        "dfnew4=df2[3000:4000]\n",
        "dfnew5=df2[4000:5000]\n",
        "dfnew6=df2[5000:6000]\n",
        "dfnew7=df2[6000:7000]\n",
        "dfnew8=df2[7000:8000]\n",
        "dfnew9=df2[8000:9000]\n",
        "dfnew10=df2[9000:10000]\n",
        "import time\n",
        "start = time.time()\n",
        "#dfnew1 = dfnew1.reset_index()\n",
        "obj=[dfnew1, dfnew2, dfnew3,dfnew4, dfnew5,dfnew6, dfnew7,dfnew8, dfnew9, dfnew10]\n",
        "#obj= [dfnew11, dfnew12, dfnew13,dfnew14, dfnew15, dfnew16,dfnew17, dfnew18, dfnew19,dfnew20]\n",
        "#dfnew1 = dfnew1.reset_index()\n",
        "p_sol_final=[]\n",
        "for j in range(10):\n",
        "    P_sol=[]\n",
        "    for i in range(1000):\n",
        "      try:\n",
        "        time.sleep(0.2) # Sleep for 1 seconds\n",
        "        obj[j] = obj[j].reset_index(drop=True)\n",
        "        sol=cid_to_sol(obj[j].CID[i])\n",
        "        #\n",
        "        P_sol.append(sol)\n",
        "      except AttributeError as e:\n",
        "        sol=='No string'\n",
        "        P_sol.append(sol)\n",
        "    p_sol_final.append(P_sol)\n",
        "df1 = pd.DataFrame(p_sol_final)\n",
        "joinlist = [x for list in p_sol_final for x in list]\n",
        "df1 = pd.DataFrame(joinlist)\n",
        "df=pd.concat(obj)\n",
        "df1 = df1.reset_index(drop=True)\n",
        "df = df.reset_index(drop=True)\n",
        "data = pd.concat([df, df1], axis=1, join='inner')\n",
        "data.to_csv('/content/drive/MyDrive/pubchem_20250000_20260000.csv')\n",
        "end = time.time()\n",
        "duration = end-start\n",
        "print(duration)"
      ],
      "outputs": [
        {
          "output_type": "stream",
          "name": "stdout",
          "text": [
            "Requirement already satisfied: pubchempy in /usr/local/lib/python3.10/dist-packages (1.0.4)\n",
            "4284.045051574707\n"
          ]
        }
      ],
      "metadata": {
        "colab": {
          "base_uri": "https://localhost:8080/"
        },
        "id": "ZyxAGcHW7kkZ",
        "outputId": "e1ba10df-2cc2-42eb-f023-f996f890ddeb"
      }
    },
    {
      "cell_type": "code",
      "execution_count": null,
      "source": [
        "import pandas as pd\n",
        "df = pd.read_csv('/content/drive/MyDrive/pubchem_20000k_21000k')\n",
        "!pip install pubchempy\n",
        "import requests\n",
        "from bs4 import BeautifulSoup\n",
        "import re\n",
        "import pubchempy as pcp\n",
        "import pandas as pd\n",
        "def cid_to_sol(id):\n",
        "   x=\"https://pubchem.ncbi.nlm.nih.gov/rest/pug_view/data/compound/%s/xml\"\n",
        "   data=requests.get(x % id)#,timeout=(10,20) )\n",
        "   html = BeautifulSoup(data.content, \"xml\")\n",
        "   solubility = html.find(name='TOCHeading', string='Solubility')\n",
        "   #print(dtype(solubility))\n",
        "   if solubility == None:\n",
        "      return None\n",
        "   #elif          # or pass\n",
        "   else:\n",
        "     solub=solubility.find_next_sibling('Information').find(name='String').string\n",
        "     return solub\n",
        "df2=df.iloc[260000:270000]\n",
        "dfnew1=df2[0:1000]\n",
        "dfnew2=df2[1000:2000]\n",
        "dfnew3=df2[2000:3000]\n",
        "dfnew4=df2[3000:4000]\n",
        "dfnew5=df2[4000:5000]\n",
        "dfnew6=df2[5000:6000]\n",
        "dfnew7=df2[6000:7000]\n",
        "dfnew8=df2[7000:8000]\n",
        "dfnew9=df2[8000:9000]\n",
        "dfnew10=df2[9000:10000]\n",
        "import time\n",
        "start = time.time()\n",
        "#dfnew1 = dfnew1.reset_index()\n",
        "obj=[dfnew1, dfnew2, dfnew3,dfnew4, dfnew5,dfnew6, dfnew7,dfnew8, dfnew9, dfnew10]\n",
        "#obj= [dfnew11, dfnew12, dfnew13,dfnew14, dfnew15, dfnew16,dfnew17, dfnew18, dfnew19,dfnew20]\n",
        "#dfnew1 = dfnew1.reset_index()\n",
        "p_sol_final=[]\n",
        "for j in range(10):\n",
        "    P_sol=[]\n",
        "    for i in range(1000):\n",
        "      try:\n",
        "        time.sleep(0.2) # Sleep for 1 seconds\n",
        "        obj[j] = obj[j].reset_index(drop=True)\n",
        "        sol=cid_to_sol(obj[j].CID[i])\n",
        "        #\n",
        "        P_sol.append(sol)\n",
        "      except AttributeError as e:\n",
        "        sol=='No string'\n",
        "        P_sol.append(sol)\n",
        "    p_sol_final.append(P_sol)\n",
        "df1 = pd.DataFrame(p_sol_final)\n",
        "joinlist = [x for list in p_sol_final for x in list]\n",
        "df1 = pd.DataFrame(joinlist)\n",
        "df=pd.concat(obj)\n",
        "df1 = df1.reset_index(drop=True)\n",
        "df = df.reset_index(drop=True)\n",
        "data = pd.concat([df, df1], axis=1, join='inner')\n",
        "data.to_csv('/content/drive/MyDrive/pubchem_20260000_20270000.csv')\n",
        "end = time.time()\n",
        "duration = end-start\n",
        "print(duration)"
      ],
      "outputs": [
        {
          "output_type": "stream",
          "name": "stdout",
          "text": [
            "Requirement already satisfied: pubchempy in /usr/local/lib/python3.10/dist-packages (1.0.4)\n",
            "4313.86141204834\n"
          ]
        }
      ],
      "metadata": {
        "colab": {
          "background_save": true,
          "base_uri": "https://localhost:8080/"
        },
        "id": "diQQK0927qZh",
        "outputId": "6489fbf0-ba5a-4c2e-e1b6-8c3258ded520"
      }
    },
    {
      "cell_type": "code",
      "execution_count": null,
      "source": [
        "import pandas as pd\n",
        "df = pd.read_csv('/content/drive/MyDrive/pubchem_20000k_21000k')\n",
        "!pip install pubchempy\n",
        "import requests\n",
        "from bs4 import BeautifulSoup\n",
        "import re\n",
        "import pubchempy as pcp\n",
        "import pandas as pd\n",
        "def cid_to_sol(id):\n",
        "   x=\"https://pubchem.ncbi.nlm.nih.gov/rest/pug_view/data/compound/%s/xml\"\n",
        "   data=requests.get(x % id)#,timeout=(10,20) )\n",
        "   html = BeautifulSoup(data.content, \"xml\")\n",
        "   solubility = html.find(name='TOCHeading', string='Solubility')\n",
        "   #print(dtype(solubility))\n",
        "   if solubility == None:\n",
        "      return None\n",
        "   #elif          # or pass\n",
        "   else:\n",
        "     solub=solubility.find_next_sibling('Information').find(name='String').string\n",
        "     return solub\n",
        "df2=df.iloc[270000:280000]\n",
        "dfnew1=df2[0:1000]\n",
        "dfnew2=df2[1000:2000]\n",
        "dfnew3=df2[2000:3000]\n",
        "dfnew4=df2[3000:4000]\n",
        "dfnew5=df2[4000:5000]\n",
        "dfnew6=df2[5000:6000]\n",
        "dfnew7=df2[6000:7000]\n",
        "dfnew8=df2[7000:8000]\n",
        "dfnew9=df2[8000:9000]\n",
        "dfnew10=df2[9000:10000]\n",
        "import time\n",
        "start = time.time()\n",
        "#dfnew1 = dfnew1.reset_index()\n",
        "obj=[dfnew1, dfnew2, dfnew3,dfnew4, dfnew5,dfnew6, dfnew7,dfnew8, dfnew9, dfnew10]\n",
        "#obj= [dfnew11, dfnew12, dfnew13,dfnew14, dfnew15, dfnew16,dfnew17, dfnew18, dfnew19,dfnew20]\n",
        "#dfnew1 = dfnew1.reset_index()\n",
        "p_sol_final=[]\n",
        "for j in range(10):\n",
        "    P_sol=[]\n",
        "    for i in range(1000):\n",
        "      try:\n",
        "        time.sleep(0.2) # Sleep for 1 seconds\n",
        "        obj[j] = obj[j].reset_index(drop=True)\n",
        "        sol=cid_to_sol(obj[j].CID[i])\n",
        "        #\n",
        "        P_sol.append(sol)\n",
        "      except AttributeError as e:\n",
        "        sol=='No string'\n",
        "        P_sol.append(sol)\n",
        "    p_sol_final.append(P_sol)\n",
        "df1 = pd.DataFrame(p_sol_final)\n",
        "joinlist = [x for list in p_sol_final for x in list]\n",
        "df1 = pd.DataFrame(joinlist)\n",
        "df=pd.concat(obj)\n",
        "df1 = df1.reset_index(drop=True)\n",
        "df = df.reset_index(drop=True)\n",
        "data = pd.concat([df, df1], axis=1, join='inner')\n",
        "data.to_csv('/content/drive/MyDrive/pubchem_20270000_20280000.csv')\n",
        "end = time.time()\n",
        "duration = end-start\n",
        "print(duration)"
      ],
      "outputs": [
        {
          "output_type": "stream",
          "name": "stdout",
          "text": [
            "Requirement already satisfied: pubchempy in /usr/local/lib/python3.10/dist-packages (1.0.4)\n",
            "10874.484139680862\n"
          ]
        }
      ],
      "metadata": {
        "colab": {
          "background_save": true,
          "base_uri": "https://localhost:8080/"
        },
        "id": "wbGQV0EZiAeO",
        "outputId": "3f981a40-8249-4414-bc19-76af3c373b3b"
      }
    },
    {
      "cell_type": "code",
      "execution_count": null,
      "source": [
        "import pandas as pd\n",
        "df = pd.read_csv('/content/drive/MyDrive/pubchem_20000k_21000k')\n",
        "!pip install pubchempy\n",
        "import requests\n",
        "from bs4 import BeautifulSoup\n",
        "import re\n",
        "import pubchempy as pcp\n",
        "import pandas as pd\n",
        "def cid_to_sol(id):\n",
        "   x=\"https://pubchem.ncbi.nlm.nih.gov/rest/pug_view/data/compound/%s/xml\"\n",
        "   data=requests.get(x % id)#,timeout=(10,20) )\n",
        "   html = BeautifulSoup(data.content, \"xml\")\n",
        "   solubility = html.find(name='TOCHeading', string='Solubility')\n",
        "   #print(dtype(solubility))\n",
        "   if solubility == None:\n",
        "      return None\n",
        "   #elif          # or pass\n",
        "   else:\n",
        "     solub=solubility.find_next_sibling('Information').find(name='String').string\n",
        "     return solub\n",
        "df2=df.iloc[280000:290000]\n",
        "dfnew1=df2[0:1000]\n",
        "dfnew2=df2[1000:2000]\n",
        "dfnew3=df2[2000:3000]\n",
        "dfnew4=df2[3000:4000]\n",
        "dfnew5=df2[4000:5000]\n",
        "dfnew6=df2[5000:6000]\n",
        "dfnew7=df2[6000:7000]\n",
        "dfnew8=df2[7000:8000]\n",
        "dfnew9=df2[8000:9000]\n",
        "dfnew10=df2[9000:10000]\n",
        "import time\n",
        "start = time.time()\n",
        "#dfnew1 = dfnew1.reset_index()\n",
        "obj=[dfnew1, dfnew2, dfnew3,dfnew4, dfnew5,dfnew6, dfnew7,dfnew8, dfnew9, dfnew10]\n",
        "#obj= [dfnew11, dfnew12, dfnew13,dfnew14, dfnew15, dfnew16,dfnew17, dfnew18, dfnew19,dfnew20]\n",
        "#dfnew1 = dfnew1.reset_index()\n",
        "p_sol_final=[]\n",
        "for j in range(10):\n",
        "    P_sol=[]\n",
        "    for i in range(1000):\n",
        "      try:\n",
        "        time.sleep(0.2) # Sleep for 1 seconds\n",
        "        obj[j] = obj[j].reset_index(drop=True)\n",
        "        sol=cid_to_sol(obj[j].CID[i])\n",
        "        #\n",
        "        P_sol.append(sol)\n",
        "      except AttributeError as e:\n",
        "        sol=='No string'\n",
        "        P_sol.append(sol)\n",
        "    p_sol_final.append(P_sol)\n",
        "df1 = pd.DataFrame(p_sol_final)\n",
        "joinlist = [x for list in p_sol_final for x in list]\n",
        "df1 = pd.DataFrame(joinlist)\n",
        "df=pd.concat(obj)\n",
        "df1 = df1.reset_index(drop=True)\n",
        "df = df.reset_index(drop=True)\n",
        "data = pd.concat([df, df1], axis=1, join='inner')\n",
        "data.to_csv('/content/drive/MyDrive/pubchem_20280000_20290000.csv')\n",
        "end = time.time()\n",
        "duration = end-start\n",
        "print(duration)"
      ],
      "outputs": [
        {
          "output_type": "stream",
          "name": "stdout",
          "text": [
            "Requirement already satisfied: pubchempy in /usr/local/lib/python3.10/dist-packages (1.0.4)\n",
            "10799.550745725632\n"
          ]
        }
      ],
      "metadata": {
        "colab": {
          "background_save": true
        },
        "id": "pv2XtMUR4zNI",
        "outputId": "d235c39a-55b7-4d8f-c16c-a4c0ed1db4e2"
      }
    },
    {
      "cell_type": "code",
      "execution_count": null,
      "source": [
        "import pandas as pd\n",
        "df = pd.read_csv('/content/drive/MyDrive/pubchem_20000k_21000k')\n",
        "!pip install pubchempy\n",
        "import requests\n",
        "from bs4 import BeautifulSoup\n",
        "import re\n",
        "import pubchempy as pcp\n",
        "import pandas as pd\n",
        "def cid_to_sol(id):\n",
        "   x=\"https://pubchem.ncbi.nlm.nih.gov/rest/pug_view/data/compound/%s/xml\"\n",
        "   data=requests.get(x % id)#,timeout=(10,20) )\n",
        "   html = BeautifulSoup(data.content, \"xml\")\n",
        "   solubility = html.find(name='TOCHeading', string='Solubility')\n",
        "   #print(dtype(solubility))\n",
        "   if solubility == None:\n",
        "      return None\n",
        "   #elif          # or pass\n",
        "   else:\n",
        "     solub=solubility.find_next_sibling('Information').find(name='String').string\n",
        "     return solub\n",
        "df2=df.iloc[290000:300000]\n",
        "dfnew1=df2[0:1000]\n",
        "dfnew2=df2[1000:2000]\n",
        "dfnew3=df2[2000:3000]\n",
        "dfnew4=df2[3000:4000]\n",
        "dfnew5=df2[4000:5000]\n",
        "dfnew6=df2[5000:6000]\n",
        "dfnew7=df2[6000:7000]\n",
        "dfnew8=df2[7000:8000]\n",
        "dfnew9=df2[8000:9000]\n",
        "dfnew10=df2[9000:10000]\n",
        "import time\n",
        "start = time.time()\n",
        "#dfnew1 = dfnew1.reset_index()\n",
        "obj=[dfnew1, dfnew2, dfnew3,dfnew4, dfnew5,dfnew6, dfnew7,dfnew8, dfnew9, dfnew10]\n",
        "#obj= [dfnew11, dfnew12, dfnew13,dfnew14, dfnew15, dfnew16,dfnew17, dfnew18, dfnew19,dfnew20]\n",
        "#dfnew1 = dfnew1.reset_index()\n",
        "p_sol_final=[]\n",
        "for j in range(10):\n",
        "    P_sol=[]\n",
        "    for i in range(1000):\n",
        "      try:\n",
        "        time.sleep(0.2) # Sleep for 1 seconds\n",
        "        obj[j] = obj[j].reset_index(drop=True)\n",
        "        sol=cid_to_sol(obj[j].CID[i])\n",
        "        #\n",
        "        P_sol.append(sol)\n",
        "      except AttributeError as e:\n",
        "        sol=='No string'\n",
        "        P_sol.append(sol)\n",
        "    p_sol_final.append(P_sol)\n",
        "df1 = pd.DataFrame(p_sol_final)\n",
        "joinlist = [x for list in p_sol_final for x in list]\n",
        "df1 = pd.DataFrame(joinlist)\n",
        "df=pd.concat(obj)\n",
        "df1 = df1.reset_index(drop=True)\n",
        "df = df.reset_index(drop=True)\n",
        "data = pd.concat([df, df1], axis=1, join='inner')\n",
        "data.to_csv('/content/drive/MyDrive/pubchem_20290000_20300000.csv')\n",
        "end = time.time()\n",
        "duration = end-start\n",
        "print(duration)"
      ],
      "outputs": [],
      "metadata": {
        "id": "8crgKSx6jqGK"
      }
    }
  ],
  "metadata": {
    "colab": {
      "provenance": []
    },
    "gpuClass": "standard",
    "kernelspec": {
      "name": "python3",
      "display_name": "Python 3.9.5 64-bit ('base': conda)"
    },
    "language_info": {
      "name": "python",
      "version": "3.9.5",
      "mimetype": "text/x-python",
      "codemirror_mode": {
        "name": "ipython",
        "version": 3
      },
      "pygments_lexer": "ipython3",
      "nbconvert_exporter": "python",
      "file_extension": ".py"
    },
    "interpreter": {
      "hash": "569d6b7e9215e11aba41c6454007e5c1b78bad7df09dab765d8cf00362c40f03"
    }
  },
  "nbformat": 4,
  "nbformat_minor": 2
}