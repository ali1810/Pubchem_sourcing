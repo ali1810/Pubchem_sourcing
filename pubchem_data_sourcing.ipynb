{
  "cells": [
    {
      "cell_type": "code",
      "execution_count": null,
      "metadata": {
        "colab": {
          "base_uri": "https://localhost:8080/"
        },
        "id": "wt82IefwMqJH",
        "outputId": "a61a2da0-aa44-4bd3-f53a-b6529c6b52c9"
      },
      "outputs": [
        {
          "output_type": "stream",
          "name": "stdout",
          "text": [
            "Collecting pubchempy\n",
            "  Downloading PubChemPy-1.0.4.tar.gz (29 kB)\n",
            "  Preparing metadata (setup.py) ... \u001b[?25l\u001b[?25hdone\n",
            "Building wheels for collected packages: pubchempy\n",
            "  Building wheel for pubchempy (setup.py) ... \u001b[?25l\u001b[?25hdone\n",
            "  Created wheel for pubchempy: filename=PubChemPy-1.0.4-py3-none-any.whl size=13820 sha256=c1fe5a9fde16d2c1d500b6ca4bfc581fefbfba3a86fe75e1186944b744bd1aa6\n",
            "  Stored in directory: /root/.cache/pip/wheels/90/7c/45/18a0671e3c3316966ef7ed9ad2b3f3300a7e41d3421a44e799\n",
            "Successfully built pubchempy\n",
            "Installing collected packages: pubchempy\n",
            "Successfully installed pubchempy-1.0.4\n"
          ]
        }
      ],
      "source": [
        "##install pubchem python library\n",
        "!pip install pubchempy"
      ]
    },
    {
      "cell_type": "code",
      "execution_count": null,
      "metadata": {
        "id": "spuule1WLNOv"
      },
      "outputs": [],
      "source": [
        "import requests\n",
        "from bs4 import BeautifulSoup\n",
        "import re\n",
        "import pubchempy as pcp\n",
        "import pandas as pd"
      ]
    },
    {
      "cell_type": "code",
      "execution_count": null,
      "metadata": {
        "colab": {
          "base_uri": "https://localhost:8080/"
        },
        "id": "M391UllfM9Nl",
        "outputId": "103f6737-9a21-4564-9025-4c95ecad3618"
      },
      "outputs": [
        {
          "output_type": "stream",
          "name": "stdout",
          "text": [
            "Mounted at /content/drive\n"
          ]
        }
      ],
      "source": [
        "## Mount drive to access the dataset from google drive\n",
        "from google.colab import drive\n",
        "drive.mount('/content/drive')\n",
        "\n"
      ]
    },
    {
      "cell_type": "code",
      "execution_count": null,
      "metadata": {
        "id": "VPV0EFvG7LVf"
      },
      "outputs": [],
      "source": [
        "### Function to srap the data from PubChem\n",
        "def cid_to_sol(id):\n",
        "   x=\"https://pubchem.ncbi.nlm.nih.gov/rest/pug_view/data/compound/%s/xml\"\n",
        "   data=requests.get(x % id)#,timeout=(10,20) )\n",
        "   html = BeautifulSoup(data.content, \"xml\")\n",
        "   solubility = html.find(name='TOCHeading', string='Solubility')\n",
        "   #print(dtype(solubility))\n",
        "   if solubility == None:\n",
        "      return None\n",
        "   #elif          # or pass\n",
        "   else:\n",
        "     solub=solubility.find_next_sibling('Information').find(name='String').string\n",
        "     return solub"
      ]
    },
    {
      "cell_type": "code",
      "source": [
        "df = pd.read_csv('/content/drive/MyDrive/pubchem_20000k_21000k')"
      ],
      "metadata": {
        "id": "Fue7OKtuJZC8"
      },
      "execution_count": null,
      "outputs": []
    },
    {
      "cell_type": "code",
      "source": [
        "print(len(df))"
      ],
      "metadata": {
        "colab": {
          "base_uri": "https://localhost:8080/"
        },
        "id": "ub4o0b1YJu7S",
        "outputId": "b285ad2f-23f7-4b4f-d2d8-0927a0147f95"
      },
      "execution_count": null,
      "outputs": [
        {
          "output_type": "stream",
          "name": "stdout",
          "text": [
            "1000000\n"
          ]
        }
      ]
    },
    {
      "cell_type": "code",
      "execution_count": null,
      "metadata": {
        "colab": {
          "background_save": true,
          "base_uri": "https://localhost:8080/"
        },
        "id": "9vBkQNhKbMhy",
        "outputId": "19679216-8366-4992-ad4e-1de307dea712"
      },
      "outputs": [
        {
          "name": "stdout",
          "output_type": "stream",
          "text": [
            "Requirement already satisfied: pubchempy in /usr/local/lib/python3.10/dist-packages (1.0.4)\n",
            "3789.4090712070465\n"
          ]
        }
      ],
      "source": [
        "import pandas as pd\n",
        "!pip install pubchempy\n",
        "import requests\n",
        "from bs4 import BeautifulSoup\n",
        "import re\n",
        "import pubchempy as pcp\n",
        "import pandas as pd\n",
        "df2=df.iloc[200000:210000]\n",
        "dfnew1=df2[0:1000]\n",
        "dfnew2=df2[1000:2000]\n",
        "dfnew3=df2[2000:3000]\n",
        "dfnew4=df2[3000:4000]\n",
        "dfnew5=df2[4000:5000]\n",
        "dfnew6=df2[5000:6000]\n",
        "dfnew7=df2[6000:7000]\n",
        "dfnew8=df2[7000:8000]\n",
        "dfnew9=df2[8000:9000]\n",
        "dfnew10=df2[9000:10000]\n",
        "import time\n",
        "start = time.time()\n",
        "#dfnew1 = dfnew1.reset_index()\n",
        "obj=[dfnew1, dfnew2, dfnew3,dfnew4, dfnew5,dfnew6, dfnew7,dfnew8, dfnew9, dfnew10]\n",
        "#obj= [dfnew11, dfnew12, dfnew13,dfnew14, dfnew15, dfnew16,dfnew17, dfnew18, dfnew19,dfnew20]\n",
        "#dfnew1 = dfnew1.reset_index()\n",
        "p_sol_final=[]\n",
        "for j in range(10):\n",
        "    P_sol=[]\n",
        "    for i in range(1000):\n",
        "      try:\n",
        "        time.sleep(0.2) # Sleep for 1 seconds\n",
        "        obj[j] = obj[j].reset_index(drop=True)\n",
        "        sol=cid_to_sol(obj[j].CID[i])\n",
        "        #\n",
        "        P_sol.append(sol)\n",
        "      except AttributeError as e:\n",
        "        sol=='No string'\n",
        "        P_sol.append(sol)\n",
        "    p_sol_final.append(P_sol)\n",
        "df1 = pd.DataFrame(p_sol_final)\n",
        "joinlist = [x for list in p_sol_final for x in list]\n",
        "df1 = pd.DataFrame(joinlist)\n",
        "df=pd.concat(obj)\n",
        "df1 = df1.reset_index(drop=True)\n",
        "df = df.reset_index(drop=True)\n",
        "data = pd.concat([df, df1], axis=1, join='inner')\n",
        "data.to_csv('/content/drive/MyDrive/pubchem_20100000_20210000.csv')\n",
        "end = time.time()\n",
        "duration = end-start\n",
        "print(duration)"
      ]
    },
    {
      "cell_type": "code",
      "execution_count": null,
      "metadata": {
        "colab": {
          "base_uri": "https://localhost:8080/"
        },
        "id": "lfN3uI6aapLi",
        "outputId": "b8232ca5-270f-4003-d705-0b8279b2d654"
      },
      "outputs": [
        {
          "name": "stdout",
          "output_type": "stream",
          "text": [
            "Requirement already satisfied: pubchempy in /usr/local/lib/python3.10/dist-packages (1.0.4)\n",
            "6074.94059920311\n"
          ]
        }
      ],
      "source": [
        "import pandas as pd\n",
        "df = pd.read_csv('/content/drive/MyDrive/pubchem_20000k_21000k')\n",
        "!pip install pubchempy\n",
        "import requests\n",
        "from bs4 import BeautifulSoup\n",
        "import re\n",
        "import pubchempy as pcp\n",
        "import pandas as pd\n",
        "def cid_to_sol(id):\n",
        "   x=\"https://pubchem.ncbi.nlm.nih.gov/rest/pug_view/data/compound/%s/xml\"\n",
        "   data=requests.get(x % id)#,timeout=(10,20) )\n",
        "   html = BeautifulSoup(data.content, \"xml\")\n",
        "   solubility = html.find(name='TOCHeading', string='Solubility')\n",
        "   #print(dtype(solubility))\n",
        "   if solubility == None:\n",
        "      return None\n",
        "   #elif          # or pass\n",
        "   else:\n",
        "     solub=solubility.find_next_sibling('Information').find(name='String').string\n",
        "     return solub\n",
        "df2=df.iloc[210000:220000]\n",
        "dfnew1=df2[0:1000]\n",
        "dfnew2=df2[1000:2000]\n",
        "dfnew3=df2[2000:3000]\n",
        "dfnew4=df2[3000:4000]\n",
        "dfnew5=df2[4000:5000]\n",
        "dfnew6=df2[5000:6000]\n",
        "dfnew7=df2[6000:7000]\n",
        "dfnew8=df2[7000:8000]\n",
        "dfnew9=df2[8000:9000]\n",
        "dfnew10=df2[9000:10000]\n",
        "import time\n",
        "start = time.time()\n",
        "#dfnew1 = dfnew1.reset_index()\n",
        "obj=[dfnew1, dfnew2, dfnew3,dfnew4, dfnew5,dfnew6, dfnew7,dfnew8, dfnew9, dfnew10]\n",
        "#obj= [dfnew11, dfnew12, dfnew13,dfnew14, dfnew15, dfnew16,dfnew17, dfnew18, dfnew19,dfnew20]\n",
        "#dfnew1 = dfnew1.reset_index()\n",
        "p_sol_final=[]\n",
        "for j in range(10):\n",
        "    P_sol=[]\n",
        "    for i in range(1000):\n",
        "      try:\n",
        "        time.sleep(0.2) # Sleep for 1 seconds\n",
        "        obj[j] = obj[j].reset_index(drop=True)\n",
        "        sol=cid_to_sol(obj[j].CID[i])\n",
        "        #\n",
        "        P_sol.append(sol)\n",
        "      except AttributeError as e:\n",
        "        sol=='No string'\n",
        "        P_sol.append(sol)\n",
        "    p_sol_final.append(P_sol)\n",
        "df1 = pd.DataFrame(p_sol_final)\n",
        "joinlist = [x for list in p_sol_final for x in list]\n",
        "df1 = pd.DataFrame(joinlist)\n",
        "df=pd.concat(obj)\n",
        "df1 = df1.reset_index(drop=True)\n",
        "df = df.reset_index(drop=True)\n",
        "data = pd.concat([df, df1], axis=1, join='inner')\n",
        "data.to_csv('/content/drive/MyDrive/pubchem_20210000_20220000.csv')\n",
        "end = time.time()\n",
        "duration = end-start\n",
        "print(duration)"
      ]
    },
    {
      "cell_type": "code",
      "execution_count": null,
      "metadata": {
        "colab": {
          "background_save": true,
          "base_uri": "https://localhost:8080/"
        },
        "id": "dCxKK9f0bMeu",
        "outputId": "9783f06b-5735-47bc-85e4-44ab1242524c"
      },
      "outputs": [
        {
          "name": "stdout",
          "output_type": "stream",
          "text": [
            "Requirement already satisfied: pubchempy in /usr/local/lib/python3.10/dist-packages (1.0.4)\n",
            "6066.656909942627\n"
          ]
        }
      ],
      "source": [
        "import pandas as pd\n",
        "df = pd.read_csv('/content/drive/MyDrive/pubchem_20000k_21000k')\n",
        "!pip install pubchempy\n",
        "import requests\n",
        "from bs4 import BeautifulSoup\n",
        "import re\n",
        "import pubchempy as pcp\n",
        "import pandas as pd\n",
        "def cid_to_sol(id):\n",
        "   x=\"https://pubchem.ncbi.nlm.nih.gov/rest/pug_view/data/compound/%s/xml\"\n",
        "   data=requests.get(x % id)#,timeout=(10,20) )\n",
        "   html = BeautifulSoup(data.content, \"xml\")\n",
        "   solubility = html.find(name='TOCHeading', string='Solubility')\n",
        "   #print(dtype(solubility))\n",
        "   if solubility == None:\n",
        "      return None\n",
        "   #elif          # or pass\n",
        "   else:\n",
        "     solub=solubility.find_next_sibling('Information').find(name='String').string\n",
        "     return solub\n",
        "df2=df.iloc[220000:230000]\n",
        "dfnew1=df2[0:1000]\n",
        "dfnew2=df2[1000:2000]\n",
        "dfnew3=df2[2000:3000]\n",
        "dfnew4=df2[3000:4000]\n",
        "dfnew5=df2[4000:5000]\n",
        "dfnew6=df2[5000:6000]\n",
        "dfnew7=df2[6000:7000]\n",
        "dfnew8=df2[7000:8000]\n",
        "dfnew9=df2[8000:9000]\n",
        "dfnew10=df2[9000:10000]\n",
        "import time\n",
        "start = time.time()\n",
        "#dfnew1 = dfnew1.reset_index()\n",
        "obj=[dfnew1, dfnew2, dfnew3,dfnew4, dfnew5,dfnew6, dfnew7,dfnew8, dfnew9, dfnew10]\n",
        "#obj= [dfnew11, dfnew12, dfnew13,dfnew14, dfnew15, dfnew16,dfnew17, dfnew18, dfnew19,dfnew20]\n",
        "#dfnew1 = dfnew1.reset_index()\n",
        "p_sol_final=[]\n",
        "for j in range(10):\n",
        "    P_sol=[]\n",
        "    for i in range(1000):\n",
        "      try:\n",
        "        time.sleep(0.2) # Sleep for 1 seconds\n",
        "        obj[j] = obj[j].reset_index(drop=True)\n",
        "        sol=cid_to_sol(obj[j].CID[i])\n",
        "        #\n",
        "        P_sol.append(sol)\n",
        "      except AttributeError as e:\n",
        "        sol=='No string'\n",
        "        P_sol.append(sol)\n",
        "    p_sol_final.append(P_sol)\n",
        "df1 = pd.DataFrame(p_sol_final)\n",
        "joinlist = [x for list in p_sol_final for x in list]\n",
        "df1 = pd.DataFrame(joinlist)\n",
        "df=pd.concat(obj)\n",
        "df1 = df1.reset_index(drop=True)\n",
        "df = df.reset_index(drop=True)\n",
        "data = pd.concat([df, df1], axis=1, join='inner')\n",
        "data.to_csv('/content/drive/MyDrive/pubchem_20220000_20230000.csv')\n",
        "end = time.time()\n",
        "duration = end-start\n",
        "print(duration)"
      ]
    },
    {
      "cell_type": "code",
      "execution_count": null,
      "metadata": {
        "id": "Sx94jWcLGhon"
      },
      "outputs": [],
      "source": [
        "data=pd.read_csv('/content/drive/MyDrive/pubchem_20260000_20270000.csv')"
      ]
    },
    {
      "cell_type": "code",
      "execution_count": null,
      "metadata": {
        "colab": {
          "base_uri": "https://localhost:8080/"
        },
        "id": "2sZHMuKOcD37",
        "outputId": "37f587f4-9cce-44b5-86a9-945688c7dcc3"
      },
      "outputs": [
        {
          "name": "stdout",
          "output_type": "stream",
          "text": [
            "Requirement already satisfied: pubchempy in /usr/local/lib/python3.10/dist-packages (1.0.4)\n",
            "4213.850644350052\n"
          ]
        }
      ],
      "source": [
        "import pandas as pd\n",
        "df = pd.read_csv('/content/drive/MyDrive/pubchem_20000k_21000k')\n",
        "!pip install pubchempy\n",
        "import requests\n",
        "from bs4 import BeautifulSoup\n",
        "import re\n",
        "import pubchempy as pcp\n",
        "import pandas as pd\n",
        "def cid_to_sol(id):\n",
        "   x=\"https://pubchem.ncbi.nlm.nih.gov/rest/pug_view/data/compound/%s/xml\"\n",
        "   data=requests.get(x % id)#,timeout=(10,20) )\n",
        "   html = BeautifulSoup(data.content, \"xml\")\n",
        "   solubility = html.find(name='TOCHeading', string='Solubility')\n",
        "   #print(dtype(solubility))\n",
        "   if solubility == None:\n",
        "      return None\n",
        "   #elif          # or pass\n",
        "   else:\n",
        "     solub=solubility.find_next_sibling('Information').find(name='String').string\n",
        "     return solub\n",
        "df2=df.iloc[230000:240000]\n",
        "dfnew1=df2[0:1000]\n",
        "dfnew2=df2[1000:2000]\n",
        "dfnew3=df2[2000:3000]\n",
        "dfnew4=df2[3000:4000]\n",
        "dfnew5=df2[4000:5000]\n",
        "dfnew6=df2[5000:6000]\n",
        "dfnew7=df2[6000:7000]\n",
        "dfnew8=df2[7000:8000]\n",
        "dfnew9=df2[8000:9000]\n",
        "dfnew10=df2[9000:10000]\n",
        "import time\n",
        "start = time.time()\n",
        "#dfnew1 = dfnew1.reset_index()\n",
        "obj=[dfnew1, dfnew2, dfnew3,dfnew4, dfnew5,dfnew6, dfnew7,dfnew8, dfnew9, dfnew10]\n",
        "#obj= [dfnew11, dfnew12, dfnew13,dfnew14, dfnew15, dfnew16,dfnew17, dfnew18, dfnew19,dfnew20]\n",
        "#dfnew1 = dfnew1.reset_index()\n",
        "p_sol_final=[]\n",
        "for j in range(10):\n",
        "    P_sol=[]\n",
        "    for i in range(1000):\n",
        "      try:\n",
        "        time.sleep(0.2) # Sleep for 1 seconds\n",
        "        obj[j] = obj[j].reset_index(drop=True)\n",
        "        sol=cid_to_sol(obj[j].CID[i])\n",
        "        #\n",
        "        P_sol.append(sol)\n",
        "      except AttributeError as e:\n",
        "        sol=='No string'\n",
        "        P_sol.append(sol)\n",
        "    p_sol_final.append(P_sol)\n",
        "df1 = pd.DataFrame(p_sol_final)\n",
        "joinlist = [x for list in p_sol_final for x in list]\n",
        "df1 = pd.DataFrame(joinlist)\n",
        "df=pd.concat(obj)\n",
        "df1 = df1.reset_index(drop=True)\n",
        "df = df.reset_index(drop=True)\n",
        "data = pd.concat([df, df1], axis=1, join='inner')\n",
        "data.to_csv('/content/drive/MyDrive/pubchem_20230000_20240000.csv')\n",
        "end = time.time()\n",
        "duration = end-start\n",
        "print(duration)"
      ]
    },
    {
      "cell_type": "code",
      "execution_count": null,
      "metadata": {
        "colab": {
          "base_uri": "https://localhost:8080/"
        },
        "id": "tvfvH3uGcOao",
        "outputId": "90ad7ac8-5f91-4d75-8897-6ead33bd2fea"
      },
      "outputs": [
        {
          "name": "stdout",
          "output_type": "stream",
          "text": [
            "Requirement already satisfied: pubchempy in /usr/local/lib/python3.10/dist-packages (1.0.4)\n",
            "4268.814210176468\n"
          ]
        }
      ],
      "source": [
        "import pandas as pd\n",
        "df = pd.read_csv('/content/drive/MyDrive/pubchem_20000k_21000k')\n",
        "!pip install pubchempy\n",
        "import requests\n",
        "from bs4 import BeautifulSoup\n",
        "import re\n",
        "import pubchempy as pcp\n",
        "import pandas as pd\n",
        "def cid_to_sol(id):\n",
        "   x=\"https://pubchem.ncbi.nlm.nih.gov/rest/pug_view/data/compound/%s/xml\"\n",
        "   data=requests.get(x % id)#,timeout=(10,20) )\n",
        "   html = BeautifulSoup(data.content, \"xml\")\n",
        "   solubility = html.find(name='TOCHeading', string='Solubility')\n",
        "   #print(dtype(solubility))\n",
        "   if solubility == None:\n",
        "      return None\n",
        "   #elif          # or pass\n",
        "   else:\n",
        "     solub=solubility.find_next_sibling('Information').find(name='String').string\n",
        "     return solub\n",
        "df2=df.iloc[240000:250000]\n",
        "dfnew1=df2[0:1000]\n",
        "dfnew2=df2[1000:2000]\n",
        "dfnew3=df2[2000:3000]\n",
        "dfnew4=df2[3000:4000]\n",
        "dfnew5=df2[4000:5000]\n",
        "dfnew6=df2[5000:6000]\n",
        "dfnew7=df2[6000:7000]\n",
        "dfnew8=df2[7000:8000]\n",
        "dfnew9=df2[8000:9000]\n",
        "dfnew10=df2[9000:10000]\n",
        "import time\n",
        "start = time.time()\n",
        "#dfnew1 = dfnew1.reset_index()\n",
        "obj=[dfnew1, dfnew2, dfnew3,dfnew4, dfnew5,dfnew6, dfnew7,dfnew8, dfnew9, dfnew10]\n",
        "#obj= [dfnew11, dfnew12, dfnew13,dfnew14, dfnew15, dfnew16,dfnew17, dfnew18, dfnew19,dfnew20]\n",
        "#dfnew1 = dfnew1.reset_index()\n",
        "p_sol_final=[]\n",
        "for j in range(10):\n",
        "    P_sol=[]\n",
        "    for i in range(1000):\n",
        "      try:\n",
        "        time.sleep(0.2) # Sleep for 1 seconds\n",
        "        obj[j] = obj[j].reset_index(drop=True)\n",
        "        sol=cid_to_sol(obj[j].CID[i])\n",
        "        #\n",
        "        P_sol.append(sol)\n",
        "      except AttributeError as e:\n",
        "        sol=='No string'\n",
        "        P_sol.append(sol)\n",
        "    p_sol_final.append(P_sol)\n",
        "df1 = pd.DataFrame(p_sol_final)\n",
        "joinlist = [x for list in p_sol_final for x in list]\n",
        "df1 = pd.DataFrame(joinlist)\n",
        "df=pd.concat(obj)\n",
        "df1 = df1.reset_index(drop=True)\n",
        "df = df.reset_index(drop=True)\n",
        "data = pd.concat([df, df1], axis=1, join='inner')\n",
        "data.to_csv('/content/drive/MyDrive/pubchem_20240000_20250000.csv')\n",
        "end = time.time()\n",
        "duration = end-start\n",
        "print(duration)"
      ]
    },
    {
      "cell_type": "code",
      "execution_count": null,
      "metadata": {
        "colab": {
          "base_uri": "https://localhost:8080/"
        },
        "id": "ZyxAGcHW7kkZ",
        "outputId": "e1ba10df-2cc2-42eb-f023-f996f890ddeb"
      },
      "outputs": [
        {
          "name": "stdout",
          "output_type": "stream",
          "text": [
            "Requirement already satisfied: pubchempy in /usr/local/lib/python3.10/dist-packages (1.0.4)\n",
            "4284.045051574707\n"
          ]
        }
      ],
      "source": [
        "import pandas as pd\n",
        "df = pd.read_csv('/content/drive/MyDrive/pubchem_20000k_21000k')\n",
        "!pip install pubchempy\n",
        "import requests\n",
        "from bs4 import BeautifulSoup\n",
        "import re\n",
        "import pubchempy as pcp\n",
        "import pandas as pd\n",
        "def cid_to_sol(id):\n",
        "   x=\"https://pubchem.ncbi.nlm.nih.gov/rest/pug_view/data/compound/%s/xml\"\n",
        "   data=requests.get(x % id)#,timeout=(10,20) )\n",
        "   html = BeautifulSoup(data.content, \"xml\")\n",
        "   solubility = html.find(name='TOCHeading', string='Solubility')\n",
        "   #print(dtype(solubility))\n",
        "   if solubility == None:\n",
        "      return None\n",
        "   #elif          # or pass\n",
        "   else:\n",
        "     solub=solubility.find_next_sibling('Information').find(name='String').string\n",
        "     return solub\n",
        "df2=df.iloc[250000:260000]\n",
        "dfnew1=df2[0:1000]\n",
        "dfnew2=df2[1000:2000]\n",
        "dfnew3=df2[2000:3000]\n",
        "dfnew4=df2[3000:4000]\n",
        "dfnew5=df2[4000:5000]\n",
        "dfnew6=df2[5000:6000]\n",
        "dfnew7=df2[6000:7000]\n",
        "dfnew8=df2[7000:8000]\n",
        "dfnew9=df2[8000:9000]\n",
        "dfnew10=df2[9000:10000]\n",
        "import time\n",
        "start = time.time()\n",
        "#dfnew1 = dfnew1.reset_index()\n",
        "obj=[dfnew1, dfnew2, dfnew3,dfnew4, dfnew5,dfnew6, dfnew7,dfnew8, dfnew9, dfnew10]\n",
        "#obj= [dfnew11, dfnew12, dfnew13,dfnew14, dfnew15, dfnew16,dfnew17, dfnew18, dfnew19,dfnew20]\n",
        "#dfnew1 = dfnew1.reset_index()\n",
        "p_sol_final=[]\n",
        "for j in range(10):\n",
        "    P_sol=[]\n",
        "    for i in range(1000):\n",
        "      try:\n",
        "        time.sleep(0.2) # Sleep for 1 seconds\n",
        "        obj[j] = obj[j].reset_index(drop=True)\n",
        "        sol=cid_to_sol(obj[j].CID[i])\n",
        "        #\n",
        "        P_sol.append(sol)\n",
        "      except AttributeError as e:\n",
        "        sol=='No string'\n",
        "        P_sol.append(sol)\n",
        "    p_sol_final.append(P_sol)\n",
        "df1 = pd.DataFrame(p_sol_final)\n",
        "joinlist = [x for list in p_sol_final for x in list]\n",
        "df1 = pd.DataFrame(joinlist)\n",
        "df=pd.concat(obj)\n",
        "df1 = df1.reset_index(drop=True)\n",
        "df = df.reset_index(drop=True)\n",
        "data = pd.concat([df, df1], axis=1, join='inner')\n",
        "data.to_csv('/content/drive/MyDrive/pubchem_20250000_20260000.csv')\n",
        "end = time.time()\n",
        "duration = end-start\n",
        "print(duration)"
      ]
    },
    {
      "cell_type": "code",
      "execution_count": null,
      "metadata": {
        "colab": {
          "background_save": true,
          "base_uri": "https://localhost:8080/"
        },
        "id": "diQQK0927qZh",
        "outputId": "6489fbf0-ba5a-4c2e-e1b6-8c3258ded520"
      },
      "outputs": [
        {
          "name": "stdout",
          "output_type": "stream",
          "text": [
            "Requirement already satisfied: pubchempy in /usr/local/lib/python3.10/dist-packages (1.0.4)\n",
            "4313.86141204834\n"
          ]
        }
      ],
      "source": [
        "import pandas as pd\n",
        "df = pd.read_csv('/content/drive/MyDrive/pubchem_20000k_21000k')\n",
        "!pip install pubchempy\n",
        "import requests\n",
        "from bs4 import BeautifulSoup\n",
        "import re\n",
        "import pubchempy as pcp\n",
        "import pandas as pd\n",
        "def cid_to_sol(id):\n",
        "   x=\"https://pubchem.ncbi.nlm.nih.gov/rest/pug_view/data/compound/%s/xml\"\n",
        "   data=requests.get(x % id)#,timeout=(10,20) )\n",
        "   html = BeautifulSoup(data.content, \"xml\")\n",
        "   solubility = html.find(name='TOCHeading', string='Solubility')\n",
        "   #print(dtype(solubility))\n",
        "   if solubility == None:\n",
        "      return None\n",
        "   #elif          # or pass\n",
        "   else:\n",
        "     solub=solubility.find_next_sibling('Information').find(name='String').string\n",
        "     return solub\n",
        "df2=df.iloc[260000:270000]\n",
        "dfnew1=df2[0:1000]\n",
        "dfnew2=df2[1000:2000]\n",
        "dfnew3=df2[2000:3000]\n",
        "dfnew4=df2[3000:4000]\n",
        "dfnew5=df2[4000:5000]\n",
        "dfnew6=df2[5000:6000]\n",
        "dfnew7=df2[6000:7000]\n",
        "dfnew8=df2[7000:8000]\n",
        "dfnew9=df2[8000:9000]\n",
        "dfnew10=df2[9000:10000]\n",
        "import time\n",
        "start = time.time()\n",
        "#dfnew1 = dfnew1.reset_index()\n",
        "obj=[dfnew1, dfnew2, dfnew3,dfnew4, dfnew5,dfnew6, dfnew7,dfnew8, dfnew9, dfnew10]\n",
        "#obj= [dfnew11, dfnew12, dfnew13,dfnew14, dfnew15, dfnew16,dfnew17, dfnew18, dfnew19,dfnew20]\n",
        "#dfnew1 = dfnew1.reset_index()\n",
        "p_sol_final=[]\n",
        "for j in range(10):\n",
        "    P_sol=[]\n",
        "    for i in range(1000):\n",
        "      try:\n",
        "        time.sleep(0.2) # Sleep for 1 seconds\n",
        "        obj[j] = obj[j].reset_index(drop=True)\n",
        "        sol=cid_to_sol(obj[j].CID[i])\n",
        "        #\n",
        "        P_sol.append(sol)\n",
        "      except AttributeError as e:\n",
        "        sol=='No string'\n",
        "        P_sol.append(sol)\n",
        "    p_sol_final.append(P_sol)\n",
        "df1 = pd.DataFrame(p_sol_final)\n",
        "joinlist = [x for list in p_sol_final for x in list]\n",
        "df1 = pd.DataFrame(joinlist)\n",
        "df=pd.concat(obj)\n",
        "df1 = df1.reset_index(drop=True)\n",
        "df = df.reset_index(drop=True)\n",
        "data = pd.concat([df, df1], axis=1, join='inner')\n",
        "data.to_csv('/content/drive/MyDrive/pubchem_20260000_20270000.csv')\n",
        "end = time.time()\n",
        "duration = end-start\n",
        "print(duration)"
      ]
    },
    {
      "cell_type": "code",
      "execution_count": null,
      "metadata": {
        "colab": {
          "background_save": true,
          "base_uri": "https://localhost:8080/"
        },
        "id": "wbGQV0EZiAeO",
        "outputId": "3f981a40-8249-4414-bc19-76af3c373b3b"
      },
      "outputs": [
        {
          "name": "stdout",
          "output_type": "stream",
          "text": [
            "Requirement already satisfied: pubchempy in /usr/local/lib/python3.10/dist-packages (1.0.4)\n",
            "10874.484139680862\n"
          ]
        }
      ],
      "source": [
        "import pandas as pd\n",
        "df = pd.read_csv('/content/drive/MyDrive/pubchem_20000k_21000k')\n",
        "!pip install pubchempy\n",
        "import requests\n",
        "from bs4 import BeautifulSoup\n",
        "import re\n",
        "import pubchempy as pcp\n",
        "import pandas as pd\n",
        "def cid_to_sol(id):\n",
        "   x=\"https://pubchem.ncbi.nlm.nih.gov/rest/pug_view/data/compound/%s/xml\"\n",
        "   data=requests.get(x % id)#,timeout=(10,20) )\n",
        "   html = BeautifulSoup(data.content, \"xml\")\n",
        "   solubility = html.find(name='TOCHeading', string='Solubility')\n",
        "   #print(dtype(solubility))\n",
        "   if solubility == None:\n",
        "      return None\n",
        "   #elif          # or pass\n",
        "   else:\n",
        "     solub=solubility.find_next_sibling('Information').find(name='String').string\n",
        "     return solub\n",
        "df2=df.iloc[270000:280000]\n",
        "dfnew1=df2[0:1000]\n",
        "dfnew2=df2[1000:2000]\n",
        "dfnew3=df2[2000:3000]\n",
        "dfnew4=df2[3000:4000]\n",
        "dfnew5=df2[4000:5000]\n",
        "dfnew6=df2[5000:6000]\n",
        "dfnew7=df2[6000:7000]\n",
        "dfnew8=df2[7000:8000]\n",
        "dfnew9=df2[8000:9000]\n",
        "dfnew10=df2[9000:10000]\n",
        "import time\n",
        "start = time.time()\n",
        "#dfnew1 = dfnew1.reset_index()\n",
        "obj=[dfnew1, dfnew2, dfnew3,dfnew4, dfnew5,dfnew6, dfnew7,dfnew8, dfnew9, dfnew10]\n",
        "#obj= [dfnew11, dfnew12, dfnew13,dfnew14, dfnew15, dfnew16,dfnew17, dfnew18, dfnew19,dfnew20]\n",
        "#dfnew1 = dfnew1.reset_index()\n",
        "p_sol_final=[]\n",
        "for j in range(10):\n",
        "    P_sol=[]\n",
        "    for i in range(1000):\n",
        "      try:\n",
        "        time.sleep(0.2) # Sleep for 1 seconds\n",
        "        obj[j] = obj[j].reset_index(drop=True)\n",
        "        sol=cid_to_sol(obj[j].CID[i])\n",
        "        #\n",
        "        P_sol.append(sol)\n",
        "      except AttributeError as e:\n",
        "        sol=='No string'\n",
        "        P_sol.append(sol)\n",
        "    p_sol_final.append(P_sol)\n",
        "df1 = pd.DataFrame(p_sol_final)\n",
        "joinlist = [x for list in p_sol_final for x in list]\n",
        "df1 = pd.DataFrame(joinlist)\n",
        "df=pd.concat(obj)\n",
        "df1 = df1.reset_index(drop=True)\n",
        "df = df.reset_index(drop=True)\n",
        "data = pd.concat([df, df1], axis=1, join='inner')\n",
        "data.to_csv('/content/drive/MyDrive/pubchem_20270000_20280000.csv')\n",
        "end = time.time()\n",
        "duration = end-start\n",
        "print(duration)"
      ]
    },
    {
      "cell_type": "code",
      "execution_count": null,
      "metadata": {
        "colab": {
          "background_save": true
        },
        "id": "pv2XtMUR4zNI",
        "outputId": "d235c39a-55b7-4d8f-c16c-a4c0ed1db4e2"
      },
      "outputs": [
        {
          "name": "stdout",
          "output_type": "stream",
          "text": [
            "Requirement already satisfied: pubchempy in /usr/local/lib/python3.10/dist-packages (1.0.4)\n",
            "10799.550745725632\n"
          ]
        }
      ],
      "source": [
        "import pandas as pd\n",
        "df = pd.read_csv('/content/drive/MyDrive/pubchem_20000k_21000k')\n",
        "!pip install pubchempy\n",
        "import requests\n",
        "from bs4 import BeautifulSoup\n",
        "import re\n",
        "import pubchempy as pcp\n",
        "import pandas as pd\n",
        "def cid_to_sol(id):\n",
        "   x=\"https://pubchem.ncbi.nlm.nih.gov/rest/pug_view/data/compound/%s/xml\"\n",
        "   data=requests.get(x % id)#,timeout=(10,20) )\n",
        "   html = BeautifulSoup(data.content, \"xml\")\n",
        "   solubility = html.find(name='TOCHeading', string='Solubility')\n",
        "   #print(dtype(solubility))\n",
        "   if solubility == None:\n",
        "      return None\n",
        "   #elif          # or pass\n",
        "   else:\n",
        "     solub=solubility.find_next_sibling('Information').find(name='String').string\n",
        "     return solub\n",
        "df2=df.iloc[280000:290000]\n",
        "dfnew1=df2[0:1000]\n",
        "dfnew2=df2[1000:2000]\n",
        "dfnew3=df2[2000:3000]\n",
        "dfnew4=df2[3000:4000]\n",
        "dfnew5=df2[4000:5000]\n",
        "dfnew6=df2[5000:6000]\n",
        "dfnew7=df2[6000:7000]\n",
        "dfnew8=df2[7000:8000]\n",
        "dfnew9=df2[8000:9000]\n",
        "dfnew10=df2[9000:10000]\n",
        "import time\n",
        "start = time.time()\n",
        "#dfnew1 = dfnew1.reset_index()\n",
        "obj=[dfnew1, dfnew2, dfnew3,dfnew4, dfnew5,dfnew6, dfnew7,dfnew8, dfnew9, dfnew10]\n",
        "#obj= [dfnew11, dfnew12, dfnew13,dfnew14, dfnew15, dfnew16,dfnew17, dfnew18, dfnew19,dfnew20]\n",
        "#dfnew1 = dfnew1.reset_index()\n",
        "p_sol_final=[]\n",
        "for j in range(10):\n",
        "    P_sol=[]\n",
        "    for i in range(1000):\n",
        "      try:\n",
        "        time.sleep(0.2) # Sleep for 1 seconds\n",
        "        obj[j] = obj[j].reset_index(drop=True)\n",
        "        sol=cid_to_sol(obj[j].CID[i])\n",
        "        #\n",
        "        P_sol.append(sol)\n",
        "      except AttributeError as e:\n",
        "        sol=='No string'\n",
        "        P_sol.append(sol)\n",
        "    p_sol_final.append(P_sol)\n",
        "df1 = pd.DataFrame(p_sol_final)\n",
        "joinlist = [x for list in p_sol_final for x in list]\n",
        "df1 = pd.DataFrame(joinlist)\n",
        "df=pd.concat(obj)\n",
        "df1 = df1.reset_index(drop=True)\n",
        "df = df.reset_index(drop=True)\n",
        "data = pd.concat([df, df1], axis=1, join='inner')\n",
        "data.to_csv('/content/drive/MyDrive/pubchem_20280000_20290000.csv')\n",
        "end = time.time()\n",
        "duration = end-start\n",
        "print(duration)"
      ]
    },
    {
      "cell_type": "code",
      "execution_count": null,
      "metadata": {
        "id": "8crgKSx6jqGK"
      },
      "outputs": [],
      "source": [
        "import pandas as pd\n",
        "df = pd.read_csv('/content/drive/MyDrive/pubchem_20000k_21000k')\n",
        "!pip install pubchempy\n",
        "import requests\n",
        "from bs4 import BeautifulSoup\n",
        "import re\n",
        "import pubchempy as pcp\n",
        "import pandas as pd\n",
        "def cid_to_sol(id):\n",
        "   x=\"https://pubchem.ncbi.nlm.nih.gov/rest/pug_view/data/compound/%s/xml\"\n",
        "   data=requests.get(x % id)#,timeout=(10,20) )\n",
        "   html = BeautifulSoup(data.content, \"xml\")\n",
        "   solubility = html.find(name='TOCHeading', string='Solubility')\n",
        "   #print(dtype(solubility))\n",
        "   if solubility == None:\n",
        "      return None\n",
        "   #elif          # or pass\n",
        "   else:\n",
        "     solub=solubility.find_next_sibling('Information').find(name='String').string\n",
        "     return solub\n",
        "df2=df.iloc[290000:300000]\n",
        "dfnew1=df2[0:1000]\n",
        "dfnew2=df2[1000:2000]\n",
        "dfnew3=df2[2000:3000]\n",
        "dfnew4=df2[3000:4000]\n",
        "dfnew5=df2[4000:5000]\n",
        "dfnew6=df2[5000:6000]\n",
        "dfnew7=df2[6000:7000]\n",
        "dfnew8=df2[7000:8000]\n",
        "dfnew9=df2[8000:9000]\n",
        "dfnew10=df2[9000:10000]\n",
        "import time\n",
        "start = time.time()\n",
        "#dfnew1 = dfnew1.reset_index()\n",
        "obj=[dfnew1, dfnew2, dfnew3,dfnew4, dfnew5,dfnew6, dfnew7,dfnew8, dfnew9, dfnew10]\n",
        "#obj= [dfnew11, dfnew12, dfnew13,dfnew14, dfnew15, dfnew16,dfnew17, dfnew18, dfnew19,dfnew20]\n",
        "#dfnew1 = dfnew1.reset_index()\n",
        "p_sol_final=[]\n",
        "for j in range(10):\n",
        "    P_sol=[]\n",
        "    for i in range(1000):\n",
        "      try:\n",
        "        time.sleep(0.2) # Sleep for 1 seconds\n",
        "        obj[j] = obj[j].reset_index(drop=True)\n",
        "        sol=cid_to_sol(obj[j].CID[i])\n",
        "        #\n",
        "        P_sol.append(sol)\n",
        "      except AttributeError as e:\n",
        "        sol=='No string'\n",
        "        P_sol.append(sol)\n",
        "    p_sol_final.append(P_sol)\n",
        "df1 = pd.DataFrame(p_sol_final)\n",
        "joinlist = [x for list in p_sol_final for x in list]\n",
        "df1 = pd.DataFrame(joinlist)\n",
        "df=pd.concat(obj)\n",
        "df1 = df1.reset_index(drop=True)\n",
        "df = df.reset_index(drop=True)\n",
        "data = pd.concat([df, df1], axis=1, join='inner')\n",
        "data.to_csv('/content/drive/MyDrive/pubchem_20290000_20300000.csv')\n",
        "end = time.time()\n",
        "duration = end-start\n",
        "print(duration)"
      ]
    }
  ],
  "metadata": {
    "colab": {
      "provenance": []
    },
    "gpuClass": "standard",
    "kernelspec": {
      "display_name": "Python 3",
      "name": "python3"
    },
    "language_info": {
      "name": "python"
    }
  },
  "nbformat": 4,
  "nbformat_minor": 0
}