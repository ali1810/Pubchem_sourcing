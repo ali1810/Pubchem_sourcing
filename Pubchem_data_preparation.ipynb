{
 "cells": [
  {
   "cell_type": "code",
   "execution_count": null,
   "source": [
    "### In order to get the data from Pubchem need CID (Compound id number) along with smiles \n",
    "#for unfiltered SMILES of every CID in PubChem, the URL is \n",
    "#####       ftp://ftp.ncbi.nlm.nih.gov/pubchem/Compound/Extras/CID-SMILES.gz"
   ],
   "outputs": [],
   "metadata": {}
  },
  {
   "cell_type": "code",
   "execution_count": 1,
   "source": [
    "### Make the dataframe of the csv file \n",
    "import pandas as pd\n",
    "data1=pd.read_csv('/Users/mushtaqali/Downloads/CID-SMILES.csv')"
   ],
   "outputs": [],
   "metadata": {}
  },
  {
   "cell_type": "code",
   "execution_count": 2,
   "source": [
    "### Total number of compound in pubchem database with smiles and cid \n",
    "### 111.4 million compounds present in the pubchem database  \n",
    "print(len(data1))"
   ],
   "outputs": [
    {
     "output_type": "stream",
     "name": "stdout",
     "text": [
      "111403063\n"
     ]
    }
   ],
   "metadata": {}
  },
  {
   "cell_type": "code",
   "execution_count": 4,
   "source": [
    "##snapshot of the dataframe\n",
    "data1"
   ],
   "outputs": [
    {
     "output_type": "execute_result",
     "data": {
      "text/html": [
       "<div>\n",
       "<style scoped>\n",
       "    .dataframe tbody tr th:only-of-type {\n",
       "        vertical-align: middle;\n",
       "    }\n",
       "\n",
       "    .dataframe tbody tr th {\n",
       "        vertical-align: top;\n",
       "    }\n",
       "\n",
       "    .dataframe thead th {\n",
       "        text-align: right;\n",
       "    }\n",
       "</style>\n",
       "<table border=\"1\" class=\"dataframe\">\n",
       "  <thead>\n",
       "    <tr style=\"text-align: right;\">\n",
       "      <th></th>\n",
       "      <th>1\\tCC(=O)OC(CC(=O)[O-])C[N+](C)(C)C</th>\n",
       "    </tr>\n",
       "  </thead>\n",
       "  <tbody>\n",
       "    <tr>\n",
       "      <th>0</th>\n",
       "      <td>2\\tCC(=O)OC(CC(=O)O)C[N+](C)(C)C</td>\n",
       "    </tr>\n",
       "    <tr>\n",
       "      <th>1</th>\n",
       "      <td>3\\tC1=CC(C(C(=C1)C(=O)O)O)O</td>\n",
       "    </tr>\n",
       "    <tr>\n",
       "      <th>2</th>\n",
       "      <td>4\\tCC(CN)O</td>\n",
       "    </tr>\n",
       "    <tr>\n",
       "      <th>3</th>\n",
       "      <td>5\\tC(C(=O)COP(=O)(O)O)N</td>\n",
       "    </tr>\n",
       "    <tr>\n",
       "      <th>4</th>\n",
       "      <td>6\\tC1=CC(=C(C=C1[N+](=O)[O-])[N+](=O)[O-])Cl</td>\n",
       "    </tr>\n",
       "    <tr>\n",
       "      <th>...</th>\n",
       "      <td>...</td>\n",
       "    </tr>\n",
       "    <tr>\n",
       "      <th>111403058</th>\n",
       "      <td>163319706\\tCCCCC1COC2=CC=CC\\3=C2N1C=C/C3=C\\C(=...</td>\n",
       "    </tr>\n",
       "    <tr>\n",
       "      <th>111403059</th>\n",
       "      <td>163319707\\tCOC1=CC(=CC(=C1O)CN2CCCCC2)/C=C\\3/C...</td>\n",
       "    </tr>\n",
       "    <tr>\n",
       "      <th>111403060</th>\n",
       "      <td>163319708\\tCC(C)C1=C[C@@]23CC[C@@H]4[C@@]([C@H...</td>\n",
       "    </tr>\n",
       "    <tr>\n",
       "      <th>111403061</th>\n",
       "      <td>163319709\\tCOC1=CC(=CC(=C1O)CN2CCOCC2)/C=C\\3/C...</td>\n",
       "    </tr>\n",
       "    <tr>\n",
       "      <th>111403062</th>\n",
       "      <td>163319710\\tC[C@H]1[C@@H]2CC[C@]3([C@H]([C@]2(C...</td>\n",
       "    </tr>\n",
       "  </tbody>\n",
       "</table>\n",
       "<p>111403063 rows × 1 columns</p>\n",
       "</div>"
      ],
      "text/plain": [
       "                         1\\tCC(=O)OC(CC(=O)[O-])C[N+](C)(C)C\n",
       "0                           2\\tCC(=O)OC(CC(=O)O)C[N+](C)(C)C\n",
       "1                                3\\tC1=CC(C(C(=C1)C(=O)O)O)O\n",
       "2                                                 4\\tCC(CN)O\n",
       "3                                    5\\tC(C(=O)COP(=O)(O)O)N\n",
       "4               6\\tC1=CC(=C(C=C1[N+](=O)[O-])[N+](=O)[O-])Cl\n",
       "...                                                      ...\n",
       "111403058  163319706\\tCCCCC1COC2=CC=CC\\3=C2N1C=C/C3=C\\C(=...\n",
       "111403059  163319707\\tCOC1=CC(=CC(=C1O)CN2CCCCC2)/C=C\\3/C...\n",
       "111403060  163319708\\tCC(C)C1=C[C@@]23CC[C@@H]4[C@@]([C@H...\n",
       "111403061  163319709\\tCOC1=CC(=CC(=C1O)CN2CCOCC2)/C=C\\3/C...\n",
       "111403062  163319710\\tC[C@H]1[C@@H]2CC[C@]3([C@H]([C@]2(C...\n",
       "\n",
       "[111403063 rows x 1 columns]"
      ]
     },
     "metadata": {},
     "execution_count": 4
    }
   ],
   "metadata": {}
  },
  {
   "cell_type": "code",
   "execution_count": 5,
   "source": [
    "### Keeping the name of the column smiles \n",
    "data1.columns =['SMILES']"
   ],
   "outputs": [],
   "metadata": {}
  },
  {
   "cell_type": "code",
   "execution_count": 6,
   "source": [
    "data1.head(5)"
   ],
   "outputs": [
    {
     "output_type": "execute_result",
     "data": {
      "text/html": [
       "<div>\n",
       "<style scoped>\n",
       "    .dataframe tbody tr th:only-of-type {\n",
       "        vertical-align: middle;\n",
       "    }\n",
       "\n",
       "    .dataframe tbody tr th {\n",
       "        vertical-align: top;\n",
       "    }\n",
       "\n",
       "    .dataframe thead th {\n",
       "        text-align: right;\n",
       "    }\n",
       "</style>\n",
       "<table border=\"1\" class=\"dataframe\">\n",
       "  <thead>\n",
       "    <tr style=\"text-align: right;\">\n",
       "      <th></th>\n",
       "      <th>SMILES</th>\n",
       "    </tr>\n",
       "  </thead>\n",
       "  <tbody>\n",
       "    <tr>\n",
       "      <th>0</th>\n",
       "      <td>2\\tCC(=O)OC(CC(=O)O)C[N+](C)(C)C</td>\n",
       "    </tr>\n",
       "    <tr>\n",
       "      <th>1</th>\n",
       "      <td>3\\tC1=CC(C(C(=C1)C(=O)O)O)O</td>\n",
       "    </tr>\n",
       "    <tr>\n",
       "      <th>2</th>\n",
       "      <td>4\\tCC(CN)O</td>\n",
       "    </tr>\n",
       "    <tr>\n",
       "      <th>3</th>\n",
       "      <td>5\\tC(C(=O)COP(=O)(O)O)N</td>\n",
       "    </tr>\n",
       "    <tr>\n",
       "      <th>4</th>\n",
       "      <td>6\\tC1=CC(=C(C=C1[N+](=O)[O-])[N+](=O)[O-])Cl</td>\n",
       "    </tr>\n",
       "  </tbody>\n",
       "</table>\n",
       "</div>"
      ],
      "text/plain": [
       "                                         SMILES\n",
       "0              2\\tCC(=O)OC(CC(=O)O)C[N+](C)(C)C\n",
       "1                   3\\tC1=CC(C(C(=C1)C(=O)O)O)O\n",
       "2                                    4\\tCC(CN)O\n",
       "3                       5\\tC(C(=O)COP(=O)(O)O)N\n",
       "4  6\\tC1=CC(=C(C=C1[N+](=O)[O-])[N+](=O)[O-])Cl"
      ]
     },
     "metadata": {},
     "execution_count": 6
    }
   ],
   "metadata": {}
  },
  {
   "cell_type": "code",
   "execution_count": null,
   "source": [
    "### separating the cid from smiles  \n",
    "data2 =data1.SMILES.str.split('\\t').str[0]"
   ],
   "outputs": [],
   "metadata": {}
  },
  {
   "cell_type": "code",
   "execution_count": 7,
   "source": [
    "data2.head()"
   ],
   "outputs": [
    {
     "output_type": "execute_result",
     "data": {
      "text/plain": [
       "0                    2\n",
       "1                    3\n",
       "2                    4\n",
       "3                    5\n",
       "4                    6\n",
       "               ...    \n",
       "111403058    163319706\n",
       "111403059    163319707\n",
       "111403060    163319708\n",
       "111403061    163319709\n",
       "111403062    163319710\n",
       "Name: SMILES, Length: 111403063, dtype: object"
      ]
     },
     "metadata": {},
     "execution_count": 7
    }
   ],
   "metadata": {}
  },
  {
   "cell_type": "code",
   "execution_count": 8,
   "source": [
    "### Separating the smiles \n",
    "data3 =data1.SMILES.str.split('\\t').str[1]"
   ],
   "outputs": [],
   "metadata": {}
  },
  {
   "cell_type": "code",
   "execution_count": 9,
   "source": [
    "data3.head(5)"
   ],
   "outputs": [
    {
     "output_type": "execute_result",
     "data": {
      "text/plain": [
       "0                CC(=O)OC(CC(=O)O)C[N+](C)(C)C\n",
       "1                     C1=CC(C(C(=C1)C(=O)O)O)O\n",
       "2                                      CC(CN)O\n",
       "3                         C(C(=O)COP(=O)(O)O)N\n",
       "4    C1=CC(=C(C=C1[N+](=O)[O-])[N+](=O)[O-])Cl\n",
       "Name: SMILES, dtype: object"
      ]
     },
     "metadata": {},
     "execution_count": 9
    }
   ],
   "metadata": {}
  },
  {
   "cell_type": "code",
   "execution_count": 10,
   "source": [
    "### Combining the smiles and CID and ins single dataframe \n",
    "data_final=pd.concat([data2,data3], axis=1)\n",
    "\n"
   ],
   "outputs": [],
   "metadata": {}
  },
  {
   "cell_type": "code",
   "execution_count": 30,
   "source": [
    "### Giving the column name \n",
    "data_final.columns = ['CID', 'SMILES']"
   ],
   "outputs": [],
   "metadata": {}
  },
  {
   "cell_type": "code",
   "execution_count": 31,
   "source": [
    "data_final "
   ],
   "outputs": [
    {
     "output_type": "execute_result",
     "data": {
      "text/html": [
       "<div>\n",
       "<style scoped>\n",
       "    .dataframe tbody tr th:only-of-type {\n",
       "        vertical-align: middle;\n",
       "    }\n",
       "\n",
       "    .dataframe tbody tr th {\n",
       "        vertical-align: top;\n",
       "    }\n",
       "\n",
       "    .dataframe thead th {\n",
       "        text-align: right;\n",
       "    }\n",
       "</style>\n",
       "<table border=\"1\" class=\"dataframe\">\n",
       "  <thead>\n",
       "    <tr style=\"text-align: right;\">\n",
       "      <th></th>\n",
       "      <th>CID</th>\n",
       "      <th>SMILES</th>\n",
       "    </tr>\n",
       "  </thead>\n",
       "  <tbody>\n",
       "    <tr>\n",
       "      <th>0</th>\n",
       "      <td>2</td>\n",
       "      <td>CC(=O)OC(CC(=O)O)C[N+](C)(C)C</td>\n",
       "    </tr>\n",
       "    <tr>\n",
       "      <th>1</th>\n",
       "      <td>3</td>\n",
       "      <td>C1=CC(C(C(=C1)C(=O)O)O)O</td>\n",
       "    </tr>\n",
       "    <tr>\n",
       "      <th>2</th>\n",
       "      <td>4</td>\n",
       "      <td>CC(CN)O</td>\n",
       "    </tr>\n",
       "    <tr>\n",
       "      <th>3</th>\n",
       "      <td>5</td>\n",
       "      <td>C(C(=O)COP(=O)(O)O)N</td>\n",
       "    </tr>\n",
       "    <tr>\n",
       "      <th>4</th>\n",
       "      <td>6</td>\n",
       "      <td>C1=CC(=C(C=C1[N+](=O)[O-])[N+](=O)[O-])Cl</td>\n",
       "    </tr>\n",
       "    <tr>\n",
       "      <th>...</th>\n",
       "      <td>...</td>\n",
       "      <td>...</td>\n",
       "    </tr>\n",
       "    <tr>\n",
       "      <th>111403058</th>\n",
       "      <td>163319706</td>\n",
       "      <td>CCCCC1COC2=CC=CC\\3=C2N1C=C/C3=C\\C(=O)N(C)C4=CC...</td>\n",
       "    </tr>\n",
       "    <tr>\n",
       "      <th>111403059</th>\n",
       "      <td>163319707</td>\n",
       "      <td>COC1=CC(=CC(=C1O)CN2CCCCC2)/C=C\\3/C(=O)/C(=C/C...</td>\n",
       "    </tr>\n",
       "    <tr>\n",
       "      <th>111403060</th>\n",
       "      <td>163319708</td>\n",
       "      <td>CC(C)C1=C[C@@]23CC[C@@H]4[C@@]([C@H]2C[C@@H]1[...</td>\n",
       "    </tr>\n",
       "    <tr>\n",
       "      <th>111403061</th>\n",
       "      <td>163319709</td>\n",
       "      <td>COC1=CC(=CC(=C1O)CN2CCOCC2)/C=C\\3/C(=O)/C(=C/C...</td>\n",
       "    </tr>\n",
       "    <tr>\n",
       "      <th>111403062</th>\n",
       "      <td>163319710</td>\n",
       "      <td>C[C@H]1[C@@H]2CC[C@]3([C@H]([C@]2(CC[C@@H]1N4C...</td>\n",
       "    </tr>\n",
       "  </tbody>\n",
       "</table>\n",
       "<p>111403063 rows × 2 columns</p>\n",
       "</div>"
      ],
      "text/plain": [
       "                 CID                                             SMILES\n",
       "0                  2                      CC(=O)OC(CC(=O)O)C[N+](C)(C)C\n",
       "1                  3                           C1=CC(C(C(=C1)C(=O)O)O)O\n",
       "2                  4                                            CC(CN)O\n",
       "3                  5                               C(C(=O)COP(=O)(O)O)N\n",
       "4                  6          C1=CC(=C(C=C1[N+](=O)[O-])[N+](=O)[O-])Cl\n",
       "...              ...                                                ...\n",
       "111403058  163319706  CCCCC1COC2=CC=CC\\3=C2N1C=C/C3=C\\C(=O)N(C)C4=CC...\n",
       "111403059  163319707  COC1=CC(=CC(=C1O)CN2CCCCC2)/C=C\\3/C(=O)/C(=C/C...\n",
       "111403060  163319708  CC(C)C1=C[C@@]23CC[C@@H]4[C@@]([C@H]2C[C@@H]1[...\n",
       "111403061  163319709  COC1=CC(=CC(=C1O)CN2CCOCC2)/C=C\\3/C(=O)/C(=C/C...\n",
       "111403062  163319710  C[C@H]1[C@@H]2CC[C@]3([C@H]([C@]2(CC[C@@H]1N4C...\n",
       "\n",
       "[111403063 rows x 2 columns]"
      ]
     },
     "metadata": {},
     "execution_count": 31
    }
   ],
   "metadata": {}
  },
  {
   "cell_type": "code",
   "execution_count": null,
   "source": [
    "### Saving the final dataframe with CID and smiles in csv file \n",
    "data_final.to_csv('/users/mushtaqali/Downloads/CID-SMILES-fine.csv')"
   ],
   "outputs": [],
   "metadata": {}
  },
  {
   "cell_type": "code",
   "execution_count": 1,
   "source": [
    "### importing data from the disk \n",
    "import pandas as pd \n",
    "data=pd.read_csv('/users/mushtaqali/Downloads/CID-SMILES-fine.csv')"
   ],
   "outputs": [],
   "metadata": {}
  },
  {
   "cell_type": "code",
   "execution_count": 2,
   "source": [
    "\n",
    "print(len(data))"
   ],
   "outputs": [
    {
     "output_type": "stream",
     "name": "stdout",
     "text": [
      "111403063\n"
     ]
    }
   ],
   "metadata": {}
  },
  {
   "cell_type": "code",
   "execution_count": 3,
   "source": [
    "### deviding the dataframe in chunks of  1 millions \n",
    "data1=data[0:1000000]\n",
    "data2=data[1000000:2000000]\n",
    "data3=data[2000000:3000000]\n",
    "data4=data[3000000:4000000]\n",
    "data5=data[4000000:5000000]\n",
    "data6=data[5000000:6000000]\n",
    "data7=data[6000000:7000000]\n",
    "data8=data[7000000:8000000]\n",
    "data9=data[8000000:9000000]\n",
    "data10=data[9000000:10000000]"
   ],
   "outputs": [],
   "metadata": {}
  },
  {
   "cell_type": "code",
   "execution_count": 14,
   "source": [
    "### size of single chunks of smiles \n",
    "print(len(data1))"
   ],
   "outputs": [
    {
     "output_type": "stream",
     "name": "stdout",
     "text": [
      "1000000\n"
     ]
    }
   ],
   "metadata": {}
  },
  {
   "cell_type": "code",
   "execution_count": 6,
   "source": [
    "### Making csv file of every chunks of 1 million smiles \n",
    "data1.to_csv('/users/mushtaqali/Downloads/pubchem/pubchem_0k_1000k')\n",
    "data2.to_csv('/users/mushtaqali/Downloads/pubchem/pubchem_1000k_2000k')\n",
    "data3.to_csv('/users/mushtaqali/Downloads/pubchem/pubchem_2000k_3000k')\n",
    "data4.to_csv('/users/mushtaqali/Downloads/pubchem/pubchem_3000k_4000k')\n",
    "data5.to_csv('/users/mushtaqali/Downloads/pubchem/pubchem_4000k_5000k')\n",
    "data6.to_csv('/users/mushtaqali/Downloads/pubchem/pubchem_5000k_6000k')\n",
    "data7.to_csv('/users/mushtaqali/Downloads/pubchem/pubchem_6000k_7000k')\n",
    "data8.to_csv('/users/mushtaqali/Downloads/pubchem/pubchem_7000k_8000k')\n",
    "data9.to_csv('/users/mushtaqali/Downloads/pubchem/pubchem_8000k_9000k')\n",
    "data10.to_csv('/users/mushtaqali/Downloads/pubchem/pubchem_9000k_10000k')\n"
   ],
   "outputs": [],
   "metadata": {}
  }
 ],
 "metadata": {
  "orig_nbformat": 4,
  "language_info": {
   "name": "python",
   "version": "3.8.11",
   "mimetype": "text/x-python",
   "codemirror_mode": {
    "name": "ipython",
    "version": 3
   },
   "pygments_lexer": "ipython3",
   "nbconvert_exporter": "python",
   "file_extension": ".py"
  },
  "kernelspec": {
   "name": "python3",
   "display_name": "Python 3.8.11 64-bit ('tensorflow': conda)"
  },
  "interpreter": {
   "hash": "d36e255458e31a29f527eb52fefea68899c70442c5f8ed7f862cc396cd8e7941"
  }
 },
 "nbformat": 4,
 "nbformat_minor": 2
}